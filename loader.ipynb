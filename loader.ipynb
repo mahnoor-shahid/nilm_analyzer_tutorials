{
 "cells": [
  {
   "cell_type": "code",
   "execution_count": 1,
   "id": "04e04564-120b-45d4-9b89-d25f25420603",
   "metadata": {},
   "outputs": [
    {
     "name": "stdout",
     "output_type": "stream",
     "text": [
      "heeeeey initttt\n"
     ]
    }
   ],
   "source": [
    "from loader.loader import REFIT_Loader"
   ]
  },
  {
   "cell_type": "code",
   "execution_count": 2,
   "id": "4629c85d-1fe0-48af-9c87-d5a727f5bd3c",
   "metadata": {},
   "outputs": [],
   "source": [
    "# ob = CSV_Loader()\n",
    "# global collective_dataset\n",
    "# collective_dataset = ob._load_file_via_dask(csv_file_path=general_config['DATA_FOLDER'])\n",
    "# keys_of_appliances = parser(general_config['README_FILE'])\n",
    "\n",
    "# for house_number in collective_dataset:\n",
    "#     cols = keys_of_appliances[str(house_number)]\n",
    "#     collective_dataset[house_number] = collective_dataset[house_number].rename(columns={\"Appliance1\":cols[1], \"Appliance2\":cols[2], \"Appliance3\":cols[3], \"Appliance4\":cols[4], \"Appliance5\":cols[5],\n",
    "#                                        \"Appliance6\":cols[6], \"Appliance7\":cols[7], \"Appliance8\":cols[8], \"Appliance9\":cols[9]})"
   ]
  },
  {
   "cell_type": "code",
   "execution_count": 3,
   "id": "908cd34c-a862-4fcb-8335-1b7100fb8fef",
   "metadata": {},
   "outputs": [],
   "source": [
    "# %%time\n"
   ]
  },
  {
   "cell_type": "code",
   "execution_count": 4,
   "id": "fd768483-abd0-42e5-a488-045e0f505f35",
   "metadata": {},
   "outputs": [
    {
     "data": {
      "text/plain": [
       "'Loading specified buildings: [1, 2, 3, 4, 5, 6, 7, 8, 9, 10, 11, 12, 13, 15, 16, 17, 18, 19, 20, 21]'"
      ]
     },
     "metadata": {},
     "output_type": "display_data"
    },
    {
     "data": {
      "text/plain": [
       "'Parsing the readme file specified: data/refit/REFIT_Readme.txt'"
      ]
     },
     "metadata": {},
     "output_type": "display_data"
    }
   ],
   "source": [
    "c = REFIT_Loader()"
   ]
  },
  {
   "cell_type": "code",
   "execution_count": 5,
   "id": "14676015-31c3-48a5-891c-4fa4af9be7f8",
   "metadata": {},
   "outputs": [
    {
     "data": {
      "text/plain": [
       "'Fetching data for House = '"
      ]
     },
     "metadata": {},
     "output_type": "display_data"
    },
    {
     "data": {
      "text/plain": [
       "2"
      ]
     },
     "metadata": {},
     "output_type": "display_data"
    },
    {
     "name": "stdout",
     "output_type": "stream",
     "text": [
      "Wall time: 4.95 s\n"
     ]
    }
   ],
   "source": [
    "%%time\n",
    "HOUSE1 = c.get_house_data(2)"
   ]
  },
  {
   "cell_type": "code",
   "execution_count": null,
   "id": "61c7cfdb-db72-47fb-b992-d4ad77af8a05",
   "metadata": {},
   "outputs": [],
   "source": [
    "KETTLE"
   ]
  },
  {
   "cell_type": "code",
   "execution_count": null,
   "id": "4c9b2090-4fb4-4999-b0d3-87b014cfe891",
   "metadata": {},
   "outputs": [],
   "source": [
    "collective_dataset"
   ]
  },
  {
   "cell_type": "code",
   "execution_count": null,
   "id": "b290f215-eb7e-471d-9c3d-025f2fdfc445",
   "metadata": {},
   "outputs": [],
   "source": [
    "def get_house_data(house_number):\n",
    "    return collective_dataset[house_number].compute()\n",
    "    \n",
    "def get_appliance_data(target_appliance, houses='all_houses'):\n",
    "    ls = {}\n",
    "    if houses == 'all_houses':\n",
    "        for house_number in range(1, len(collective_dataset)+1):\n",
    "            print(house_number)\n",
    "            if target_appliance in collective_dataset[house_number].columns:\n",
    "                data = collective_dataset[house_number][['Time', target_appliance]].compute()\n",
    "                ls.update({house_number: data})\n",
    "    elif type(houses) == list and len(houses)!=0:\n",
    "        for house_number in houses:\n",
    "            if target_appliance in collective_dataset[house_number].columns:\n",
    "                display(f'Fetching data for House {house_number}')\n",
    "                data = collective_dataset[house_number][['Time', target_appliance]].compute()\n",
    "                ls.update({house_number: data})\n",
    "    else:\n",
    "        raise Exception(\"argument 'houses' should not be an empty list or by default set should be set to 'all_houses'\")\n",
    "    \n",
    "    return ls"
   ]
  },
  {
   "cell_type": "code",
   "execution_count": null,
   "id": "43b5a2a0-95f6-47d5-8b39-2addae45fb41",
   "metadata": {},
   "outputs": [],
   "source": [
    "%%time\n",
    "# HOUSE_1 = get_house_data(1)\n",
    "# HOUSE_2 = get_house_data(2)\n",
    "# HOUSE_3 = get_house_data(3)"
   ]
  },
  {
   "cell_type": "code",
   "execution_count": null,
   "id": "46fe4769-3b3a-4967-9dfb-6c122c869d54",
   "metadata": {},
   "outputs": [],
   "source": [
    "%%time\n",
    "KETTLE = get_appliance_data(\"Kettle\", houses=[1,2,3,4,5,6,7,8])"
   ]
  },
  {
   "cell_type": "code",
   "execution_count": null,
   "id": "5794481a-60e5-456f-a437-03bf63652d94",
   "metadata": {},
   "outputs": [],
   "source": [
    "KETTLE[2]"
   ]
  },
  {
   "cell_type": "code",
   "execution_count": null,
   "id": "a43e265b-03a9-4c08-ab54-2db36f4fb3ed",
   "metadata": {},
   "outputs": [],
   "source": []
  },
  {
   "cell_type": "code",
   "execution_count": null,
   "id": "bcaf07ad-ddef-4991-9457-ce2fb081d856",
   "metadata": {},
   "outputs": [],
   "source": []
  },
  {
   "cell_type": "code",
   "execution_count": null,
   "id": "7aa23b28-6643-4efe-be2d-849d3cd863fa",
   "metadata": {},
   "outputs": [],
   "source": []
  },
  {
   "cell_type": "code",
   "execution_count": null,
   "id": "b6d81113-c403-47e3-9279-55ebc8fc4026",
   "metadata": {},
   "outputs": [],
   "source": []
  },
  {
   "cell_type": "code",
   "execution_count": null,
   "id": "0446844f-ab6f-47da-8d42-b610c991a8d0",
   "metadata": {},
   "outputs": [],
   "source": []
  },
  {
   "cell_type": "code",
   "execution_count": null,
   "id": "9aef62be-e3eb-47f8-b4d9-55d582038b58",
   "metadata": {},
   "outputs": [],
   "source": []
  },
  {
   "cell_type": "code",
   "execution_count": null,
   "id": "a8cdf58a-eaca-4f12-a099-c7355a09cd2f",
   "metadata": {},
   "outputs": [],
   "source": []
  },
  {
   "cell_type": "code",
   "execution_count": null,
   "id": "968c978b-45ab-4bc4-841e-29a34d4350b9",
   "metadata": {},
   "outputs": [],
   "source": []
  },
  {
   "cell_type": "code",
   "execution_count": null,
   "id": "7099000b-2850-4e46-9077-cc12c9506099",
   "metadata": {},
   "outputs": [],
   "source": []
  },
  {
   "cell_type": "code",
   "execution_count": null,
   "id": "30ff5105-e0e9-4972-b2d5-90bfe10f7264",
   "metadata": {},
   "outputs": [],
   "source": []
  }
 ],
 "metadata": {
  "kernelspec": {
   "display_name": "Python 3",
   "language": "python",
   "name": "python3"
  },
  "language_info": {
   "codemirror_mode": {
    "name": "ipython",
    "version": 3
   },
   "file_extension": ".py",
   "mimetype": "text/x-python",
   "name": "python",
   "nbconvert_exporter": "python",
   "pygments_lexer": "ipython3",
   "version": "3.9.2"
  }
 },
 "nbformat": 4,
 "nbformat_minor": 5
}
