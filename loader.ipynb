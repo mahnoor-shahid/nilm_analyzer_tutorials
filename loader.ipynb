{
 "cells": [
  {
   "cell_type": "code",
   "execution_count": 1,
   "id": "c81fe0b4-f5d7-4a9a-ab27-c2766cf3cfce",
   "metadata": {},
   "outputs": [],
   "source": [
    "# from load_csv import CSV_Loader\n",
    "from configs.configuration import general_config, dataset_config\n",
    "import pandas as pd\n",
    "import glob\n",
    "import dask.dataframe as dd\n",
    "import pickle"
   ]
  },
  {
   "cell_type": "code",
   "execution_count": 22,
   "id": "a30a34e2-f99d-42b7-a403-bae941e49493",
   "metadata": {},
   "outputs": [],
   "source": [
    "\n",
    "class _Loader:\n",
    "    \"\"\"\n",
    "    Interface that loads all the data into the memory\n",
    "    \"\"\"\n",
    "\n",
    "    def __init__(self):\n",
    "        try:\n",
    "            pass\n",
    "            \n",
    "        except Exception as e:\n",
    "            display(\"Error occured in initialization of _Loader interface due to \", e)\n",
    "                \n",
    "        finally:\n",
    "            display(\"Loader Interface initialized\")\n",
    "        \n",
    "    @staticmethod\n",
    "    def _load_file():\n",
    "        raise NotImplementedError    \n",
    "\n",
    "\n",
    "class CSV_Loader(_Loader):\n",
    "    \"\"\"\n",
    "    \n",
    "    \"\"\"\n",
    "    def __init__(self):\n",
    "        try:\n",
    "            super().__init__()\n",
    "        \n",
    "        except Exception as e:\n",
    "            display(\"Error occured in initialization of CSV_Loader class due to \", e)\n",
    "                \n",
    "        finally:\n",
    "            display(\"CSV_Loader initialized\")\n",
    "        \n",
    "    @staticmethod\n",
    "    def _load_file(csv_file_path,\n",
    "                   index_column_name=None,\n",
    "                   _nrows=None,\n",
    "                   _iterator=True,\n",
    "                   _chunksize=100000):\n",
    "        try:\n",
    "            tp = pd.read_csv(csv_file_path, nrows=_nrows, index_col=index_column_name, iterator=_iterator, chunksize=_chunksize) ## loading data in chunks reduces 90 percent execution time \n",
    "            df = pd.concat(tp, ignore_index=False)\n",
    "            df.info(verbose=False, memory_usage=\"deep\")\n",
    "            return df  \n",
    "        \n",
    "        except Exception as e:\n",
    "            display(\"Error occured in _load_file method of CSV_Loader class due to \", e)\n",
    "    \n",
    "    @staticmethod\n",
    "    def _load_file_via_dask(csv_file_path,\n",
    "                            fetch_houses=[1,2,3,4,5,6,7,8,9,10,11,12,13,15,16,17,18,19,20,21]):\n",
    "        try:\n",
    "            ls = {}\n",
    "            display(f\"Loading specified houses: {fetch_houses}\")\n",
    "            for i in fetch_houses:\n",
    "                ls.update({i: dd.read_csv(f'{csv_file_path}House_{i}.csv')})\n",
    "                \n",
    "            return ls\n",
    "        \n",
    "        except Exception as e:\n",
    "            display(\"Error occured in _load_file_via_dask method of CSV_Loader class due to \", e)\n",
    "            \n",
    "            \n",
    "    ###### appliance wise Dict Reader\n"
   ]
  },
  {
   "cell_type": "code",
   "execution_count": 28,
   "id": "6db187f5-3273-4e83-9543-1eaf54b56409",
   "metadata": {},
   "outputs": [],
   "source": [
    "import re\n",
    "\n",
    "def parser(readme_file):\n",
    "    \"\"\"\n",
    "    \n",
    "    \"\"\"\n",
    "    try:\n",
    "        display(f'Loading the readme files specified: {readme_file}')\n",
    "        with open(readme_file) as f:\n",
    "            content = f.readlines()\n",
    "        ls = {}\n",
    "        for i, s in enumerate(content):\n",
    "            if 'House' in s.capitalize():\n",
    "                keys, appliances = [], []\n",
    "                house = s.split()[1]\n",
    "                for indx in range(1, 6):\n",
    "                    if content[i+indx] == '\\t!NOTES\\n':\n",
    "                        break\n",
    "                    else:\n",
    "                        target = [value.split('.') for value in [value for value in content[i+indx].split(',') if value != '\\n']]\n",
    "                        for t in target:\n",
    "                            if len(t) > 2: ##### one comma missing caused issue\n",
    "                                appliances.append(t[1])\n",
    "                                appliances.append(t[2])\n",
    "                            else:\n",
    "                                appliances.append(t[1])\n",
    "                ls.update({house: [item.split('\\n')[0] for item in appliances]})\n",
    "        return ls\n",
    "    \n",
    "    except Exception as e:\n",
    "        display(\"Error occured in parser method due to \", e)"
   ]
  },
  {
   "cell_type": "code",
   "execution_count": 29,
   "id": "4629c85d-1fe0-48af-9c87-d5a727f5bd3c",
   "metadata": {},
   "outputs": [
    {
     "data": {
      "text/plain": [
       "'Loader Interface initialized'"
      ]
     },
     "metadata": {},
     "output_type": "display_data"
    },
    {
     "data": {
      "text/plain": [
       "'CSV_Loader initialized'"
      ]
     },
     "metadata": {},
     "output_type": "display_data"
    }
   ],
   "source": [
    "ob = CSV_Loader()"
   ]
  },
  {
   "cell_type": "code",
   "execution_count": 30,
   "id": "908cd34c-a862-4fcb-8335-1b7100fb8fef",
   "metadata": {},
   "outputs": [
    {
     "data": {
      "text/plain": [
       "'Loading specified houses: [1, 2, 3, 4, 5, 6, 7, 8, 9, 10, 11, 12, 13, 15, 16, 17, 18, 19, 20, 21]'"
      ]
     },
     "metadata": {},
     "output_type": "display_data"
    },
    {
     "name": "stdout",
     "output_type": "stream",
     "text": [
      "Wall time: 480 ms\n"
     ]
    }
   ],
   "source": [
    "%%time\n",
    "collective_dataset = ob._load_file_via_dask(csv_file_path=general_config['DATA_FOLDER'])"
   ]
  },
  {
   "cell_type": "code",
   "execution_count": 31,
   "id": "fd768483-abd0-42e5-a488-045e0f505f35",
   "metadata": {},
   "outputs": [
    {
     "data": {
      "text/plain": [
       "'Loading the readme files specified: data/refit/REFIT_Readme.txt'"
      ]
     },
     "metadata": {},
     "output_type": "display_data"
    }
   ],
   "source": [
    "keys_of_appliances = parser(general_config['README_FILE'])"
   ]
  },
  {
   "cell_type": "code",
   "execution_count": 32,
   "id": "14676015-31c3-48a5-891c-4fa4af9be7f8",
   "metadata": {},
   "outputs": [],
   "source": [
    "for house_number in collective_dataset:\n",
    "    cols = keys_of_appliances[str(house_number)]\n",
    "    collective_dataset[house_number] = collective_dataset[house_number].rename(columns={\"Appliance1\":cols[1], \"Appliance2\":cols[2], \"Appliance3\":cols[3], \"Appliance4\":cols[4], \"Appliance5\":cols[5],\n",
    "                                       \"Appliance6\":cols[6], \"Appliance7\":cols[7], \"Appliance8\":cols[8], \"Appliance9\":cols[9]})"
   ]
  },
  {
   "cell_type": "code",
   "execution_count": 126,
   "id": "b290f215-eb7e-471d-9c3d-025f2fdfc445",
   "metadata": {},
   "outputs": [],
   "source": [
    "def get_house_data(house_number):\n",
    "    return collective_dataset[house_number].compute()\n",
    "    \n",
    "def get_appliance_data(target_appliance, houses='all_houses'):\n",
    "    ls = {}\n",
    "    if houses == 'all_houses':\n",
    "        for house_number in range(1, len(collective_dataset)+1):\n",
    "            print(house_number)\n",
    "            if target_appliance in collective_dataset[house_number].columns:\n",
    "                data = collective_dataset[house_number][['Time', target_appliance]].compute()\n",
    "                ls.update({house_number: data})\n",
    "    elif type(houses) == list and len(houses)!=0:\n",
    "        for house_number in houses:\n",
    "            print(house_number)\n",
    "            if target_appliance in collective_dataset[house_number].columns:\n",
    "                data = collective_dataset[house_number][['Time', target_appliance]].compute()\n",
    "                ls.update({house_number: data})\n",
    "    else:\n",
    "        raise Exception(\"argument 'houses' should not be an empty list or by default set should be set to 'all_houses'\")\n",
    "    \n",
    "    return ls"
   ]
  },
  {
   "cell_type": "code",
   "execution_count": 127,
   "id": "43b5a2a0-95f6-47d5-8b39-2addae45fb41",
   "metadata": {},
   "outputs": [
    {
     "name": "stdout",
     "output_type": "stream",
     "text": [
      "Wall time: 0 ns\n"
     ]
    }
   ],
   "source": [
    "%%time\n",
    "# HOUSE_1 = get_house_data(1)\n",
    "# HOUSE_2 = get_house_data(2)\n",
    "# HOUSE_3 = get_house_data(3)"
   ]
  },
  {
   "cell_type": "code",
   "execution_count": 128,
   "id": "46fe4769-3b3a-4967-9dfb-6c122c869d54",
   "metadata": {},
   "outputs": [
    {
     "ename": "Exception",
     "evalue": "argument 'houses' should not be an empty list or by default set should be set to 'all_houses'",
     "output_type": "error",
     "traceback": [
      "\u001b[1;31m---------------------------------------------------------------------------\u001b[0m",
      "\u001b[1;31mException\u001b[0m                                 Traceback (most recent call last)",
      "\u001b[1;32m<ipython-input-128-a5c78072446a>\u001b[0m in \u001b[0;36m<module>\u001b[1;34m\u001b[0m\n\u001b[1;32m----> 1\u001b[1;33m \u001b[0mKETTLE\u001b[0m \u001b[1;33m=\u001b[0m \u001b[0mget_appliance_data\u001b[0m\u001b[1;33m(\u001b[0m\u001b[1;34m\"Kettle\"\u001b[0m\u001b[1;33m,\u001b[0m \u001b[0mhouses\u001b[0m\u001b[1;33m=\u001b[0m\u001b[1;33m[\u001b[0m\u001b[1;33m]\u001b[0m\u001b[1;33m)\u001b[0m\u001b[1;33m\u001b[0m\u001b[1;33m\u001b[0m\u001b[0m\n\u001b[0m",
      "\u001b[1;32m<ipython-input-126-3c5cea742aed>\u001b[0m in \u001b[0;36mget_appliance_data\u001b[1;34m(target_appliance, houses)\u001b[0m\n\u001b[0;32m     17\u001b[0m                 \u001b[0mls\u001b[0m\u001b[1;33m.\u001b[0m\u001b[0mupdate\u001b[0m\u001b[1;33m(\u001b[0m\u001b[1;33m{\u001b[0m\u001b[0mhouse_number\u001b[0m\u001b[1;33m:\u001b[0m \u001b[0mdata\u001b[0m\u001b[1;33m}\u001b[0m\u001b[1;33m)\u001b[0m\u001b[1;33m\u001b[0m\u001b[1;33m\u001b[0m\u001b[0m\n\u001b[0;32m     18\u001b[0m     \u001b[1;32melse\u001b[0m\u001b[1;33m:\u001b[0m\u001b[1;33m\u001b[0m\u001b[1;33m\u001b[0m\u001b[0m\n\u001b[1;32m---> 19\u001b[1;33m         \u001b[1;32mraise\u001b[0m \u001b[0mException\u001b[0m\u001b[1;33m(\u001b[0m\u001b[1;34m\"argument 'houses' should not be an empty list or by default set should be set to 'all_houses'\"\u001b[0m\u001b[1;33m)\u001b[0m\u001b[1;33m\u001b[0m\u001b[1;33m\u001b[0m\u001b[0m\n\u001b[0m\u001b[0;32m     20\u001b[0m \u001b[1;33m\u001b[0m\u001b[0m\n\u001b[0;32m     21\u001b[0m     \u001b[1;32mreturn\u001b[0m \u001b[0mls\u001b[0m\u001b[1;33m\u001b[0m\u001b[1;33m\u001b[0m\u001b[0m\n",
      "\u001b[1;31mException\u001b[0m: argument 'houses' should not be an empty list or by default set should be set to 'all_houses'"
     ]
    }
   ],
   "source": [
    "KETTLE = get_appliance_data(\"Kettle\", houses=[])"
   ]
  },
  {
   "cell_type": "code",
   "execution_count": 121,
   "id": "5794481a-60e5-456f-a437-03bf63652d94",
   "metadata": {},
   "outputs": [
    {
     "ename": "KeyError",
     "evalue": "2",
     "output_type": "error",
     "traceback": [
      "\u001b[1;31m---------------------------------------------------------------------------\u001b[0m",
      "\u001b[1;31mKeyError\u001b[0m                                  Traceback (most recent call last)",
      "\u001b[1;32m<ipython-input-121-bc1365ae3ffd>\u001b[0m in \u001b[0;36m<module>\u001b[1;34m\u001b[0m\n\u001b[1;32m----> 1\u001b[1;33m \u001b[0mKETTLE\u001b[0m\u001b[1;33m[\u001b[0m\u001b[1;36m2\u001b[0m\u001b[1;33m]\u001b[0m\u001b[1;33m\u001b[0m\u001b[1;33m\u001b[0m\u001b[0m\n\u001b[0m",
      "\u001b[1;31mKeyError\u001b[0m: 2"
     ]
    }
   ],
   "source": [
    "KETTLE[2]"
   ]
  },
  {
   "cell_type": "code",
   "execution_count": null,
   "id": "a43e265b-03a9-4c08-ab54-2db36f4fb3ed",
   "metadata": {},
   "outputs": [],
   "source": []
  },
  {
   "cell_type": "code",
   "execution_count": null,
   "id": "bcaf07ad-ddef-4991-9457-ce2fb081d856",
   "metadata": {},
   "outputs": [],
   "source": []
  },
  {
   "cell_type": "code",
   "execution_count": null,
   "id": "7aa23b28-6643-4efe-be2d-849d3cd863fa",
   "metadata": {},
   "outputs": [],
   "source": []
  },
  {
   "cell_type": "code",
   "execution_count": null,
   "id": "b6d81113-c403-47e3-9279-55ebc8fc4026",
   "metadata": {},
   "outputs": [],
   "source": []
  },
  {
   "cell_type": "code",
   "execution_count": null,
   "id": "0446844f-ab6f-47da-8d42-b610c991a8d0",
   "metadata": {},
   "outputs": [],
   "source": []
  },
  {
   "cell_type": "code",
   "execution_count": null,
   "id": "9aef62be-e3eb-47f8-b4d9-55d582038b58",
   "metadata": {},
   "outputs": [],
   "source": []
  },
  {
   "cell_type": "code",
   "execution_count": null,
   "id": "a8cdf58a-eaca-4f12-a099-c7355a09cd2f",
   "metadata": {},
   "outputs": [],
   "source": []
  },
  {
   "cell_type": "code",
   "execution_count": null,
   "id": "968c978b-45ab-4bc4-841e-29a34d4350b9",
   "metadata": {},
   "outputs": [],
   "source": []
  },
  {
   "cell_type": "code",
   "execution_count": null,
   "id": "7099000b-2850-4e46-9077-cc12c9506099",
   "metadata": {},
   "outputs": [],
   "source": []
  },
  {
   "cell_type": "code",
   "execution_count": null,
   "id": "67eaabec-38f1-4f11-ae45-ae552000944a",
   "metadata": {
    "tags": []
   },
   "outputs": [],
   "source": [
    "list_of_house_numbers, list_of_appliance_data = [], []\n",
    "for house_data in collective_dataset:\n",
    "    for key in house_data.keys():\n",
    "        print(key)\n",
    "        if target_appliance in keys_of_appliances[str(key)]:\n",
    "            data = house_data[key][['Time',target_appliance]]\n",
    "            print(data)\n",
    "            list_of_house_numbers.append(key)\n",
    "            list_of_appliance_data.append(data)"
   ]
  },
  {
   "cell_type": "code",
   "execution_count": null,
   "id": "68b8356b-a859-4fd4-9531-e307357c307a",
   "metadata": {},
   "outputs": [],
   "source": [
    "for target_appliance in dataset_config['APPLIANCES']:\n",
    "    print(target_appliance)\n",
    "    for house_data in collective_dataset:\n",
    "        for key in house_data.keys():\n",
    "            print(house_data[key].loc[target_appliance])"
   ]
  },
  {
   "cell_type": "code",
   "execution_count": null,
   "id": "27ddcc9b-22e5-4d4a-b778-e832a0eda95f",
   "metadata": {},
   "outputs": [],
   "source": [
    "\n",
    "house_numbers = []\n",
    "house_data = []\n",
    "for target_appliance in dataset_config['APPLIANCES']:\n",
    "    print(target_appliance)\n",
    "    for house_number in dataset_config['HOUSES']:\n",
    "        print(house_number)\n",
    "        if target_appliance not in keys_of_appliances[str(house_number)]:\n",
    "            print(-1)\n",
    "        else:\n",
    "            for idx, value in enumerate(keys_of_appliances[str(house_number)]):\n",
    "                if value == target_appliance:\n",
    "                    set_appliance = f\"Appliance{idx}\"\n",
    "                    print(set_appliance)\n",
    "                    itere=house_number-1\n",
    "                    print(collective_dataset[itere][house_number][f\"Appliance{idx}\"])\n",
    "                    \n",
    "                    house_numbers.append(house_number)\n",
    "                    house_data.append(collective_dataset[house_number-1][house_number][f\"Appliance{idx}\"])\n",
    "                    "
   ]
  },
  {
   "cell_type": "code",
   "execution_count": null,
   "id": "fc7d52b3-8604-4aa1-8a93-371dc5a37a8b",
   "metadata": {},
   "outputs": [],
   "source": [
    "keys_of_appliances[str(5)]['appliances']"
   ]
  },
  {
   "cell_type": "code",
   "execution_count": null,
   "id": "d1eb253c-3a5e-4d88-9f2a-f99625009aea",
   "metadata": {},
   "outputs": [],
   "source": [
    "if \"Kettle\" in keys_of_appliances[str(2)]['appliances']:\n",
    "    print(1)"
   ]
  },
  {
   "cell_type": "code",
   "execution_count": null,
   "id": "b126dba5-a552-456b-9fdc-f5c041f91960",
   "metadata": {},
   "outputs": [],
   "source": [
    "for hh in [1,2,3,4,5,6,7,8,9,10]:\n",
    "    print(f\"House {hh}\")\n",
    "    if 'Kettle' in keys_of_appliances[str(hh)]['appliances'] :\n",
    "        print(keys_of_appliances[str(hh)]['appliances'].index('Kettle'))\n",
    "    else:\n",
    "        print(-1)"
   ]
  },
  {
   "cell_type": "code",
   "execution_count": null,
   "id": "6d9d03b8-01cd-4255-b424-899b38b369a1",
   "metadata": {},
   "outputs": [],
   "source": [
    "for hh in [1,2,3,4,5,6,7,8,9,10]:\n",
    "    keys_mapping = [idx if value=='Kettle' else -1 for idx, value in enumerate(keys_of_appliances[str(hh)]['appliances'])]\n",
    "keys_mapping\n",
    "\n",
    "fruits = [\"idx\" if value=='Kettle' else \"None\" for idx, value in enumerate(keys_of_appliances[str(hh)]['appliances']) ]\n",
    "print(fruits)"
   ]
  },
  {
   "cell_type": "code",
   "execution_count": null,
   "id": "0561167c-3bac-4ff3-935e-48e42791c431",
   "metadata": {},
   "outputs": [],
   "source": [
    "# mapping_keys = [key for house_dict in collective_dataset for key in house_dict.keys()]\n",
    "# mapping_keys\n",
    "mapping_keys = []\n",
    "\n",
    "for house_dict in collective_dataset:\n",
    "    for key in house_dict.keys():\n",
    "        print(key)\n",
    "        print(house_dict[key])\n",
    "        print(keys_of_appliances[str(key)])\n",
    "        for i in range(1,10):\n",
    "            house_dict[key].rename({f'Appliance{i}': keys_of_appliances[str(house)]['appliances'][i]}, axis=1, inplace=True)\n",
    "#     mapping_key = house_dict.keys()\n",
    "\n",
    "# mapping_keys"
   ]
  },
  {
   "cell_type": "code",
   "execution_count": null,
   "id": "7defdebc-2ac3-44e7-9172-625be8fde922",
   "metadata": {},
   "outputs": [],
   "source": [
    "keys_of_appliances['3']"
   ]
  },
  {
   "cell_type": "code",
   "execution_count": null,
   "id": "cf6f8a7d-010b-4bcf-b293-3e9166921eb0",
   "metadata": {},
   "outputs": [],
   "source": [
    "\n",
    "\n",
    "\n",
    "\n",
    "for house in range(0, len(collective_dataset)):\n",
    "    print(house)\n",
    "#     print(d)\n",
    "    for i in range(1, len(keys_of_appliances[str(house+1)]['appliances'])):\n",
    "        collective_dataset[house].rename({f'Appliance{i}': nested_dict[str(house+1)]['appliances'][i]}, axis=1, inplace=True)"
   ]
  },
  {
   "cell_type": "code",
   "execution_count": null,
   "id": "4036d284-1556-44c1-963a-aa737e700598",
   "metadata": {},
   "outputs": [],
   "source": [
    "for house_dict in collective_dataset:\n",
    "    print(type(house_dict))\n",
    "#     print(house_dict)\n",
    "#     collective_dataset\n",
    "    for key in house_dict.keys:\n",
    "        print(key)\n"
   ]
  },
  {
   "cell_type": "code",
   "execution_count": null,
   "id": "3d224a9d-b8a3-4fca-a74d-ef458f0e3c26",
   "metadata": {},
   "outputs": [],
   "source": [
    "%%time\n",
    "d1 = collective_dataset[0].compute().set_index('Time')\n",
    "d3 = collective_dataset[1].compute().set_index('Time')\n",
    "d4 = collective_dataset[2].compute().set_index('Time')\n",
    "\n",
    "# d1 = collective_dataset[0].compute()\n",
    "# d3 = collective_dataset[1].compute()\n",
    "# d4 = collective_dataset[2].compute()"
   ]
  },
  {
   "cell_type": "code",
   "execution_count": null,
   "id": "7e238689-86d8-4dfd-8ade-fb313623823a",
   "metadata": {},
   "outputs": [],
   "source": [
    "collective_dataset[0].keys"
   ]
  },
  {
   "cell_type": "code",
   "execution_count": null,
   "id": "df901e34-17c9-49b1-bd14-a36b45292ac7",
   "metadata": {},
   "outputs": [],
   "source": [
    "%%time\n",
    "ob._load_file(csv_file_path=dataset_config['REFIT_DATA_PATH'], index_column_name='Time')"
   ]
  },
  {
   "cell_type": "code",
   "execution_count": null,
   "id": "16cdc76d-095f-4eb1-b06e-ec392afef112",
   "metadata": {},
   "outputs": [],
   "source": [
    "\n",
    "\n",
    "files = glob.glob(dataset_config['REFIT_DATA_FOLDER'] + '*' + dataset_config['REFIT_DATA_TYPE'])\n",
    "print(files)\n",
    "# data = [pd.read_csv(file, index_col='Time') for file in files]\n",
    "# data\n",
    "files[0]"
   ]
  },
  {
   "cell_type": "code",
   "execution_count": null,
   "id": "9fa02d5c-b66c-4bff-8b71-8acd7c36a244",
   "metadata": {},
   "outputs": [],
   "source": [
    "%%time\n",
    "\n"
   ]
  },
  {
   "cell_type": "code",
   "execution_count": null,
   "id": "341a8202-f799-456d-947c-9d2448005b59",
   "metadata": {},
   "outputs": [],
   "source": [
    "data"
   ]
  },
  {
   "cell_type": "code",
   "execution_count": null,
   "id": "3c5c8de9-fc7a-4b10-a043-27d3a7b812be",
   "metadata": {},
   "outputs": [],
   "source": [
    "%%time\n",
    "data = pd.read_csv(files[0], index_col='Time')"
   ]
  },
  {
   "cell_type": "code",
   "execution_count": null,
   "id": "07795f84-1509-46ee-bd0f-a381495d5d37",
   "metadata": {},
   "outputs": [],
   "source": [
    "\n",
    "import csv\n"
   ]
  },
  {
   "cell_type": "code",
   "execution_count": null,
   "id": "4ba75943-883e-4ec8-af1d-2277dd65e00c",
   "metadata": {},
   "outputs": [],
   "source": [
    "files"
   ]
  },
  {
   "cell_type": "code",
   "execution_count": null,
   "id": "64eeb333-d5c6-415a-96e6-b42ed75890b3",
   "metadata": {},
   "outputs": [],
   "source": [
    "%%time\n",
    "data1 = dask.dataframe.read_csv(files[0])\n",
    "data2 = dask.dataframe.read_csv(files[1])\n",
    "data3 = dask.dataframe.read_csv(files[2])\n",
    "data4 = dask.dataframe.read_csv(files[3])\n",
    "\n",
    "df1=data1.compute()\n",
    "df2=data2.compute()\n",
    "df3=data3.compute()\n",
    "df4=data4.compute()"
   ]
  },
  {
   "cell_type": "code",
   "execution_count": null,
   "id": "b71c5869-0882-4f6a-b2ea-5ac2d3142e44",
   "metadata": {},
   "outputs": [],
   "source": [
    "df1"
   ]
  },
  {
   "cell_type": "code",
   "execution_count": null,
   "id": "ff02b5ea-8d12-4c7b-9fb8-191e3f806a9e",
   "metadata": {},
   "outputs": [],
   "source": [
    "df"
   ]
  },
  {
   "cell_type": "code",
   "execution_count": null,
   "id": "d75f1b65-7346-4d73-8fd6-4ca0cd690941",
   "metadata": {},
   "outputs": [],
   "source": [
    "import logging\n",
    "logging.basicConfig(level=logging.INFO, file='d://sample.log')\n",
    "\n",
    "def hypotenuse(a, b):\n",
    "    \"\"\"Compute the hypotenuse\"\"\"\n",
    "    return (a**2 + b**2)**0.5\n",
    "\n",
    "kwargs = {'a':3, 'b':4, 'c':hypotenuse(3, 4)}\n",
    "\n",
    "logging.debug(\"a = {a}, b = {b}\".format(**kwargs))\n",
    "logging.info(\"Hypotenuse of {a}, {b} is {c}\".format(**kwargs))\n",
    "logging.warning(\"a={a} and b={b} are equal\".format(**kwargs))\n",
    "logging.error(\"a={a} and b={b} cannot be negative\".format(**kwargs))\n",
    "logging.critical(\"Hypotenuse of {a}, {b} is {c}\".format(**kwargs))"
   ]
  },
  {
   "cell_type": "code",
   "execution_count": null,
   "id": "4c015f31-2fcc-49e1-bac4-5a8f4c6983f0",
   "metadata": {},
   "outputs": [],
   "source": [
    "import parser\n",
    "print(\"Program to demonstrate parser module in Python\")\n",
    "print(\"\\n\")\n",
    "exp = \"5 + 8\"\n",
    "print(\"The given expression for parsing is as follows:\")\n",
    "print(exp)\n",
    "print(\"\\n\")\n",
    "print(\"Parsing of given expression results as: \")\n",
    "st = parser.expr(exp)\n",
    "print(st)"
   ]
  },
  {
   "cell_type": "code",
   "execution_count": null,
   "id": "ec92a994-8e8d-4500-9f61-34c3ff1e2e1c",
   "metadata": {},
   "outputs": [],
   "source": [
    "import pickle\n",
    "\n",
    "nested_dict  = pickle.load( open(\"file.pkl\", \"rb\") )\n",
    "d = [d1, d3]"
   ]
  },
  {
   "cell_type": "code",
   "execution_count": null,
   "id": "1afc84f5-2602-4fc7-9333-908c5eca0e79",
   "metadata": {},
   "outputs": [],
   "source": [
    "# nested_dict"
   ]
  },
  {
   "cell_type": "code",
   "execution_count": null,
   "id": "215ee332-8726-476a-8fe4-cfa192000ad5",
   "metadata": {},
   "outputs": [],
   "source": []
  },
  {
   "cell_type": "code",
   "execution_count": null,
   "id": "98dc2fff-21ad-4c15-a719-4a4f9295e433",
   "metadata": {},
   "outputs": [],
   "source": [
    "d[0]"
   ]
  },
  {
   "cell_type": "code",
   "execution_count": null,
   "id": "30ff5105-e0e9-4972-b2d5-90bfe10f7264",
   "metadata": {},
   "outputs": [],
   "source": []
  }
 ],
 "metadata": {
  "kernelspec": {
   "display_name": "Python 3",
   "language": "python",
   "name": "python3"
  },
  "language_info": {
   "codemirror_mode": {
    "name": "ipython",
    "version": 3
   },
   "file_extension": ".py",
   "mimetype": "text/x-python",
   "name": "python",
   "nbconvert_exporter": "python",
   "pygments_lexer": "ipython3",
   "version": "3.9.2"
  }
 },
 "nbformat": 4,
 "nbformat_minor": 5
}
