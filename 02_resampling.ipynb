{
 "cells": [
  {
   "cell_type": "code",
   "execution_count": 1,
   "id": "04e04564-120b-45d4-9b89-d25f25420603",
   "metadata": {},
   "outputs": [],
   "source": [
    "from loader.data_loader import REFIT_Loader"
   ]
  },
  {
   "cell_type": "code",
   "execution_count": 2,
   "id": "fd768483-abd0-42e5-a488-045e0f505f35",
   "metadata": {},
   "outputs": [
    {
     "name": "stdout",
     "output_type": "stream",
     "text": [
      "Followings are the general configuration of your experiment..\n",
      "{'DATA_FOLDER': 'data/refit/', 'DATA_TYPE': '.csv', 'README_FILE': 'data/refit/REFIT_Readme.txt', 'REFIT_HOUSES': [1, 2, 3, 4, 5, 6, 7, 8, 9, 10, 11, 12, 13, 15, 16, 17, 18, 19, 20, 21]}\n",
      "\n",
      "Loading specified buildings: [1, 2, 3, 4, 5, 6, 7, 8, 9, 10, 11, 12, 13, 15, 16, 17, 18, 19, 20, 21]\n",
      "Parsing the readme file specified: data/refit/REFIT_Readme.txt\n"
     ]
    }
   ],
   "source": [
    "refit = REFIT_Loader()"
   ]
  },
  {
   "cell_type": "markdown",
   "id": "7f946083-a19a-4309-a547-7970d81b8c47",
   "metadata": {},
   "source": [
    "# Load data for selected appliance and selected houses"
   ]
  },
  {
   "cell_type": "code",
   "execution_count": 3,
   "id": "aaf3f3fd-9fd3-4184-9845-aa27381e81af",
   "metadata": {},
   "outputs": [
    {
     "name": "stdout",
     "output_type": "stream",
     "text": [
      "Loading data for appliance KETTLE ...\n",
      "Appliance 'KETTLE' does not exist in house 1. Hint: Check the availability of the appliance by using 'get_appliance_names' method\n",
      "Fetching KETTLE data for House 2\n",
      "Fetching KETTLE data for House 3\n",
      "Wall time: 14 s\n"
     ]
    }
   ],
   "source": [
    "%%time\n",
    "kettle = refit.get_appliance_data(appliance=\"Kettle\", houses=[1,2,3])"
   ]
  },
  {
   "cell_type": "code",
   "execution_count": 4,
   "id": "920fcf89-d6a6-4ebf-9a75-c6e002fa6679",
   "metadata": {},
   "outputs": [
    {
     "data": {
      "text/html": [
       "<div>\n",
       "<style scoped>\n",
       "    .dataframe tbody tr th:only-of-type {\n",
       "        vertical-align: middle;\n",
       "    }\n",
       "\n",
       "    .dataframe tbody tr th {\n",
       "        vertical-align: top;\n",
       "    }\n",
       "\n",
       "    .dataframe thead th {\n",
       "        text-align: right;\n",
       "    }\n",
       "</style>\n",
       "<table border=\"1\" class=\"dataframe\">\n",
       "  <thead>\n",
       "    <tr style=\"text-align: right;\">\n",
       "      <th></th>\n",
       "      <th>aggregate</th>\n",
       "      <th>kettle</th>\n",
       "    </tr>\n",
       "    <tr>\n",
       "      <th>time</th>\n",
       "      <th></th>\n",
       "      <th></th>\n",
       "    </tr>\n",
       "  </thead>\n",
       "  <tbody>\n",
       "    <tr>\n",
       "      <th>2013-09-25 19:21:09</th>\n",
       "      <td>387</td>\n",
       "      <td>0</td>\n",
       "    </tr>\n",
       "    <tr>\n",
       "      <th>2013-09-25 19:21:16</th>\n",
       "      <td>386</td>\n",
       "      <td>0</td>\n",
       "    </tr>\n",
       "    <tr>\n",
       "      <th>2013-09-25 19:21:23</th>\n",
       "      <td>383</td>\n",
       "      <td>0</td>\n",
       "    </tr>\n",
       "    <tr>\n",
       "      <th>2013-09-25 19:21:30</th>\n",
       "      <td>388</td>\n",
       "      <td>0</td>\n",
       "    </tr>\n",
       "    <tr>\n",
       "      <th>2013-09-25 19:21:37</th>\n",
       "      <td>388</td>\n",
       "      <td>0</td>\n",
       "    </tr>\n",
       "    <tr>\n",
       "      <th>...</th>\n",
       "      <td>...</td>\n",
       "      <td>...</td>\n",
       "    </tr>\n",
       "    <tr>\n",
       "      <th>2015-06-02 10:55:14</th>\n",
       "      <td>2674</td>\n",
       "      <td>0</td>\n",
       "    </tr>\n",
       "    <tr>\n",
       "      <th>2015-06-02 10:55:21</th>\n",
       "      <td>2435</td>\n",
       "      <td>0</td>\n",
       "    </tr>\n",
       "    <tr>\n",
       "      <th>2015-06-02 10:55:28</th>\n",
       "      <td>2453</td>\n",
       "      <td>0</td>\n",
       "    </tr>\n",
       "    <tr>\n",
       "      <th>2015-06-02 10:55:35</th>\n",
       "      <td>2733</td>\n",
       "      <td>0</td>\n",
       "    </tr>\n",
       "    <tr>\n",
       "      <th>2015-06-02 10:55:42</th>\n",
       "      <td>2638</td>\n",
       "      <td>0</td>\n",
       "    </tr>\n",
       "  </tbody>\n",
       "</table>\n",
       "<p>6994594 rows × 2 columns</p>\n",
       "</div>"
      ],
      "text/plain": [
       "                     aggregate  kettle\n",
       "time                                  \n",
       "2013-09-25 19:21:09        387       0\n",
       "2013-09-25 19:21:16        386       0\n",
       "2013-09-25 19:21:23        383       0\n",
       "2013-09-25 19:21:30        388       0\n",
       "2013-09-25 19:21:37        388       0\n",
       "...                        ...     ...\n",
       "2015-06-02 10:55:14       2674       0\n",
       "2015-06-02 10:55:21       2435       0\n",
       "2015-06-02 10:55:28       2453       0\n",
       "2015-06-02 10:55:35       2733       0\n",
       "2015-06-02 10:55:42       2638       0\n",
       "\n",
       "[6994594 rows x 2 columns]"
      ]
     },
     "execution_count": 4,
     "metadata": {},
     "output_type": "execute_result"
    }
   ],
   "source": [
    "unsampled_kettle = kettle.data[3].copy()\n",
    "unsampled_kettle"
   ]
  },
  {
   "cell_type": "markdown",
   "id": "81a0ceb7",
   "metadata": {},
   "source": [
    "# Resample data "
   ]
  },
  {
   "cell_type": "code",
   "execution_count": 5,
   "id": "ee53c71b-8eb3-4513-b542-95b82153f577",
   "metadata": {},
   "outputs": [
    {
     "name": "stdout",
     "output_type": "stream",
     "text": [
      "Resampling for house number:  2\n",
      "Resampling for house number:  3\n",
      "Wall time: 12.7 s\n"
     ]
    }
   ],
   "source": [
    "%%time\n",
    "kettle.resample(sampling_period='8s', fill_value=0.0, window_limit=3.0)"
   ]
  },
  {
   "cell_type": "code",
   "execution_count": 6,
   "id": "85a2ac8f-e2f9-40c2-9106-f790251d5fb4",
   "metadata": {},
   "outputs": [
    {
     "data": {
      "text/html": [
       "<div>\n",
       "<style scoped>\n",
       "    .dataframe tbody tr th:only-of-type {\n",
       "        vertical-align: middle;\n",
       "    }\n",
       "\n",
       "    .dataframe tbody tr th {\n",
       "        vertical-align: top;\n",
       "    }\n",
       "\n",
       "    .dataframe thead th {\n",
       "        text-align: right;\n",
       "    }\n",
       "</style>\n",
       "<table border=\"1\" class=\"dataframe\">\n",
       "  <thead>\n",
       "    <tr style=\"text-align: right;\">\n",
       "      <th></th>\n",
       "      <th>aggregate</th>\n",
       "      <th>kettle</th>\n",
       "    </tr>\n",
       "    <tr>\n",
       "      <th>time</th>\n",
       "      <th></th>\n",
       "      <th></th>\n",
       "    </tr>\n",
       "  </thead>\n",
       "  <tbody>\n",
       "    <tr>\n",
       "      <th>2013-09-25 19:21:04</th>\n",
       "      <td>387.0</td>\n",
       "      <td>0.0</td>\n",
       "    </tr>\n",
       "    <tr>\n",
       "      <th>2013-09-25 19:21:12</th>\n",
       "      <td>386.5</td>\n",
       "      <td>0.0</td>\n",
       "    </tr>\n",
       "    <tr>\n",
       "      <th>2013-09-25 19:21:20</th>\n",
       "      <td>383.0</td>\n",
       "      <td>0.0</td>\n",
       "    </tr>\n",
       "    <tr>\n",
       "      <th>2013-09-25 19:21:28</th>\n",
       "      <td>388.0</td>\n",
       "      <td>0.0</td>\n",
       "    </tr>\n",
       "    <tr>\n",
       "      <th>2013-09-25 19:21:36</th>\n",
       "      <td>388.0</td>\n",
       "      <td>0.0</td>\n",
       "    </tr>\n",
       "    <tr>\n",
       "      <th>...</th>\n",
       "      <td>...</td>\n",
       "      <td>...</td>\n",
       "    </tr>\n",
       "    <tr>\n",
       "      <th>2015-06-02 10:55:04</th>\n",
       "      <td>2632.0</td>\n",
       "      <td>0.0</td>\n",
       "    </tr>\n",
       "    <tr>\n",
       "      <th>2015-06-02 10:55:12</th>\n",
       "      <td>2674.0</td>\n",
       "      <td>0.0</td>\n",
       "    </tr>\n",
       "    <tr>\n",
       "      <th>2015-06-02 10:55:20</th>\n",
       "      <td>2435.0</td>\n",
       "      <td>0.0</td>\n",
       "    </tr>\n",
       "    <tr>\n",
       "      <th>2015-06-02 10:55:28</th>\n",
       "      <td>2453.0</td>\n",
       "      <td>0.0</td>\n",
       "    </tr>\n",
       "    <tr>\n",
       "      <th>2015-06-02 10:55:36</th>\n",
       "      <td>2733.0</td>\n",
       "      <td>0.0</td>\n",
       "    </tr>\n",
       "  </tbody>\n",
       "</table>\n",
       "<p>6638210 rows × 2 columns</p>\n",
       "</div>"
      ],
      "text/plain": [
       "                     aggregate  kettle\n",
       "time                                  \n",
       "2013-09-25 19:21:04      387.0     0.0\n",
       "2013-09-25 19:21:12      386.5     0.0\n",
       "2013-09-25 19:21:20      383.0     0.0\n",
       "2013-09-25 19:21:28      388.0     0.0\n",
       "2013-09-25 19:21:36      388.0     0.0\n",
       "...                        ...     ...\n",
       "2015-06-02 10:55:04     2632.0     0.0\n",
       "2015-06-02 10:55:12     2674.0     0.0\n",
       "2015-06-02 10:55:20     2435.0     0.0\n",
       "2015-06-02 10:55:28     2453.0     0.0\n",
       "2015-06-02 10:55:36     2733.0     0.0\n",
       "\n",
       "[6638210 rows x 2 columns]"
      ]
     },
     "execution_count": 6,
     "metadata": {},
     "output_type": "execute_result"
    }
   ],
   "source": [
    "kettle.data[3]"
   ]
  },
  {
   "cell_type": "code",
   "execution_count": 7,
   "id": "3a42b59b-8a29-4325-9b4d-64f3bcb68456",
   "metadata": {},
   "outputs": [
    {
     "data": {
      "text/plain": [
       "<AxesSubplot:xlabel='time'>"
      ]
     },
     "execution_count": 7,
     "metadata": {},
     "output_type": "execute_result"
    },
    {
     "data": {
      "image/png": "[encoded data removed]",
      "text/plain": [
       "<Figure size 1800x504 with 1 Axes>"
      ]
     },
     "metadata": {
      "needs_background": "light"
     },
     "output_type": "display_data"
    }
   ],
   "source": [
    "unsampled_kettle['kettle']['2013-09-26 19:40': '2013-09-26 23:51'].plot(figsize=(25,7))\n",
    "unsampled_kettle['aggregate']['2013-09-26 19:40': '2013-09-26 23:51'].plot(figsize=(25,7))\n",
    "kettle.data[3]['kettle']['2013-09-26 19:40': '2013-09-26 20:51'].plot(figsize=(25,7))\n",
    "kettle.data[3]['aggregate']['2013-09-26 19:40': '2013-09-26 20:51'].plot(figsize=(25,7))"
   ]
  },
  {
   "cell_type": "code",
   "execution_count": null,
   "id": "507cbdc5-290d-454f-95bd-65a0e97241f6",
   "metadata": {},
   "outputs": [],
   "source": []
  }
 ],
 "metadata": {
  "kernelspec": {
   "display_name": "Python 3",
   "language": "python",
   "name": "python3"
  },
  "language_info": {
   "codemirror_mode": {
    "name": "ipython",
    "version": 3
   },
   "file_extension": ".py",
   "mimetype": "text/x-python",
   "name": "python",
   "nbconvert_exporter": "python",
   "pygments_lexer": "ipython3",
   "version": "3.9.2"
  }
 },
 "nbformat": 4,
 "nbformat_minor": 5
}
