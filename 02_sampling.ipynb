{
 "cells": [
  {
   "cell_type": "code",
   "execution_count": null,
   "id": "04e04564-120b-45d4-9b89-d25f25420603",
   "metadata": {},
   "outputs": [],
   "source": [
    "from loader.data_loader import REFIT_Loader"
   ]
  },
  {
   "cell_type": "code",
   "execution_count": null,
   "id": "fd768483-abd0-42e5-a488-045e0f505f35",
   "metadata": {},
   "outputs": [],
   "source": [
    "refit = REFIT_Loader()"
   ]
  },
  {
   "cell_type": "markdown",
   "id": "550b17b5-0917-4885-95e8-b2491f971955",
   "metadata": {},
   "source": [
    "## Fetch available appliances for a selected house"
   ]
  },
  {
   "cell_type": "code",
   "execution_count": null,
   "id": "2e85564f-2c8a-4f13-b968-aeb7c0323be4",
   "metadata": {},
   "outputs": [],
   "source": [
    "refit.get_appliance_names(house_number=3)"
   ]
  },
  {
   "cell_type": "markdown",
   "id": "a8db2fa0-ef2a-418c-a472-9a34fa24cfc9",
   "metadata": {},
   "source": [
    "## Load data for selected appliance (selected houses)"
   ]
  },
  {
   "cell_type": "code",
   "execution_count": null,
   "id": "245b4628-ffb2-476e-9f24-8666859a7c0d",
   "metadata": {},
   "outputs": [],
   "source": [
    "%%time\n",
    "washing_machine_unsampled = refit.get_appliance_data('washingmachine', houses=[2,3])\n",
    "washing_machine = refit.get_appliance_data('washingmachine', houses=[2,3])"
   ]
  },
  {
   "cell_type": "code",
   "execution_count": null,
   "id": "7ed684b4-7df1-4e63-bed6-6250e249421f",
   "metadata": {},
   "outputs": [],
   "source": [
    "type(washing_machine)"
   ]
  },
  {
   "cell_type": "markdown",
   "id": "81a0ceb7",
   "metadata": {},
   "source": [
    "## Resample data "
   ]
  },
  {
   "cell_type": "code",
   "execution_count": null,
   "id": "ee53c71b-8eb3-4513-b542-95b82153f577",
   "metadata": {},
   "outputs": [],
   "source": [
    "%%time\n",
    "washing_machine.resample(sampling_period='8s', fill_value=0.0, window_limit=3.0)"
   ]
  },
  {
   "cell_type": "code",
   "execution_count": null,
   "id": "f041b54a-3e29-4218-acb6-437e5d73b325",
   "metadata": {},
   "outputs": [],
   "source": [
    "washing_machine_unsampled.data[2]"
   ]
  },
  {
   "cell_type": "code",
   "execution_count": null,
   "id": "d33e7918-7685-48db-b776-3c06d71415c2",
   "metadata": {},
   "outputs": [],
   "source": [
    "washing_machine.data[2]"
   ]
  },
  {
   "cell_type": "code",
   "execution_count": null,
   "id": "85a2ac8f-e2f9-40c2-9106-f790251d5fb4",
   "metadata": {},
   "outputs": [],
   "source": []
  }
 ],
 "metadata": {
  "kernelspec": {
   "display_name": "Python 3",
   "language": "python",
   "name": "python3"
  },
  "language_info": {
   "codemirror_mode": {
    "name": "ipython",
    "version": 3
   },
   "file_extension": ".py",
   "mimetype": "text/x-python",
   "name": "python",
   "nbconvert_exporter": "python",
   "pygments_lexer": "ipython3",
   "version": "3.9.2"
  }
 },
 "nbformat": 4,
 "nbformat_minor": 5
}
