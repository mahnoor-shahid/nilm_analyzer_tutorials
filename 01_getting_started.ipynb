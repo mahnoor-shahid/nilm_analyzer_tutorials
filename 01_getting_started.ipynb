{
 "cells": [
  {
   "cell_type": "code",
   "execution_count": 1,
   "id": "04e04564-120b-45d4-9b89-d25f25420603",
   "metadata": {},
   "outputs": [],
   "source": [
    "from loader.data_loader import REFIT_Loader"
   ]
  },
  {
   "cell_type": "code",
   "execution_count": 2,
   "id": "fd768483-abd0-42e5-a488-045e0f505f35",
   "metadata": {},
   "outputs": [
    {
     "name": "stdout",
     "output_type": "stream",
     "text": [
      "Followings are the general configuration of your experiment..\n",
      "{'DATA_FOLDER': 'data/refit/', 'DATA_TYPE': '.csv', 'README_FILE': 'data/refit/REFIT_Readme.txt', 'REFIT_HOUSES': [1, 2, 3, 4, 5, 6, 7, 8, 9, 10, 11, 12, 13, 15, 16, 17, 18, 19, 20, 21]}\n",
      "\n",
      "Loading specified buildings: [1, 2, 3, 4, 5, 6, 7, 8, 9, 10, 11, 12, 13, 15, 16, 17, 18, 19, 20, 21]\n",
      "Parsing the readme file specified: data/refit/REFIT_Readme.txt\n",
      "Wall time: 1.07 s\n"
     ]
    }
   ],
   "source": [
    "%%time\n",
    "refit = REFIT_Loader()"
   ]
  },
  {
   "cell_type": "markdown",
   "id": "c534f93e-77b8-4983-96ea-bb7e8c17a7da",
   "metadata": {},
   "source": [
    "## Load data for selected house (all appliances)"
   ]
  },
  {
   "cell_type": "code",
   "execution_count": null,
   "id": "14676015-31c3-48a5-891c-4fa4af9be7f8",
   "metadata": {},
   "outputs": [],
   "source": [
    "%%time\n",
    "house2 = refit.get_house_data(2)\n",
    "house3 = refit.get_house_data(3)\n",
    "house14 = refit.get_house_data(14)"
   ]
  },
  {
   "cell_type": "code",
   "execution_count": null,
   "id": "79e3d12e-5a64-477f-bdd0-e700879dda64",
   "metadata": {},
   "outputs": [],
   "source": [
    "house2.head()"
   ]
  },
  {
   "cell_type": "markdown",
   "id": "f417bdc7-6682-4c2a-9ed8-ebd9c23043dc",
   "metadata": {},
   "source": [
    "## Fetch available appliances for a selected house"
   ]
  },
  {
   "cell_type": "code",
   "execution_count": null,
   "id": "dcd62c84-332e-4f00-a86c-430577f680a3",
   "metadata": {},
   "outputs": [],
   "source": [
    "refit.get_appliance_names(house=7)"
   ]
  },
  {
   "cell_type": "markdown",
   "id": "ffe78cf8-ba70-4e55-a7e3-58b73612443b",
   "metadata": {},
   "source": [
    "## Load data for selected appliance (all houses)"
   ]
  },
  {
   "cell_type": "code",
   "execution_count": null,
   "id": "61c7cfdb-db72-47fb-b992-d4ad77af8a05",
   "metadata": {},
   "outputs": [],
   "source": [
    "%%time\n",
    "# kettle = refit.get_appliance_data('Kettle')"
   ]
  },
  {
   "cell_type": "code",
   "execution_count": null,
   "id": "1202999b-bb4d-4760-9618-45373e74f225",
   "metadata": {},
   "outputs": [],
   "source": [
    "# kettle.data[2]"
   ]
  },
  {
   "cell_type": "markdown",
   "id": "a8db2fa0-ef2a-418c-a472-9a34fa24cfc9",
   "metadata": {},
   "source": [
    "## Load data for selected appliance (selected houses)"
   ]
  },
  {
   "cell_type": "code",
   "execution_count": 3,
   "id": "245b4628-ffb2-476e-9f24-8666859a7c0d",
   "metadata": {},
   "outputs": [
    {
     "name": "stdout",
     "output_type": "stream",
     "text": [
      "Loading data for appliance KETTLE ...\n",
      "Appliance 'kettle' does not exist in house 1. Check the availability of the appliance by using 'get_appliance_names' method\n",
      "Fetching KETTLE data for House 2\n",
      "House number = 14 does not exist in the provided dataset.\n",
      "Fetching KETTLE data for House 15\n",
      "Wall time: 13.9 s\n"
     ]
    }
   ],
   "source": [
    "%%time\n",
    "kettle = refit.get_appliance_data('Kettle', house=[1,2,14,15])"
   ]
  },
  {
   "cell_type": "code",
   "execution_count": 5,
   "id": "1bc5d7cb-70da-4146-bc96-a89ff29193a7",
   "metadata": {},
   "outputs": [
    {
     "data": {
      "text/plain": [
       "{2:                      aggregate  kettle\n",
       " time                                  \n",
       " 2013-09-17 22:08:11        695       0\n",
       " 2013-09-17 22:08:18        694       0\n",
       " 2013-09-17 22:08:26        694       0\n",
       " 2013-09-17 22:08:34        702       0\n",
       " 2013-09-17 22:08:42        700       0\n",
       " ...                        ...     ...\n",
       " 2015-05-28 08:05:16        315       0\n",
       " 2015-05-28 08:05:23        333       0\n",
       " 2015-05-28 08:05:30        313       0\n",
       " 2015-05-28 08:05:37        316       0\n",
       " 2015-05-28 08:05:43        383       0\n",
       " \n",
       " [5733526 rows x 2 columns],\n",
       " 15:                      aggregate  kettle\n",
       " time                                  \n",
       " 2013-12-17 17:24:18        243       0\n",
       " 2013-12-17 17:24:33        244       0\n",
       " 2013-12-17 17:24:48        245       0\n",
       " 2013-12-17 17:25:03        249       0\n",
       " 2013-12-17 17:25:18        241       0\n",
       " ...                        ...     ...\n",
       " 2015-07-08 02:10:27        164       0\n",
       " 2015-07-08 02:10:34        163       0\n",
       " 2015-07-08 02:10:41        166       0\n",
       " 2015-07-08 02:10:48        165       0\n",
       " 2015-07-08 02:10:54        165       0\n",
       " \n",
       " [6225696 rows x 2 columns]}"
      ]
     },
     "execution_count": 5,
     "metadata": {},
     "output_type": "execute_result"
    }
   ],
   "source": [
    "kettle.data"
   ]
  },
  {
   "cell_type": "code",
   "execution_count": null,
   "id": "0c4d0e93-d359-49a2-8cea-b7fcb6758a64",
   "metadata": {},
   "outputs": [],
   "source": [
    "kettle.data[15].head()"
   ]
  },
  {
   "cell_type": "code",
   "execution_count": null,
   "id": "811396c8-af5a-4f6a-b647-33730861a5f0",
   "metadata": {},
   "outputs": [],
   "source": [
    "%%time\n",
    "kettle.resample()"
   ]
  },
  {
   "cell_type": "code",
   "execution_count": null,
   "id": "0193893f-9216-4fbb-a43d-85d40d73a097",
   "metadata": {},
   "outputs": [],
   "source": []
  }
 ],
 "metadata": {
  "kernelspec": {
   "display_name": "Python 3",
   "language": "python",
   "name": "python3"
  },
  "language_info": {
   "codemirror_mode": {
    "name": "ipython",
    "version": 3
   },
   "file_extension": ".py",
   "mimetype": "text/x-python",
   "name": "python",
   "nbconvert_exporter": "python",
   "pygments_lexer": "ipython3",
   "version": "3.9.2"
  }
 },
 "nbformat": 4,
 "nbformat_minor": 5
}
