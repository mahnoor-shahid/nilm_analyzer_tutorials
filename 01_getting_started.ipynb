{
 "cells": [
  {
   "cell_type": "code",
   "execution_count": 1,
   "id": "04e04564-120b-45d4-9b89-d25f25420603",
   "metadata": {},
   "outputs": [],
   "source": [
    "from refit_loader.data_loader import REFIT_Loader"
   ]
  },
  {
   "cell_type": "code",
   "execution_count": 2,
   "id": "fd768483-abd0-42e5-a488-045e0f505f35",
   "metadata": {},
   "outputs": [
    {
     "name": "stdout",
     "output_type": "stream",
     "text": [
      "Followings are the general configuration of your experiment..\n",
      "{'DATA_FOLDER': 'data/refit/', 'DATA_TYPE': '.csv', 'README_FILE': 'data/refit/REFIT_Readme.txt', 'REFIT_HOUSES': [1, 2, 3, 4, 5, 6, 7, 8, 9, 10, 11, 12, 13, 15, 16, 17, 18, 19, 20, 21]}\n",
      "\n",
      "Loading specified buildings: [1, 2, 3, 4, 5, 6, 7, 8, 9, 10, 11, 12, 13, 15, 16, 17, 18, 19, 20, 21]\n",
      "Parsing the readme file specified: data/refit/REFIT_Readme.txt\n",
      "CPU times: total: 328 ms\n",
      "Wall time: 390 ms\n"
     ]
    }
   ],
   "source": [
    "%%time\n",
    "refit = REFIT_Loader()"
   ]
  },
  {
   "cell_type": "markdown",
   "id": "f417bdc7-6682-4c2a-9ed8-ebd9c23043dc",
   "metadata": {},
   "source": [
    "# Fetch the list of available appliances for selected houses"
   ]
  },
  {
   "cell_type": "code",
   "execution_count": 3,
   "id": "dcd62c84-332e-4f00-a86c-430577f680a3",
   "metadata": {},
   "outputs": [
    {
     "name": "stdout",
     "output_type": "stream",
     "text": [
      "Fetching appliances for house = 2\n"
     ]
    },
    {
     "data": {
      "text/plain": [
       "['unix',\n",
       " 'aggregate',\n",
       " 'fridge-freezer',\n",
       " 'washingmachine',\n",
       " 'dishwasher',\n",
       " 'television',\n",
       " 'microwave',\n",
       " 'toaster',\n",
       " 'hi-fi',\n",
       " 'kettle',\n",
       " 'ovenextractorfan']"
      ]
     },
     "execution_count": 3,
     "metadata": {},
     "output_type": "execute_result"
    }
   ],
   "source": [
    "refit.get_appliance_names(house=2)"
   ]
  },
  {
   "cell_type": "markdown",
   "id": "c534f93e-77b8-4983-96ea-bb7e8c17a7da",
   "metadata": {},
   "source": [
    "# Load data for selected house (all appliances)"
   ]
  },
  {
   "cell_type": "code",
   "execution_count": null,
   "id": "14676015-31c3-48a5-891c-4fa4af9be7f8",
   "metadata": {},
   "outputs": [],
   "source": [
    "%%time\n",
    "house2 = refit.get_house_data(house=2)\n",
    "house3 = refit.get_house_data(house=3)\n",
    "house14 = refit.get_house_data(house=14)"
   ]
  },
  {
   "cell_type": "code",
   "execution_count": null,
   "id": "79e3d12e-5a64-477f-bdd0-e700879dda64",
   "metadata": {},
   "outputs": [],
   "source": [
    "house2.head()"
   ]
  },
  {
   "cell_type": "markdown",
   "id": "22f32d52-7ea5-44d8-abb6-0bd86e8adaff",
   "metadata": {},
   "source": [
    "# Load data for selected appliance (all houses)"
   ]
  },
  {
   "cell_type": "code",
   "execution_count": null,
   "id": "81dc168e-8f5d-4910-86ab-51c0ef52b31e",
   "metadata": {},
   "outputs": [],
   "source": [
    "%%time\n",
    "kettle = refit.get_appliance_data(appliance='Kettle')"
   ]
  },
  {
   "cell_type": "markdown",
   "id": "ffe78cf8-ba70-4e55-a7e3-58b73612443b",
   "metadata": {},
   "source": [
    "# Load data for selected appliance and selected houses"
   ]
  },
  {
   "cell_type": "code",
   "execution_count": null,
   "id": "61c7cfdb-db72-47fb-b992-d4ad77af8a05",
   "metadata": {},
   "outputs": [],
   "source": [
    "%%time\n",
    "kettle = refit.get_appliance_data(appliance=\"Kettle\", houses=[1,2,3])"
   ]
  },
  {
   "cell_type": "code",
   "execution_count": null,
   "id": "1202999b-bb4d-4760-9618-45373e74f225",
   "metadata": {},
   "outputs": [],
   "source": [
    "kettle.data[2]"
   ]
  }
 ],
 "metadata": {
  "kernelspec": {
   "display_name": "Python 3 (ipykernel)",
   "language": "python",
   "name": "python3"
  },
  "language_info": {
   "codemirror_mode": {
    "name": "ipython",
    "version": 3
   },
   "file_extension": ".py",
   "mimetype": "text/x-python",
   "name": "python",
   "nbconvert_exporter": "python",
   "pygments_lexer": "ipython3",
   "version": "3.10.6"
  }
 },
 "nbformat": 4,
 "nbformat_minor": 5
}
