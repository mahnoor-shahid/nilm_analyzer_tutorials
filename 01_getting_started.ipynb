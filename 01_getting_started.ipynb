{
 "cells": [
  {
   "cell_type": "code",
   "execution_count": 5,
   "id": "04e04564-120b-45d4-9b89-d25f25420603",
   "metadata": {},
   "outputs": [],
   "source": [
    "from refit_loader.data_loader import REFIT_Loader"
   ]
  },
  {
   "cell_type": "code",
   "execution_count": 6,
   "id": "fd768483-abd0-42e5-a488-045e0f505f35",
   "metadata": {},
   "outputs": [
    {
     "name": "stdout",
     "output_type": "stream",
     "text": [
      "Followings are the refit_loader configuration of your experiment..\n",
      "{'DATA_FOLDER': 'data/refit/', 'DATA_TYPE': '.csv', 'README_FILE': 'refit_loader/REFIT_Readme.txt', 'REFIT_HOUSES': [1, 2, 3, 4, 5, 6, 7, 8, 9, 10, 11, 12, 13, 15, 16, 17, 18, 19, 20, 21]}\n",
      "\n",
      "Loading specified buildings: [1, 2, 3, 4, 5, 6, 7, 8, 9, 10, 11, 12, 13, 15, 16, 17, 18, 19, 20, 21]\n",
      "Parsing the readme file specified: refit_loader/REFIT_Readme.txt\n",
      "CPU times: total: 766 ms\n",
      "Wall time: 967 ms\n"
     ]
    }
   ],
   "source": [
    "%%time\n",
    "refit = REFIT_Loader()"
   ]
  },
  {
   "cell_type": "markdown",
   "id": "f417bdc7-6682-4c2a-9ed8-ebd9c23043dc",
   "metadata": {},
   "source": [
    "# Fetch the list of available appliances for selected houses"
   ]
  },
  {
   "cell_type": "code",
   "execution_count": 7,
   "id": "dcd62c84-332e-4f00-a86c-430577f680a3",
   "metadata": {},
   "outputs": [
    {
     "name": "stdout",
     "output_type": "stream",
     "text": [
      "Fetching appliances for house = 2\n"
     ]
    },
    {
     "data": {
      "text/plain": [
       "['unix',\n",
       " 'aggregate',\n",
       " 'fridge-freezer',\n",
       " 'washingmachine',\n",
       " 'dishwasher',\n",
       " 'televisionsite',\n",
       " 'microwave',\n",
       " 'toaster',\n",
       " 'hi-fi',\n",
       " 'kettle',\n",
       " 'overheadfan']"
      ]
     },
     "execution_count": 7,
     "metadata": {},
     "output_type": "execute_result"
    }
   ],
   "source": [
    "refit.get_appliance_names(house=2)"
   ]
  },
  {
   "cell_type": "markdown",
   "id": "c534f93e-77b8-4983-96ea-bb7e8c17a7da",
   "metadata": {},
   "source": [
    "# Load data for selected house (all appliances)"
   ]
  },
  {
   "cell_type": "code",
   "execution_count": 8,
   "id": "14676015-31c3-48a5-891c-4fa4af9be7f8",
   "metadata": {},
   "outputs": [
    {
     "name": "stdout",
     "output_type": "stream",
     "text": [
      "Loading data for house = 2\n",
      "Loading data for house = 3\n",
      "House Number = 14 does not exist in the provided dataset.\n",
      "CPU times: total: 39.1 s\n",
      "Wall time: 25 s\n"
     ]
    }
   ],
   "source": [
    "%%time\n",
    "house2 = refit.get_house_data(house=2)\n",
    "house3 = refit.get_house_data(house=3)\n",
    "house14 = refit.get_house_data(house=14)"
   ]
  },
  {
   "cell_type": "code",
   "execution_count": 9,
   "id": "79e3d12e-5a64-477f-bdd0-e700879dda64",
   "metadata": {},
   "outputs": [
    {
     "data": {
      "text/html": [
       "<div>\n",
       "<style scoped>\n",
       "    .dataframe tbody tr th:only-of-type {\n",
       "        vertical-align: middle;\n",
       "    }\n",
       "\n",
       "    .dataframe tbody tr th {\n",
       "        vertical-align: top;\n",
       "    }\n",
       "\n",
       "    .dataframe thead th {\n",
       "        text-align: right;\n",
       "    }\n",
       "</style>\n",
       "<table border=\"1\" class=\"dataframe\">\n",
       "  <thead>\n",
       "    <tr style=\"text-align: right;\">\n",
       "      <th></th>\n",
       "      <th>aggregate</th>\n",
       "      <th>fridge-freezer</th>\n",
       "      <th>washingmachine</th>\n",
       "      <th>dishwasher</th>\n",
       "      <th>televisionsite</th>\n",
       "      <th>microwave</th>\n",
       "      <th>toaster</th>\n",
       "      <th>hi-fi</th>\n",
       "      <th>kettle</th>\n",
       "      <th>overheadfan</th>\n",
       "    </tr>\n",
       "    <tr>\n",
       "      <th>time</th>\n",
       "      <th></th>\n",
       "      <th></th>\n",
       "      <th></th>\n",
       "      <th></th>\n",
       "      <th></th>\n",
       "      <th></th>\n",
       "      <th></th>\n",
       "      <th></th>\n",
       "      <th></th>\n",
       "      <th></th>\n",
       "    </tr>\n",
       "  </thead>\n",
       "  <tbody>\n",
       "    <tr>\n",
       "      <th>2013-09-17 22:08:11</th>\n",
       "      <td>695.0</td>\n",
       "      <td>88.0</td>\n",
       "      <td>0.0</td>\n",
       "      <td>0.0</td>\n",
       "      <td>0.0</td>\n",
       "      <td>0.0</td>\n",
       "      <td>0.0</td>\n",
       "      <td>0.0</td>\n",
       "      <td>0.0</td>\n",
       "      <td>0.0</td>\n",
       "    </tr>\n",
       "    <tr>\n",
       "      <th>2013-09-17 22:08:18</th>\n",
       "      <td>694.0</td>\n",
       "      <td>88.0</td>\n",
       "      <td>0.0</td>\n",
       "      <td>0.0</td>\n",
       "      <td>0.0</td>\n",
       "      <td>0.0</td>\n",
       "      <td>0.0</td>\n",
       "      <td>0.0</td>\n",
       "      <td>0.0</td>\n",
       "      <td>0.0</td>\n",
       "    </tr>\n",
       "    <tr>\n",
       "      <th>2013-09-17 22:08:26</th>\n",
       "      <td>694.0</td>\n",
       "      <td>88.0</td>\n",
       "      <td>0.0</td>\n",
       "      <td>0.0</td>\n",
       "      <td>0.0</td>\n",
       "      <td>0.0</td>\n",
       "      <td>0.0</td>\n",
       "      <td>0.0</td>\n",
       "      <td>0.0</td>\n",
       "      <td>0.0</td>\n",
       "    </tr>\n",
       "    <tr>\n",
       "      <th>2013-09-17 22:08:34</th>\n",
       "      <td>702.0</td>\n",
       "      <td>88.0</td>\n",
       "      <td>0.0</td>\n",
       "      <td>0.0</td>\n",
       "      <td>0.0</td>\n",
       "      <td>0.0</td>\n",
       "      <td>0.0</td>\n",
       "      <td>0.0</td>\n",
       "      <td>0.0</td>\n",
       "      <td>0.0</td>\n",
       "    </tr>\n",
       "    <tr>\n",
       "      <th>2013-09-17 22:08:42</th>\n",
       "      <td>700.0</td>\n",
       "      <td>88.0</td>\n",
       "      <td>0.0</td>\n",
       "      <td>0.0</td>\n",
       "      <td>0.0</td>\n",
       "      <td>0.0</td>\n",
       "      <td>0.0</td>\n",
       "      <td>0.0</td>\n",
       "      <td>0.0</td>\n",
       "      <td>0.0</td>\n",
       "    </tr>\n",
       "  </tbody>\n",
       "</table>\n",
       "</div>"
      ],
      "text/plain": [
       "                     aggregate  fridge-freezer  washingmachine  dishwasher  \\\n",
       "time                                                                         \n",
       "2013-09-17 22:08:11      695.0            88.0             0.0         0.0   \n",
       "2013-09-17 22:08:18      694.0            88.0             0.0         0.0   \n",
       "2013-09-17 22:08:26      694.0            88.0             0.0         0.0   \n",
       "2013-09-17 22:08:34      702.0            88.0             0.0         0.0   \n",
       "2013-09-17 22:08:42      700.0            88.0             0.0         0.0   \n",
       "\n",
       "                     televisionsite  microwave  toaster  hi-fi  kettle  \\\n",
       "time                                                                     \n",
       "2013-09-17 22:08:11             0.0        0.0      0.0    0.0     0.0   \n",
       "2013-09-17 22:08:18             0.0        0.0      0.0    0.0     0.0   \n",
       "2013-09-17 22:08:26             0.0        0.0      0.0    0.0     0.0   \n",
       "2013-09-17 22:08:34             0.0        0.0      0.0    0.0     0.0   \n",
       "2013-09-17 22:08:42             0.0        0.0      0.0    0.0     0.0   \n",
       "\n",
       "                     overheadfan  \n",
       "time                              \n",
       "2013-09-17 22:08:11          0.0  \n",
       "2013-09-17 22:08:18          0.0  \n",
       "2013-09-17 22:08:26          0.0  \n",
       "2013-09-17 22:08:34          0.0  \n",
       "2013-09-17 22:08:42          0.0  "
      ]
     },
     "execution_count": 9,
     "metadata": {},
     "output_type": "execute_result"
    }
   ],
   "source": [
    "house2.head()"
   ]
  },
  {
   "cell_type": "markdown",
   "id": "22f32d52-7ea5-44d8-abb6-0bd86e8adaff",
   "metadata": {},
   "source": [
    "# Load data for selected appliance (all houses)"
   ]
  },
  {
   "cell_type": "code",
   "execution_count": 10,
   "id": "81dc168e-8f5d-4910-86ab-51c0ef52b31e",
   "metadata": {},
   "outputs": [
    {
     "name": "stdout",
     "output_type": "stream",
     "text": [
      "Loading data for appliance KETTLE ...\n",
      "Appliance 'KETTLE' does not exist in house 1.\n",
      "Fetching KETTLE data for House 2\n",
      "Fetching KETTLE data for House 3\n",
      "Fetching KETTLE data for House 4\n",
      "Fetching KETTLE data for House 5\n",
      "Fetching KETTLE data for House 6\n",
      "Fetching KETTLE data for House 7\n",
      "Fetching KETTLE data for House 8\n",
      "Fetching KETTLE data for House 9\n",
      "Appliance 'KETTLE' does not exist in house 10.\n",
      "Fetching KETTLE data for House 11\n",
      "Fetching KETTLE data for House 12\n",
      "Fetching KETTLE data for House 13\n",
      "Appliance 'KETTLE' does not exist in house 15.\n",
      "Appliance 'KETTLE' does not exist in house 16.\n",
      "Fetching KETTLE data for House 17\n",
      "Appliance 'KETTLE' does not exist in house 18.\n",
      "Fetching KETTLE data for House 19\n",
      "Fetching KETTLE data for House 20\n",
      "Appliance 'KETTLE' does not exist in house 21.\n",
      "CPU times: total: 4min 21s\n",
      "Wall time: 2min 46s\n"
     ]
    }
   ],
   "source": [
    "%%time\n",
    "kettle = refit.get_appliance_data(appliance='Kettle')"
   ]
  },
  {
   "cell_type": "markdown",
   "id": "ffe78cf8-ba70-4e55-a7e3-58b73612443b",
   "metadata": {},
   "source": [
    "# Load data for selected appliance and selected houses"
   ]
  },
  {
   "cell_type": "code",
   "execution_count": 11,
   "id": "61c7cfdb-db72-47fb-b992-d4ad77af8a05",
   "metadata": {},
   "outputs": [
    {
     "name": "stdout",
     "output_type": "stream",
     "text": [
      "Loading data for appliance KETTLE ...\n",
      "Appliance 'KETTLE' does not exist in house 1.\n",
      "Fetching KETTLE data for House 2\n",
      "Fetching KETTLE data for House 3\n",
      "CPU times: total: 38.4 s\n",
      "Wall time: 24.2 s\n"
     ]
    }
   ],
   "source": [
    "%%time\n",
    "kettle = refit.get_appliance_data(appliance=\"Kettle\", houses=[1,2,3])"
   ]
  },
  {
   "cell_type": "code",
   "execution_count": 12,
   "id": "1202999b-bb4d-4760-9618-45373e74f225",
   "metadata": {},
   "outputs": [
    {
     "data": {
      "text/html": [
       "<div>\n",
       "<style scoped>\n",
       "    .dataframe tbody tr th:only-of-type {\n",
       "        vertical-align: middle;\n",
       "    }\n",
       "\n",
       "    .dataframe tbody tr th {\n",
       "        vertical-align: top;\n",
       "    }\n",
       "\n",
       "    .dataframe thead th {\n",
       "        text-align: right;\n",
       "    }\n",
       "</style>\n",
       "<table border=\"1\" class=\"dataframe\">\n",
       "  <thead>\n",
       "    <tr style=\"text-align: right;\">\n",
       "      <th></th>\n",
       "      <th>aggregate</th>\n",
       "      <th>kettle</th>\n",
       "    </tr>\n",
       "    <tr>\n",
       "      <th>time</th>\n",
       "      <th></th>\n",
       "      <th></th>\n",
       "    </tr>\n",
       "  </thead>\n",
       "  <tbody>\n",
       "    <tr>\n",
       "      <th>2013-09-17 22:08:11</th>\n",
       "      <td>695.0</td>\n",
       "      <td>0.0</td>\n",
       "    </tr>\n",
       "    <tr>\n",
       "      <th>2013-09-17 22:08:18</th>\n",
       "      <td>694.0</td>\n",
       "      <td>0.0</td>\n",
       "    </tr>\n",
       "    <tr>\n",
       "      <th>2013-09-17 22:08:26</th>\n",
       "      <td>694.0</td>\n",
       "      <td>0.0</td>\n",
       "    </tr>\n",
       "    <tr>\n",
       "      <th>2013-09-17 22:08:34</th>\n",
       "      <td>702.0</td>\n",
       "      <td>0.0</td>\n",
       "    </tr>\n",
       "    <tr>\n",
       "      <th>2013-09-17 22:08:42</th>\n",
       "      <td>700.0</td>\n",
       "      <td>0.0</td>\n",
       "    </tr>\n",
       "    <tr>\n",
       "      <th>...</th>\n",
       "      <td>...</td>\n",
       "      <td>...</td>\n",
       "    </tr>\n",
       "    <tr>\n",
       "      <th>2015-05-28 08:05:16</th>\n",
       "      <td>315.0</td>\n",
       "      <td>0.0</td>\n",
       "    </tr>\n",
       "    <tr>\n",
       "      <th>2015-05-28 08:05:23</th>\n",
       "      <td>333.0</td>\n",
       "      <td>0.0</td>\n",
       "    </tr>\n",
       "    <tr>\n",
       "      <th>2015-05-28 08:05:30</th>\n",
       "      <td>313.0</td>\n",
       "      <td>0.0</td>\n",
       "    </tr>\n",
       "    <tr>\n",
       "      <th>2015-05-28 08:05:37</th>\n",
       "      <td>316.0</td>\n",
       "      <td>0.0</td>\n",
       "    </tr>\n",
       "    <tr>\n",
       "      <th>2015-05-28 08:05:43</th>\n",
       "      <td>383.0</td>\n",
       "      <td>0.0</td>\n",
       "    </tr>\n",
       "  </tbody>\n",
       "</table>\n",
       "<p>5733526 rows × 2 columns</p>\n",
       "</div>"
      ],
      "text/plain": [
       "                     aggregate  kettle\n",
       "time                                  \n",
       "2013-09-17 22:08:11      695.0     0.0\n",
       "2013-09-17 22:08:18      694.0     0.0\n",
       "2013-09-17 22:08:26      694.0     0.0\n",
       "2013-09-17 22:08:34      702.0     0.0\n",
       "2013-09-17 22:08:42      700.0     0.0\n",
       "...                        ...     ...\n",
       "2015-05-28 08:05:16      315.0     0.0\n",
       "2015-05-28 08:05:23      333.0     0.0\n",
       "2015-05-28 08:05:30      313.0     0.0\n",
       "2015-05-28 08:05:37      316.0     0.0\n",
       "2015-05-28 08:05:43      383.0     0.0\n",
       "\n",
       "[5733526 rows x 2 columns]"
      ]
     },
     "execution_count": 12,
     "metadata": {},
     "output_type": "execute_result"
    }
   ],
   "source": [
    "kettle.data[2]"
   ]
  }
 ],
 "metadata": {
  "kernelspec": {
   "display_name": "Python 3 (ipykernel)",
   "language": "python",
   "name": "python3"
  },
  "language_info": {
   "codemirror_mode": {
    "name": "ipython",
    "version": 3
   },
   "file_extension": ".py",
   "mimetype": "text/x-python",
   "name": "python",
   "nbconvert_exporter": "python",
   "pygments_lexer": "ipython3",
   "version": "3.10.6"
  }
 },
 "nbformat": 4,
 "nbformat_minor": 5
}
