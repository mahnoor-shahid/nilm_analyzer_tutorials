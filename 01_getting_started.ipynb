{
 "cells": [
  {
   "cell_type": "code",
   "execution_count": 1,
   "id": "04e04564-120b-45d4-9b89-d25f25420603",
   "metadata": {},
   "outputs": [],
   "source": [
    "from loader.data_loader import REFIT_Loader"
   ]
  },
  {
   "cell_type": "code",
   "execution_count": 2,
   "id": "fd768483-abd0-42e5-a488-045e0f505f35",
   "metadata": {},
   "outputs": [
    {
     "name": "stdout",
     "output_type": "stream",
     "text": [
      "Followings are the general configuration of your experiment..\n",
      "{'DATA_FOLDER': 'data/refit/', 'DATA_TYPE': '.csv', 'README_FILE': 'data/refit/REFIT_Readme.txt', 'REFIT_HOUSES': [1, 2, 3, 4, 5, 6, 7, 8, 9, 10, 11, 12, 13, 15, 16, 17, 18, 19, 20, 21]}\n",
      "\n",
      "Loading specified buildings: [1, 2, 3, 4, 5, 6, 7, 8, 9, 10, 11, 12, 13, 15, 16, 17, 18, 19, 20, 21]\n",
      "Parsing the readme file specified: data/refit/REFIT_Readme.txt\n",
      "Wall time: 1.04 s\n"
     ]
    }
   ],
   "source": [
    "%%time\n",
    "refit = REFIT_Loader()"
   ]
  },
  {
   "cell_type": "markdown",
   "id": "c534f93e-77b8-4983-96ea-bb7e8c17a7da",
   "metadata": {},
   "source": [
    "## Load data for selected house (all appliances)"
   ]
  },
  {
   "cell_type": "code",
   "execution_count": 3,
   "id": "14676015-31c3-48a5-891c-4fa4af9be7f8",
   "metadata": {},
   "outputs": [
    {
     "name": "stdout",
     "output_type": "stream",
     "text": [
      "Loading data for house = 2\n",
      "Loading data for house = 3\n",
      "House number = 14 does not exist.\n",
      "Wall time: 16.3 s\n"
     ]
    }
   ],
   "source": [
    "%%time\n",
    "house2 = refit.get_house_data(2)\n",
    "house3 = refit.get_house_data(3)\n",
    "house14 = refit.get_house_data(14)"
   ]
  },
  {
   "cell_type": "code",
   "execution_count": 4,
   "id": "daa77d0b-2d92-4c61-afa1-9f80538fd0b4",
   "metadata": {},
   "outputs": [
    {
     "data": {
      "text/plain": [
       "pandas.core.frame.DataFrame"
      ]
     },
     "execution_count": 4,
     "metadata": {},
     "output_type": "execute_result"
    }
   ],
   "source": [
    "type(house2)"
   ]
  },
  {
   "cell_type": "code",
   "execution_count": 5,
   "id": "79e3d12e-5a64-477f-bdd0-e700879dda64",
   "metadata": {},
   "outputs": [
    {
     "data": {
      "text/html": [
       "<div>\n",
       "<style scoped>\n",
       "    .dataframe tbody tr th:only-of-type {\n",
       "        vertical-align: middle;\n",
       "    }\n",
       "\n",
       "    .dataframe tbody tr th {\n",
       "        vertical-align: top;\n",
       "    }\n",
       "\n",
       "    .dataframe thead th {\n",
       "        text-align: right;\n",
       "    }\n",
       "</style>\n",
       "<table border=\"1\" class=\"dataframe\">\n",
       "  <thead>\n",
       "    <tr style=\"text-align: right;\">\n",
       "      <th></th>\n",
       "      <th>unix</th>\n",
       "      <th>aggregate</th>\n",
       "      <th>fridge-freezer</th>\n",
       "      <th>washingmachine</th>\n",
       "      <th>dishwasher</th>\n",
       "      <th>television</th>\n",
       "      <th>microwave</th>\n",
       "      <th>toaster</th>\n",
       "      <th>hi-fi</th>\n",
       "      <th>kettle</th>\n",
       "      <th>ovenextractorfan</th>\n",
       "    </tr>\n",
       "    <tr>\n",
       "      <th>time</th>\n",
       "      <th></th>\n",
       "      <th></th>\n",
       "      <th></th>\n",
       "      <th></th>\n",
       "      <th></th>\n",
       "      <th></th>\n",
       "      <th></th>\n",
       "      <th></th>\n",
       "      <th></th>\n",
       "      <th></th>\n",
       "      <th></th>\n",
       "    </tr>\n",
       "  </thead>\n",
       "  <tbody>\n",
       "    <tr>\n",
       "      <th>2013-09-17 22:08:11</th>\n",
       "      <td>1379455691</td>\n",
       "      <td>695</td>\n",
       "      <td>88</td>\n",
       "      <td>0</td>\n",
       "      <td>0</td>\n",
       "      <td>0</td>\n",
       "      <td>0</td>\n",
       "      <td>0</td>\n",
       "      <td>0</td>\n",
       "      <td>0</td>\n",
       "      <td>0</td>\n",
       "    </tr>\n",
       "    <tr>\n",
       "      <th>2013-09-17 22:08:18</th>\n",
       "      <td>1379455698</td>\n",
       "      <td>694</td>\n",
       "      <td>88</td>\n",
       "      <td>0</td>\n",
       "      <td>0</td>\n",
       "      <td>0</td>\n",
       "      <td>0</td>\n",
       "      <td>0</td>\n",
       "      <td>0</td>\n",
       "      <td>0</td>\n",
       "      <td>0</td>\n",
       "    </tr>\n",
       "    <tr>\n",
       "      <th>2013-09-17 22:08:26</th>\n",
       "      <td>1379455706</td>\n",
       "      <td>694</td>\n",
       "      <td>88</td>\n",
       "      <td>0</td>\n",
       "      <td>0</td>\n",
       "      <td>0</td>\n",
       "      <td>0</td>\n",
       "      <td>0</td>\n",
       "      <td>0</td>\n",
       "      <td>0</td>\n",
       "      <td>0</td>\n",
       "    </tr>\n",
       "    <tr>\n",
       "      <th>2013-09-17 22:08:34</th>\n",
       "      <td>1379455714</td>\n",
       "      <td>702</td>\n",
       "      <td>88</td>\n",
       "      <td>0</td>\n",
       "      <td>0</td>\n",
       "      <td>0</td>\n",
       "      <td>0</td>\n",
       "      <td>0</td>\n",
       "      <td>0</td>\n",
       "      <td>0</td>\n",
       "      <td>0</td>\n",
       "    </tr>\n",
       "    <tr>\n",
       "      <th>2013-09-17 22:08:42</th>\n",
       "      <td>1379455722</td>\n",
       "      <td>700</td>\n",
       "      <td>88</td>\n",
       "      <td>0</td>\n",
       "      <td>0</td>\n",
       "      <td>0</td>\n",
       "      <td>0</td>\n",
       "      <td>0</td>\n",
       "      <td>0</td>\n",
       "      <td>0</td>\n",
       "      <td>0</td>\n",
       "    </tr>\n",
       "  </tbody>\n",
       "</table>\n",
       "</div>"
      ],
      "text/plain": [
       "                           unix  aggregate  fridge-freezer  washingmachine  \\\n",
       "time                                                                         \n",
       "2013-09-17 22:08:11  1379455691        695              88               0   \n",
       "2013-09-17 22:08:18  1379455698        694              88               0   \n",
       "2013-09-17 22:08:26  1379455706        694              88               0   \n",
       "2013-09-17 22:08:34  1379455714        702              88               0   \n",
       "2013-09-17 22:08:42  1379455722        700              88               0   \n",
       "\n",
       "                     dishwasher  television  microwave  toaster  hi-fi  \\\n",
       "time                                                                     \n",
       "2013-09-17 22:08:11           0           0          0        0      0   \n",
       "2013-09-17 22:08:18           0           0          0        0      0   \n",
       "2013-09-17 22:08:26           0           0          0        0      0   \n",
       "2013-09-17 22:08:34           0           0          0        0      0   \n",
       "2013-09-17 22:08:42           0           0          0        0      0   \n",
       "\n",
       "                     kettle  ovenextractorfan  \n",
       "time                                           \n",
       "2013-09-17 22:08:11       0                 0  \n",
       "2013-09-17 22:08:18       0                 0  \n",
       "2013-09-17 22:08:26       0                 0  \n",
       "2013-09-17 22:08:34       0                 0  \n",
       "2013-09-17 22:08:42       0                 0  "
      ]
     },
     "execution_count": 5,
     "metadata": {},
     "output_type": "execute_result"
    }
   ],
   "source": [
    "house2.head()"
   ]
  },
  {
   "cell_type": "markdown",
   "id": "f417bdc7-6682-4c2a-9ed8-ebd9c23043dc",
   "metadata": {},
   "source": [
    "## Fetch available appliances for a selected house"
   ]
  },
  {
   "cell_type": "code",
   "execution_count": 6,
   "id": "dcd62c84-332e-4f00-a86c-430577f680a3",
   "metadata": {},
   "outputs": [
    {
     "name": "stdout",
     "output_type": "stream",
     "text": [
      "Fetching appliances for house = 2\n"
     ]
    },
    {
     "data": {
      "text/plain": [
       "['unix',\n",
       " 'aggregate',\n",
       " 'fridge-freezer',\n",
       " 'washingmachine',\n",
       " 'dishwasher',\n",
       " 'television',\n",
       " 'microwave',\n",
       " 'toaster',\n",
       " 'hi-fi',\n",
       " 'kettle',\n",
       " 'ovenextractorfan']"
      ]
     },
     "execution_count": 6,
     "metadata": {},
     "output_type": "execute_result"
    }
   ],
   "source": [
    "refit.get_appliance_names(house_number=2)"
   ]
  },
  {
   "cell_type": "markdown",
   "id": "ffe78cf8-ba70-4e55-a7e3-58b73612443b",
   "metadata": {},
   "source": [
    "## Load data for selected appliance (all houses)"
   ]
  },
  {
   "cell_type": "code",
   "execution_count": 7,
   "id": "61c7cfdb-db72-47fb-b992-d4ad77af8a05",
   "metadata": {},
   "outputs": [
    {
     "name": "stdout",
     "output_type": "stream",
     "text": [
      "Loading data for appliance KETTLE\n",
      "\n",
      "House number = 1 does not have kettle\n",
      "Fetching KETTLE data for House 2\n",
      "Fetching KETTLE data for House 3\n",
      "Wall time: 14.5 s\n"
     ]
    }
   ],
   "source": [
    "%%time\n",
    "kettle = refit.get_appliance_data('Kettle', houses=[1,2,3])"
   ]
  },
  {
   "cell_type": "code",
   "execution_count": null,
   "id": "bfb771ba-4694-4bce-bf0f-47862c1f61c2",
   "metadata": {},
   "outputs": [],
   "source": [
    "type(kettle)"
   ]
  },
  {
   "cell_type": "code",
   "execution_count": null,
   "id": "1202999b-bb4d-4760-9618-45373e74f225",
   "metadata": {},
   "outputs": [],
   "source": [
    "kettle.resample()"
   ]
  },
  {
   "cell_type": "markdown",
   "id": "a8db2fa0-ef2a-418c-a472-9a34fa24cfc9",
   "metadata": {},
   "source": [
    "## Load data for selected appliance (selected houses)"
   ]
  },
  {
   "cell_type": "code",
   "execution_count": null,
   "id": "245b4628-ffb2-476e-9f24-8666859a7c0d",
   "metadata": {},
   "outputs": [],
   "source": [
    "%%time\n",
    "kettle = refit.get_appliance_data('Kettle', houses=[1,2,14,15])"
   ]
  },
  {
   "cell_type": "code",
   "execution_count": null,
   "id": "0c4d0e93-d359-49a2-8cea-b7fcb6758a64",
   "metadata": {},
   "outputs": [],
   "source": [
    "kettle.data[15].head()"
   ]
  },
  {
   "cell_type": "code",
   "execution_count": null,
   "id": "811396c8-af5a-4f6a-b647-33730861a5f0",
   "metadata": {},
   "outputs": [],
   "source": []
  }
 ],
 "metadata": {
  "kernelspec": {
   "display_name": "Python 3",
   "language": "python",
   "name": "python3"
  },
  "language_info": {
   "codemirror_mode": {
    "name": "ipython",
    "version": 3
   },
   "file_extension": ".py",
   "mimetype": "text/x-python",
   "name": "python",
   "nbconvert_exporter": "python",
   "pygments_lexer": "ipython3",
   "version": "3.9.2"
  }
 },
 "nbformat": 4,
 "nbformat_minor": 5
}
