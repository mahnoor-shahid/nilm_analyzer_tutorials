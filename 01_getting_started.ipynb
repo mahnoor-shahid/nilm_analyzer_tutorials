{
 "cells": [
  {
   "cell_type": "code",
   "execution_count": 1,
   "id": "04e04564-120b-45d4-9b89-d25f25420603",
   "metadata": {},
   "outputs": [],
   "source": [
    "from refit_loader.data_loader import REFIT_Loader"
   ]
  },
  {
   "cell_type": "code",
   "execution_count": 2,
   "id": "fd768483-abd0-42e5-a488-045e0f505f35",
   "metadata": {},
   "outputs": [
    {
     "name": "stdout",
     "output_type": "stream",
     "text": [
      "Followings are the general configuration of your experiment..\n",
      "{'DATA_FOLDER': 'refit_analyzer/data/refit/', 'DATA_TYPE': '.csv', 'README_FILE': 'refit_analyzer/data/refit/REFIT_Readme.txt', 'REFIT_HOUSES': [1, 2, 3, 4, 5, 6, 7, 8, 9, 10, 11, 12, 13, 15, 16, 17, 18, 19, 20, 21]}\n",
      "\n",
      "Loading specified buildings: [1, 2, 3, 4, 5, 6, 7, 8, 9, 10, 11, 12, 13, 15, 16, 17, 18, 19, 20, 21]\n",
      "Error occured in _load_file_via_dask method of CSV_Loader class due to  [WinError 3] The system cannot find the path specified: 'D:/Repos/1.11/refit_analyzer/refit_analyzer/data/refit/House_1.csv'\n",
      "Parsing the readme file specified: refit_analyzer/data/refit/REFIT_Readme.txt\n",
      "Error occured in parser method due to  [Errno 2] No such file or directory: 'refit_analyzer/data/refit/REFIT_Readme.txt'\n"
     ]
    },
    {
     "ename": "TypeError",
     "evalue": "'NoneType' object is not iterable",
     "output_type": "error",
     "traceback": [
      "\u001b[1;31m---------------------------------------------------------------------------\u001b[0m",
      "\u001b[1;31mTypeError\u001b[0m                                 Traceback (most recent call last)",
      "File \u001b[1;32m<timed exec>:1\u001b[0m\n",
      "File \u001b[1;32mD:\\Repos\\1.11\\refit_analyzer\\refit_loader\\data_loader.py:92\u001b[0m, in \u001b[0;36mREFIT_Loader.__init__\u001b[1;34m(self)\u001b[0m\n\u001b[0;32m     88\u001b[0m \u001b[38;5;28mself\u001b[39m\u001b[38;5;241m.\u001b[39mcollective_dataset \u001b[38;5;241m=\u001b[39m CSV_Loader\u001b[38;5;241m.\u001b[39m_load_files_via_dask(_data_folder\u001b[38;5;241m=\u001b[39mconfig[\u001b[38;5;124m'\u001b[39m\u001b[38;5;124mDATA_FOLDER\u001b[39m\u001b[38;5;124m'\u001b[39m]\u001b[38;5;241m+\u001b[39m\u001b[38;5;124m'\u001b[39m\u001b[38;5;124mHouse_\u001b[39m\u001b[38;5;124m'\u001b[39m,\n\u001b[0;32m     89\u001b[0m                                                     _files_format\u001b[38;5;241m=\u001b[39mconfig[\u001b[38;5;124m'\u001b[39m\u001b[38;5;124mDATA_TYPE\u001b[39m\u001b[38;5;124m'\u001b[39m],\n\u001b[0;32m     90\u001b[0m                                                     _buildings\u001b[38;5;241m=\u001b[39mconfig[\u001b[38;5;124m'\u001b[39m\u001b[38;5;124mREFIT_HOUSES\u001b[39m\u001b[38;5;124m'\u001b[39m])\n\u001b[0;32m     91\u001b[0m \u001b[38;5;28mself\u001b[39m\u001b[38;5;241m.\u001b[39mkeys_of_appliances \u001b[38;5;241m=\u001b[39m refit_parser(config[\u001b[38;5;124m'\u001b[39m\u001b[38;5;124mREADME_FILE\u001b[39m\u001b[38;5;124m'\u001b[39m])\n\u001b[1;32m---> 92\u001b[0m \u001b[38;5;28;01mfor\u001b[39;00m house_number \u001b[38;5;129;01min\u001b[39;00m \u001b[38;5;28mself\u001b[39m\u001b[38;5;241m.\u001b[39mcollective_dataset:\n\u001b[0;32m     93\u001b[0m     cols \u001b[38;5;241m=\u001b[39m [header\u001b[38;5;241m.\u001b[39mlower() \u001b[38;5;28;01mfor\u001b[39;00m header \u001b[38;5;129;01min\u001b[39;00m \u001b[38;5;28mself\u001b[39m\u001b[38;5;241m.\u001b[39mkeys_of_appliances[\u001b[38;5;28mstr\u001b[39m(house_number)]]\n\u001b[0;32m     94\u001b[0m     \u001b[38;5;28mself\u001b[39m\u001b[38;5;241m.\u001b[39mcollective_dataset[house_number] \u001b[38;5;241m=\u001b[39m \u001b[38;5;28mself\u001b[39m\u001b[38;5;241m.\u001b[39mcollective_dataset[house_number]\u001b[38;5;241m.\u001b[39mrename(columns\u001b[38;5;241m=\u001b[39m{\u001b[38;5;124m\"\u001b[39m\u001b[38;5;124mTime\u001b[39m\u001b[38;5;124m\"\u001b[39m: \u001b[38;5;124m\"\u001b[39m\u001b[38;5;124mtime\u001b[39m\u001b[38;5;124m\"\u001b[39m, \u001b[38;5;124m\"\u001b[39m\u001b[38;5;124mUnix\u001b[39m\u001b[38;5;124m\"\u001b[39m: \u001b[38;5;124m\"\u001b[39m\u001b[38;5;124munix\u001b[39m\u001b[38;5;124m\"\u001b[39m, \u001b[38;5;124m\"\u001b[39m\u001b[38;5;124mAggregate\u001b[39m\u001b[38;5;124m\"\u001b[39m: cols[\u001b[38;5;241m0\u001b[39m], \u001b[38;5;124m\"\u001b[39m\u001b[38;5;124mAppliance1\u001b[39m\u001b[38;5;124m\"\u001b[39m:cols[\u001b[38;5;241m1\u001b[39m], \u001b[38;5;124m\"\u001b[39m\u001b[38;5;124mAppliance2\u001b[39m\u001b[38;5;124m\"\u001b[39m:cols[\u001b[38;5;241m2\u001b[39m],\n\u001b[0;32m     95\u001b[0m                                                                                           \u001b[38;5;124m\"\u001b[39m\u001b[38;5;124mAppliance3\u001b[39m\u001b[38;5;124m\"\u001b[39m:cols[\u001b[38;5;241m3\u001b[39m], \u001b[38;5;124m\"\u001b[39m\u001b[38;5;124mAppliance4\u001b[39m\u001b[38;5;124m\"\u001b[39m:cols[\u001b[38;5;241m4\u001b[39m], \u001b[38;5;124m\"\u001b[39m\u001b[38;5;124mAppliance5\u001b[39m\u001b[38;5;124m\"\u001b[39m:cols[\u001b[38;5;241m5\u001b[39m],\u001b[38;5;124m\"\u001b[39m\u001b[38;5;124mAppliance6\u001b[39m\u001b[38;5;124m\"\u001b[39m:cols[\u001b[38;5;241m6\u001b[39m], \u001b[38;5;124m\"\u001b[39m\u001b[38;5;124mAppliance7\u001b[39m\u001b[38;5;124m\"\u001b[39m:cols[\u001b[38;5;241m7\u001b[39m],\n\u001b[0;32m     96\u001b[0m                                                                                           \u001b[38;5;124m\"\u001b[39m\u001b[38;5;124mAppliance8\u001b[39m\u001b[38;5;124m\"\u001b[39m:cols[\u001b[38;5;241m8\u001b[39m], \u001b[38;5;124m\"\u001b[39m\u001b[38;5;124mAppliance9\u001b[39m\u001b[38;5;124m\"\u001b[39m:cols[\u001b[38;5;241m9\u001b[39m]})\n",
      "\u001b[1;31mTypeError\u001b[0m: 'NoneType' object is not iterable"
     ]
    }
   ],
   "source": [
    "%%time\n",
    "refit = REFIT_Loader()"
   ]
  },
  {
   "cell_type": "markdown",
   "id": "f417bdc7-6682-4c2a-9ed8-ebd9c23043dc",
   "metadata": {},
   "source": [
    "# Fetch the list of available appliances for selected houses"
   ]
  },
  {
   "cell_type": "code",
   "execution_count": null,
   "id": "dcd62c84-332e-4f00-a86c-430577f680a3",
   "metadata": {},
   "outputs": [],
   "source": [
    "refit.get_appliance_names(house=2)"
   ]
  },
  {
   "cell_type": "markdown",
   "id": "c534f93e-77b8-4983-96ea-bb7e8c17a7da",
   "metadata": {},
   "source": [
    "# Load data for selected house (all appliances)"
   ]
  },
  {
   "cell_type": "code",
   "execution_count": null,
   "id": "14676015-31c3-48a5-891c-4fa4af9be7f8",
   "metadata": {},
   "outputs": [],
   "source": [
    "%%time\n",
    "house2 = refit.get_house_data(house=2)\n",
    "house3 = refit.get_house_data(house=3)\n",
    "house14 = refit.get_house_data(house=14)"
   ]
  },
  {
   "cell_type": "code",
   "execution_count": null,
   "id": "79e3d12e-5a64-477f-bdd0-e700879dda64",
   "metadata": {},
   "outputs": [],
   "source": [
    "house2.head()"
   ]
  },
  {
   "cell_type": "markdown",
   "id": "22f32d52-7ea5-44d8-abb6-0bd86e8adaff",
   "metadata": {},
   "source": [
    "# Load data for selected appliance (all houses)"
   ]
  },
  {
   "cell_type": "code",
   "execution_count": null,
   "id": "81dc168e-8f5d-4910-86ab-51c0ef52b31e",
   "metadata": {},
   "outputs": [],
   "source": [
    "%%time\n",
    "kettle = refit.get_appliance_data(appliance='Kettle')"
   ]
  },
  {
   "cell_type": "markdown",
   "id": "ffe78cf8-ba70-4e55-a7e3-58b73612443b",
   "metadata": {},
   "source": [
    "# Load data for selected appliance and selected houses"
   ]
  },
  {
   "cell_type": "code",
   "execution_count": null,
   "id": "61c7cfdb-db72-47fb-b992-d4ad77af8a05",
   "metadata": {},
   "outputs": [],
   "source": [
    "%%time\n",
    "kettle = refit.get_appliance_data(appliance=\"Kettle\", houses=[1,2,3])"
   ]
  },
  {
   "cell_type": "code",
   "execution_count": null,
   "id": "1202999b-bb4d-4760-9618-45373e74f225",
   "metadata": {},
   "outputs": [],
   "source": [
    "kettle.data[2]"
   ]
  }
 ],
 "metadata": {
  "kernelspec": {
   "display_name": "Python 3 (ipykernel)",
   "language": "python",
   "name": "python3"
  },
  "language_info": {
   "codemirror_mode": {
    "name": "ipython",
    "version": 3
   },
   "file_extension": ".py",
   "mimetype": "text/x-python",
   "name": "python",
   "nbconvert_exporter": "python",
   "pygments_lexer": "ipython3",
   "version": "3.10.6"
  }
 },
 "nbformat": 4,
 "nbformat_minor": 5
}
