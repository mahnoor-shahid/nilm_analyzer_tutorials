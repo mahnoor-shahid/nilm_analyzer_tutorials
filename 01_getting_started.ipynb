{
 "cells": [
  {
   "cell_type": "code",
   "execution_count": 1,
   "id": "04e04564-120b-45d4-9b89-d25f25420603",
   "metadata": {},
   "outputs": [],
   "source": [
    "from refit_loader.data_loader import REFIT_Loader"
   ]
  },
  {
   "cell_type": "code",
   "execution_count": 2,
   "id": "fd768483-abd0-42e5-a488-045e0f505f35",
   "metadata": {},
   "outputs": [
    {
     "name": "stdout",
     "output_type": "stream",
     "text": [
      "Followings are the general configuration of your experiment..\n",
      "{'DATA_FOLDER': 'data/refit/', 'DATA_TYPE': '.csv', 'README_FILE': 'refit_loader/REFIT_README.txt', 'REFIT_HOUSES': [1, 2, 3, 4, 5, 6, 7, 8, 9, 10, 11, 12, 13, 15, 16, 17, 18, 19, 20, 21]}\n",
      "\n",
      "Loading specified buildings: [1, 2, 3, 4, 5, 6, 7, 8, 9, 10, 11, 12, 13, 15, 16, 17, 18, 19, 20, 21]\n",
      "Parsing the readme file specified: refit_loader/REFIT_README.txt\n",
      "['REFIT: Electrical Load Measurements\\n', '\\n', 'INFORMATION\\n', 'Collection of this dataset was supported by the Engineering and Physical Sciences Research Council (EPSRC) via the project entitled Personalised Retrofit Decision Support Tools for UK Homes using Smart Home Technology (REFIT), which is a collaboration among the Universities of Strathclyde, Loughborough and East Anglia. The dataset includes data from 20 households from the Loughborough area over the period 2013 - 2014. Additional information about REFIT is available from www.refitsmarthomes.org.\\n', '\\n', 'LICENCING\\n', 'This work is licensed under the Creative Commons Attribution 4.0 International Public License. See https://creativecommons.org/licenses/by/4.0/legalcode for further details.\\n', 'Please cite the following paper if you use the dataset:\\n', '\\n', '@inbook{278e1df91d22494f9be2adfca2559f92,\\n', 'title = \"A data management platform for personalised real-time energy feedback\",\\n', 'keywords = \"smart homes, real-time energy, smart energy meter, energy consumption, Electrical engineering. Electronics Nuclear engineering, Electrical and Electronic Engineering\",\\n', 'author = \"David Murray and Jing Liao and Lina Stankovic and Vladimir Stankovic and Richard Hauxwell-Baldwin and Charlie Wilson and Michael Coleman and Tom Kane and Steven Firth\",\\n', 'year = \"2015\",\\n', 'booktitle = \"Procededings of the 8th International Conference on Energy Efficiency in Domestic Appliances and Lighting\",\\n', '}\\n', '\\n', 'Each of the houses is labelled, House 1 - House 21 (skipping House 14), each house has 10 power sensors comprising a current clamp for the household aggregate and 9 Individual Appliance Monitors (IAMs). Only active power in Watts is collected at 8-second interval.\\n', 'The subset of all appliances in a household that was monitored reflects the document from DECC of the largest consumers in UK households, https://www.gov.uk/government/uploads/system/uploads/attachment_data/file/274778/9_Domestic_appliances__cooking_and_cooling_equipment.pdf\\n', '\\n', 'FILE FORMAT\\n', 'The file format is csv and is laid out as follows;\\n', 'UNIX TIMESTAMP (UCT), Aggregate, Appliance1, Appliance2, Appliance3, ... , Appliance9\\n', 'Additionally data was only recorded when there was a change in load; this data has been filled with intermediate values where not available. The sensors are also not synchronised as our collection script polled every 6-8 seconds; the sensor may have updated anywhere in the last 6 seconds.\\n', '\\n', 'MISSING DATA\\n', 'During the course of the study there are a few periods of missing data (notably February 2014). Outages were due to a number of factors, including household internet failure, hardware failures, network routing issues, etc.\\n', '\\n', 'APPLIANCE LIST\\n', 'The following list shows the appliances that were known to be monitored at the beginning of the study period. Although occupants were asked not to remove or switch appliances monitored by the IAMs, we cannot guarantee this to be the case. It should also be noted that Television and Computer Site may consist of multiple appliances, e.g. Television, SkyBox, DvD Player, Computer, Speakers, etc.\\n', '\\n', 'House 1\\n', '0.Aggregate, 1.Fridge, 2.Freezer(1), 3.Freezer(2), 4.Washer Dryer,\\n', '5.Washing Machine, 6.Dishwasher, 7.Computer, 8.Television Site, 9.Electric Heater\\n', '\\n', 'House 2\\n', '0.Aggregate, 1.Fridge-Freezer, 2.Washing Machine, 3.Dishwasher, 4.Television Site,\\n', '5.Microwave, 6.Toaster, 7.Hi-Fi, 8.Kettle, 9.Overhead Fan\\n', '\\n', 'House 3\\n', '0.Aggregate, 1.Toaster, 2.Fridge-Freezer, 3.Freezer, 4.Tumble Dryer,\\n', '5.Dishwasher, 6.Washing Machine, 7.Television Site, 8.Microwave, 9.Kettle\\n', '\\n', 'House 4\\n', '0.Aggregate, 1.Fridge, 2.Freezer, 3.Fridge-Freezer, 4.Washing Machine(1),\\n', '5.Washing Machine(2), 6.Desktop Computer, 7.Television Site, 8.Microwave, 9.Kettle\\n', '\\n', 'House 5\\n', '0.Aggregate, 1.Fridge-Freezer, 2.Tumble Dryer 3.Washing Machine, 4.Dishwasher,\\n', '5.Desktop Computer, 6.Television Site, 7.Microwave, 8.Kettle, 9.Toaster\\n', '\\n', 'House 6\\n', '0.Aggregate, 1.Freezer, 2.Washing Machine, 3.Dishwasher, 4.MJY Computer,\\n', '5.TV/Satellite, 6.Microwave, 7.Kettle, 8.Toaster, 9.PGM Computer\\n', '\\n', 'House 7\\n', '0.Aggregate, 1.Fridge, 2.Freezer(1), 3.Freezer(2), 4.Tumble Dryer,\\n', '5.Washing Machine, 6.Dishwasher, 7.Television Site, 8.Toaster, 9.Kettle\\n', '\\n', 'House 8\\n', '0.Aggregate, 1.Fridge, 2.Freezer, 3.Washer Dryer, 4.Washing Machine,\\n', '5.Toaster, 6.Computer, 7.Television Site, 8.Microwave, 9.Kettle\\n', '\\n', 'House 9\\n', '0.Aggregate, 1.Fridge-Freezer, 2.Washer Dryer, 3.Washing Machine, 4.Dishwasher,\\n', '5.Television Site, 6.Microwave, 7.Kettle, 8.Hi-Fi, 9.Electric Heater\\n', '\\n', 'House 10\\n', '0.Aggregate, 1.Magimix(Blender), 2.Toaster, 3.Chest Freezer, 4.Fridge-Freezer,\\n', ' 5.Washing Machine, 6.Dishwasher, 7.Television Site, 8.Microwave, 9.K Mix\\n', '\\n', ' House 11\\n', ' 0.Aggregate, 1.Firdge, 2.Fridge-Freezer, 3.Washing Machine, 4.Dishwasher,\\n', ' 5.Computer Site, 6.Microwave, 7.Kettle, 8.Router, 9.Hi-Fi\\n', '\\n', ' House 12\\n', ' 0.Aggregate, 1.Fridge-Freezer, 2.???, 3.???, 4.Computer Site,\\n', ' 5.Microwave, 6.Kettle, 7.Toaster, 8.Television, 9.???\\n', '\\n', ' House 13\\n', ' 0.Aggregate, 1.Television Site, 2.Freezer, 3.Washing Machine, 4.Dishwasher,\\n', ' 5.???, 6.Network Site, 7.Microwave, 8.Microwave, 9.Kettle\\n', '\\n', ' House 15\\n', ' 0.Aggregate, 1.Fridge-Freezer, 2.Tumble Dryer, 3.Washing Machine, 4.Dishwasher,\\n', ' 5.Computer Site, 6.Television Site, 7.Microwave, 8.Hi-Fi, 9.Toaster\\n', '\\n', ' House 16\\n', ' 0.Aggregate, 1.Fridge-Freezer(1), 2.Fridge-Freezer(2), 3.Electric Heater(1),\\n', ' 4.Electric Heater(2), 5.Washing Machine, 6.Dishwasher, 7.Computer Site,\\n', ' 8.Television Site, 9.Dehumidifier\\n', '\\n', ' House 17\\n', ' 0.Aggregate, 1.Freezer, 2.Fridge-Freezer, 3.Tumble Dryer, 4.Washing Machine,\\n', ' 5.Computer Site, 6.Television Site, 7.Microwave, 8.Kettle, 9.TV Site(Bedroom)\\n', '\\n', ' House 18\\n', ' 0.Aggregate, 1.Fridge(garage), 2.Freezer(garage), 3.Fridge-Freezer,\\n', ' 4.Washer Dryer(garage), 5.Washing Machine, 6.Dishwasher, 7.Desktop Computer,\\n', ' 8.Television Site, 9.Microwave\\n', '\\n', ' House 19\\n', ' 0.Aggregate, 1.Fridge Freezer, 2.Washing Machine, 3.Television Site, 4.Microwave,\\n', ' 5.Kettle, 6.Toaster, 7.Bread-maker, 8.Games Console, 9.Hi-Fi\\n', '\\n', ' House 20\\n', ' 0.Aggregate, 1.Fridge, 2.Freezer, 3.Tumble Dryer, 4.Washing Machine, 5.Dishwasher,\\n', ' 6.Computer Site, 7.Television Site, 8.Microwave, 9.Kettle\\n', '\\n', ' House 21\\n', ' 0.Aggregate, 1.Fridge-Freezer, 2.Tumble Dryer, 3.Washing Machine, 4.Dishwasher,\\n', ' 5.Food Mixer, 6.Television, 7.???, 8.Vivarium, 9.Pond Pump', '\\n']\n",
      "CPU times: total: 281 ms\n",
      "Wall time: 283 ms\n"
     ]
    }
   ],
   "source": [
    "%%time\n",
    "refit = REFIT_Loader()"
   ]
  },
  {
   "cell_type": "markdown",
   "id": "f417bdc7-6682-4c2a-9ed8-ebd9c23043dc",
   "metadata": {},
   "source": [
    "# Fetch the list of available appliances for selected houses"
   ]
  },
  {
   "cell_type": "code",
   "execution_count": 3,
   "id": "dcd62c84-332e-4f00-a86c-430577f680a3",
   "metadata": {},
   "outputs": [
    {
     "name": "stdout",
     "output_type": "stream",
     "text": [
      "Fetching appliances for house = 2\n"
     ]
    },
    {
     "data": {
      "text/plain": [
       "['unix',\n",
       " 'aggregate',\n",
       " 'fridge-freezer',\n",
       " 'washingmachine',\n",
       " 'dishwasher',\n",
       " 'televisionsite',\n",
       " 'microwave',\n",
       " 'toaster',\n",
       " 'hi-fi',\n",
       " 'kettle',\n",
       " 'overheadfan']"
      ]
     },
     "execution_count": 3,
     "metadata": {},
     "output_type": "execute_result"
    }
   ],
   "source": [
    "refit.get_appliance_names(house=2)"
   ]
  },
  {
   "cell_type": "markdown",
   "id": "c534f93e-77b8-4983-96ea-bb7e8c17a7da",
   "metadata": {},
   "source": [
    "# Load data for selected house (all appliances)"
   ]
  },
  {
   "cell_type": "code",
   "execution_count": 4,
   "id": "14676015-31c3-48a5-891c-4fa4af9be7f8",
   "metadata": {},
   "outputs": [
    {
     "name": "stdout",
     "output_type": "stream",
     "text": [
      "Loading data for house = 2\n",
      "Loading data for house = 3\n",
      "House Number = 14 does not exist in the provided dataset.\n",
      "CPU times: total: 22.6 s\n",
      "Wall time: 14.4 s\n"
     ]
    }
   ],
   "source": [
    "%%time\n",
    "house2 = refit.get_house_data(house=2)\n",
    "house3 = refit.get_house_data(house=3)\n",
    "house14 = refit.get_house_data(house=14)"
   ]
  },
  {
   "cell_type": "code",
   "execution_count": 5,
   "id": "79e3d12e-5a64-477f-bdd0-e700879dda64",
   "metadata": {},
   "outputs": [
    {
     "data": {
      "text/html": [
       "<div>\n",
       "<style scoped>\n",
       "    .dataframe tbody tr th:only-of-type {\n",
       "        vertical-align: middle;\n",
       "    }\n",
       "\n",
       "    .dataframe tbody tr th {\n",
       "        vertical-align: top;\n",
       "    }\n",
       "\n",
       "    .dataframe thead th {\n",
       "        text-align: right;\n",
       "    }\n",
       "</style>\n",
       "<table border=\"1\" class=\"dataframe\">\n",
       "  <thead>\n",
       "    <tr style=\"text-align: right;\">\n",
       "      <th></th>\n",
       "      <th>unix</th>\n",
       "      <th>aggregate</th>\n",
       "      <th>fridge-freezer</th>\n",
       "      <th>washingmachine</th>\n",
       "      <th>dishwasher</th>\n",
       "      <th>televisionsite</th>\n",
       "      <th>microwave</th>\n",
       "      <th>toaster</th>\n",
       "      <th>hi-fi</th>\n",
       "      <th>kettle</th>\n",
       "      <th>overheadfan</th>\n",
       "    </tr>\n",
       "    <tr>\n",
       "      <th>time</th>\n",
       "      <th></th>\n",
       "      <th></th>\n",
       "      <th></th>\n",
       "      <th></th>\n",
       "      <th></th>\n",
       "      <th></th>\n",
       "      <th></th>\n",
       "      <th></th>\n",
       "      <th></th>\n",
       "      <th></th>\n",
       "      <th></th>\n",
       "    </tr>\n",
       "  </thead>\n",
       "  <tbody>\n",
       "    <tr>\n",
       "      <th>2013-09-17 22:08:11</th>\n",
       "      <td>1379455691</td>\n",
       "      <td>695</td>\n",
       "      <td>88</td>\n",
       "      <td>0</td>\n",
       "      <td>0</td>\n",
       "      <td>0</td>\n",
       "      <td>0</td>\n",
       "      <td>0</td>\n",
       "      <td>0</td>\n",
       "      <td>0</td>\n",
       "      <td>0</td>\n",
       "    </tr>\n",
       "    <tr>\n",
       "      <th>2013-09-17 22:08:18</th>\n",
       "      <td>1379455698</td>\n",
       "      <td>694</td>\n",
       "      <td>88</td>\n",
       "      <td>0</td>\n",
       "      <td>0</td>\n",
       "      <td>0</td>\n",
       "      <td>0</td>\n",
       "      <td>0</td>\n",
       "      <td>0</td>\n",
       "      <td>0</td>\n",
       "      <td>0</td>\n",
       "    </tr>\n",
       "    <tr>\n",
       "      <th>2013-09-17 22:08:26</th>\n",
       "      <td>1379455706</td>\n",
       "      <td>694</td>\n",
       "      <td>88</td>\n",
       "      <td>0</td>\n",
       "      <td>0</td>\n",
       "      <td>0</td>\n",
       "      <td>0</td>\n",
       "      <td>0</td>\n",
       "      <td>0</td>\n",
       "      <td>0</td>\n",
       "      <td>0</td>\n",
       "    </tr>\n",
       "    <tr>\n",
       "      <th>2013-09-17 22:08:34</th>\n",
       "      <td>1379455714</td>\n",
       "      <td>702</td>\n",
       "      <td>88</td>\n",
       "      <td>0</td>\n",
       "      <td>0</td>\n",
       "      <td>0</td>\n",
       "      <td>0</td>\n",
       "      <td>0</td>\n",
       "      <td>0</td>\n",
       "      <td>0</td>\n",
       "      <td>0</td>\n",
       "    </tr>\n",
       "    <tr>\n",
       "      <th>2013-09-17 22:08:42</th>\n",
       "      <td>1379455722</td>\n",
       "      <td>700</td>\n",
       "      <td>88</td>\n",
       "      <td>0</td>\n",
       "      <td>0</td>\n",
       "      <td>0</td>\n",
       "      <td>0</td>\n",
       "      <td>0</td>\n",
       "      <td>0</td>\n",
       "      <td>0</td>\n",
       "      <td>0</td>\n",
       "    </tr>\n",
       "  </tbody>\n",
       "</table>\n",
       "</div>"
      ],
      "text/plain": [
       "                           unix  aggregate  fridge-freezer  washingmachine  \\\n",
       "time                                                                         \n",
       "2013-09-17 22:08:11  1379455691        695              88               0   \n",
       "2013-09-17 22:08:18  1379455698        694              88               0   \n",
       "2013-09-17 22:08:26  1379455706        694              88               0   \n",
       "2013-09-17 22:08:34  1379455714        702              88               0   \n",
       "2013-09-17 22:08:42  1379455722        700              88               0   \n",
       "\n",
       "                     dishwasher  televisionsite  microwave  toaster  hi-fi  \\\n",
       "time                                                                         \n",
       "2013-09-17 22:08:11           0               0          0        0      0   \n",
       "2013-09-17 22:08:18           0               0          0        0      0   \n",
       "2013-09-17 22:08:26           0               0          0        0      0   \n",
       "2013-09-17 22:08:34           0               0          0        0      0   \n",
       "2013-09-17 22:08:42           0               0          0        0      0   \n",
       "\n",
       "                     kettle  overheadfan  \n",
       "time                                      \n",
       "2013-09-17 22:08:11       0            0  \n",
       "2013-09-17 22:08:18       0            0  \n",
       "2013-09-17 22:08:26       0            0  \n",
       "2013-09-17 22:08:34       0            0  \n",
       "2013-09-17 22:08:42       0            0  "
      ]
     },
     "execution_count": 5,
     "metadata": {},
     "output_type": "execute_result"
    }
   ],
   "source": [
    "house2.head()"
   ]
  },
  {
   "cell_type": "markdown",
   "id": "22f32d52-7ea5-44d8-abb6-0bd86e8adaff",
   "metadata": {},
   "source": [
    "# Load data for selected appliance (all houses)"
   ]
  },
  {
   "cell_type": "code",
   "execution_count": 6,
   "id": "81dc168e-8f5d-4910-86ab-51c0ef52b31e",
   "metadata": {},
   "outputs": [
    {
     "name": "stdout",
     "output_type": "stream",
     "text": [
      "Loading data for appliance KETTLE ...\n",
      "Appliance 'KETTLE' does not exist in house 1. Hint: Check the availability of the appliance by using 'get_appliance_names' method\n",
      "Fetching KETTLE data for House 2\n",
      "Fetching KETTLE data for House 3\n"
     ]
    },
    {
     "name": "stderr",
     "output_type": "stream",
     "text": [
      "\n",
      "KeyboardInterrupt\n",
      "\n"
     ]
    }
   ],
   "source": [
    "%%time\n",
    "kettle = refit.get_appliance_data(appliance='Kettle')"
   ]
  },
  {
   "cell_type": "markdown",
   "id": "ffe78cf8-ba70-4e55-a7e3-58b73612443b",
   "metadata": {},
   "source": [
    "# Load data for selected appliance and selected houses"
   ]
  },
  {
   "cell_type": "code",
   "execution_count": 7,
   "id": "61c7cfdb-db72-47fb-b992-d4ad77af8a05",
   "metadata": {},
   "outputs": [
    {
     "name": "stdout",
     "output_type": "stream",
     "text": [
      "Loading data for appliance KETTLE ...\n",
      "Appliance 'KETTLE' does not exist in house 1. Hint: Check the availability of the appliance by using 'get_appliance_names' method\n",
      "Fetching KETTLE data for House 2\n"
     ]
    },
    {
     "name": "stderr",
     "output_type": "stream",
     "text": [
      "\n",
      "KeyboardInterrupt\n",
      "\n"
     ]
    }
   ],
   "source": [
    "%%time\n",
    "kettle = refit.get_appliance_data(appliance=\"Kettle\", houses=[1,2,3])"
   ]
  },
  {
   "cell_type": "code",
   "execution_count": null,
   "id": "1202999b-bb4d-4760-9618-45373e74f225",
   "metadata": {},
   "outputs": [
    {
     "name": "stderr",
     "output_type": "stream",
     "text": [
      "\n",
      "KeyboardInterrupt\n",
      "\n"
     ]
    }
   ],
   "source": [
    "kettle.data[2]"
   ]
  }
 ],
 "metadata": {
  "kernelspec": {
   "display_name": "Python 3 (ipykernel)",
   "language": "python",
   "name": "python3"
  },
  "language_info": {
   "codemirror_mode": {
    "name": "ipython",
    "version": 3
   },
   "file_extension": ".py",
   "mimetype": "text/x-python",
   "name": "python",
   "nbconvert_exporter": "python",
   "pygments_lexer": "ipython3",
   "version": "3.10.6"
  }
 },
 "nbformat": 4,
 "nbformat_minor": 5
}
