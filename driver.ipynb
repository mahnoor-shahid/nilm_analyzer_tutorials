{
 "cells": [
  {
   "cell_type": "code",
   "execution_count": null,
   "id": "04e04564-120b-45d4-9b89-d25f25420603",
   "metadata": {},
   "outputs": [],
   "source": [
    "from loader.data_loader import REFIT_Loader"
   ]
  },
  {
   "cell_type": "code",
   "execution_count": null,
   "id": "fd768483-abd0-42e5-a488-045e0f505f35",
   "metadata": {},
   "outputs": [],
   "source": [
    "c = REFIT_Loader()"
   ]
  },
  {
   "cell_type": "code",
   "execution_count": null,
   "id": "14676015-31c3-48a5-891c-4fa4af9be7f8",
   "metadata": {},
   "outputs": [],
   "source": [
    "%%time\n",
    "HOUSE1 = c.get_house_data(2)\n",
    "HOUSE2 = c.get_house_data(4)\n",
    "HOUSE3 = c.get_house_data(3)"
   ]
  },
  {
   "cell_type": "code",
   "execution_count": null,
   "id": "61c7cfdb-db72-47fb-b992-d4ad77af8a05",
   "metadata": {},
   "outputs": [],
   "source": [
    "%%time\n",
    "KETTLE = c.get_appliance_data('Kettle')"
   ]
  },
  {
   "cell_type": "code",
   "execution_count": null,
   "id": "a8cdf58a-eaca-4f12-a099-c7355a09cd2f",
   "metadata": {},
   "outputs": [],
   "source": []
  },
  {
   "cell_type": "code",
   "execution_count": null,
   "id": "968c978b-45ab-4bc4-841e-29a34d4350b9",
   "metadata": {},
   "outputs": [],
   "source": []
  },
  {
   "cell_type": "code",
   "execution_count": null,
   "id": "7099000b-2850-4e46-9077-cc12c9506099",
   "metadata": {},
   "outputs": [],
   "source": []
  },
  {
   "cell_type": "code",
   "execution_count": null,
   "id": "30ff5105-e0e9-4972-b2d5-90bfe10f7264",
   "metadata": {},
   "outputs": [],
   "source": []
  }
 ],
 "metadata": {
  "kernelspec": {
   "display_name": "Python 3",
   "language": "python",
   "name": "python3"
  },
  "language_info": {
   "codemirror_mode": {
    "name": "ipython",
    "version": 3
   },
   "file_extension": ".py",
   "mimetype": "text/x-python",
   "name": "python",
   "nbconvert_exporter": "python",
   "pygments_lexer": "ipython3",
   "version": "3.9.2"
  }
 },
 "nbformat": 4,
 "nbformat_minor": 5
}
