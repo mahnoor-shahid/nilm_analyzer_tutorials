{
 "cells": [
  {
   "cell_type": "code",
   "execution_count": 1,
   "id": "04e04564-120b-45d4-9b89-d25f25420603",
   "metadata": {},
   "outputs": [],
   "source": [
    "from refit_loader.data_loader import REFIT_Loader, get_activities"
   ]
  },
  {
   "cell_type": "code",
   "execution_count": 2,
   "id": "fd768483-abd0-42e5-a488-045e0f505f35",
   "metadata": {},
   "outputs": [
    {
     "name": "stdout",
     "output_type": "stream",
     "text": [
      "Followings are the refit_loader configuration of your experiment..\n",
      "{'DATA_FOLDER': 'data/refit/', 'DATA_TYPE': '.csv', 'README_FILE': 'refit_loader/REFIT_Readme.txt', 'REFIT_HOUSES': [1, 2, 3, 4, 5, 6, 7, 8, 9, 10, 11, 12, 13, 15, 16, 17, 18, 19, 20, 21]}\n",
      "\n",
      "Loading specified buildings: [1, 2, 3, 4, 5, 6, 7, 8, 9, 10, 11, 12, 13, 15, 16, 17, 18, 19, 20, 21]\n",
      "Parsing the readme file specified: refit_loader/REFIT_Readme.txt\n"
     ]
    }
   ],
   "source": [
    "refit = REFIT_Loader()"
   ]
  },
  {
   "cell_type": "markdown",
   "id": "06dc4d11-331c-4a77-b10b-47035b79ecca",
   "metadata": {},
   "source": [
    "## Fetch activities for Kettle (House 2 and 3)"
   ]
  },
  {
   "cell_type": "code",
   "execution_count": 3,
   "id": "61c7cfdb-db72-47fb-b992-d4ad77af8a05",
   "metadata": {},
   "outputs": [
    {
     "name": "stdout",
     "output_type": "stream",
     "text": [
      "Loading data for appliance KETTLE ...\n",
      "Fetching KETTLE data for House 2\n",
      "Fetching KETTLE data for House 3\n",
      "CPU times: total: 11.4 s\n",
      "Wall time: 14 s\n"
     ]
    }
   ],
   "source": [
    "%%time\n",
    "kettle = refit.get_appliance_data('Kettle', houses=[2,3])"
   ]
  },
  {
   "cell_type": "code",
   "execution_count": 4,
   "id": "30ff5105-e0e9-4972-b2d5-90bfe10f7264",
   "metadata": {},
   "outputs": [
    {
     "name": "stdout",
     "output_type": "stream",
     "text": [
      "Estimating active durations of House 2: kettle\n",
      "Estimating active durations of House 3: kettle\n",
      "CPU times: total: 4.69 s\n",
      "Wall time: 5.98 s\n"
     ]
    }
   ],
   "source": [
    "%%time\n",
    "activities = get_activities(kettle.data)"
   ]
  },
  {
   "cell_type": "code",
   "execution_count": 5,
   "id": "c3628743-3e0f-4c51-9f9a-f1bc0f92a65e",
   "metadata": {},
   "outputs": [
    {
     "data": {
      "text/html": [
       "<div>\n",
       "<style scoped>\n",
       "    .dataframe tbody tr th:only-of-type {\n",
       "        vertical-align: middle;\n",
       "    }\n",
       "\n",
       "    .dataframe tbody tr th {\n",
       "        vertical-align: top;\n",
       "    }\n",
       "\n",
       "    .dataframe thead th {\n",
       "        text-align: right;\n",
       "    }\n",
       "</style>\n",
       "<table border=\"1\" class=\"dataframe\">\n",
       "  <thead>\n",
       "    <tr style=\"text-align: right;\">\n",
       "      <th></th>\n",
       "      <th>Activity_Start</th>\n",
       "      <th>Activity_End</th>\n",
       "      <th>Duration</th>\n",
       "    </tr>\n",
       "  </thead>\n",
       "  <tbody>\n",
       "    <tr>\n",
       "      <th>0</th>\n",
       "      <td>2013-09-18 06:20:14</td>\n",
       "      <td>2013-09-18 06:22:38</td>\n",
       "      <td>2.400000</td>\n",
       "    </tr>\n",
       "    <tr>\n",
       "      <th>1</th>\n",
       "      <td>2013-09-18 12:38:15</td>\n",
       "      <td>2013-09-18 12:41:24</td>\n",
       "      <td>3.150000</td>\n",
       "    </tr>\n",
       "    <tr>\n",
       "      <th>2</th>\n",
       "      <td>2013-09-18 12:42:00</td>\n",
       "      <td>2013-09-18 12:42:17</td>\n",
       "      <td>0.283333</td>\n",
       "    </tr>\n",
       "    <tr>\n",
       "      <th>3</th>\n",
       "      <td>2013-09-18 14:20:01</td>\n",
       "      <td>2013-09-18 14:21:39</td>\n",
       "      <td>1.633333</td>\n",
       "    </tr>\n",
       "    <tr>\n",
       "      <th>4</th>\n",
       "      <td>2013-09-18 15:58:08</td>\n",
       "      <td>2013-09-18 16:00:39</td>\n",
       "      <td>2.516667</td>\n",
       "    </tr>\n",
       "    <tr>\n",
       "      <th>5</th>\n",
       "      <td>2013-09-18 19:17:56</td>\n",
       "      <td>2013-09-18 19:19:46</td>\n",
       "      <td>1.833333</td>\n",
       "    </tr>\n",
       "    <tr>\n",
       "      <th>6</th>\n",
       "      <td>2013-09-18 20:48:24</td>\n",
       "      <td>2013-09-18 20:50:25</td>\n",
       "      <td>2.016667</td>\n",
       "    </tr>\n",
       "    <tr>\n",
       "      <th>7</th>\n",
       "      <td>2013-09-19 06:37:39</td>\n",
       "      <td>2013-09-19 06:37:53</td>\n",
       "      <td>0.233333</td>\n",
       "    </tr>\n",
       "    <tr>\n",
       "      <th>8</th>\n",
       "      <td>2013-09-19 06:38:08</td>\n",
       "      <td>2013-09-19 06:40:53</td>\n",
       "      <td>2.750000</td>\n",
       "    </tr>\n",
       "    <tr>\n",
       "      <th>9</th>\n",
       "      <td>2013-09-19 06:45:38</td>\n",
       "      <td>2013-09-19 06:46:17</td>\n",
       "      <td>0.650000</td>\n",
       "    </tr>\n",
       "  </tbody>\n",
       "</table>\n",
       "</div>"
      ],
      "text/plain": [
       "       Activity_Start        Activity_End  Duration\n",
       "0 2013-09-18 06:20:14 2013-09-18 06:22:38  2.400000\n",
       "1 2013-09-18 12:38:15 2013-09-18 12:41:24  3.150000\n",
       "2 2013-09-18 12:42:00 2013-09-18 12:42:17  0.283333\n",
       "3 2013-09-18 14:20:01 2013-09-18 14:21:39  1.633333\n",
       "4 2013-09-18 15:58:08 2013-09-18 16:00:39  2.516667\n",
       "5 2013-09-18 19:17:56 2013-09-18 19:19:46  1.833333\n",
       "6 2013-09-18 20:48:24 2013-09-18 20:50:25  2.016667\n",
       "7 2013-09-19 06:37:39 2013-09-19 06:37:53  0.233333\n",
       "8 2013-09-19 06:38:08 2013-09-19 06:40:53  2.750000\n",
       "9 2013-09-19 06:45:38 2013-09-19 06:46:17  0.650000"
      ]
     },
     "execution_count": 5,
     "metadata": {},
     "output_type": "execute_result"
    }
   ],
   "source": [
    "activities[2].head(10)"
   ]
  }
 ],
 "metadata": {
  "kernelspec": {
   "display_name": "Python 3 (ipykernel)",
   "language": "python",
   "name": "python3"
  },
  "language_info": {
   "codemirror_mode": {
    "name": "ipython",
    "version": 3
   },
   "file_extension": ".py",
   "mimetype": "text/x-python",
   "name": "python",
   "nbconvert_exporter": "python",
   "pygments_lexer": "ipython3",
   "version": "3.10.6"
  }
 },
 "nbformat": 4,
 "nbformat_minor": 5
}
