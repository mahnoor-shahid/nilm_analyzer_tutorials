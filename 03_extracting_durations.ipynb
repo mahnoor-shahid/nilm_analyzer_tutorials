{
 "cells": [
  {
   "cell_type": "code",
   "execution_count": 8,
   "id": "04e04564-120b-45d4-9b89-d25f25420603",
   "metadata": {},
   "outputs": [],
   "source": [
    "from loader.data_loader import REFIT_Loader\n",
    "from utils.active_durations import get_activities"
   ]
  },
  {
   "cell_type": "code",
   "execution_count": 9,
   "id": "fd768483-abd0-42e5-a488-045e0f505f35",
   "metadata": {},
   "outputs": [
    {
     "name": "stdout",
     "output_type": "stream",
     "text": [
      "Followings are the general configuration of your experiment..\n",
      "{'DATA_FOLDER': 'data/refit/', 'DATA_TYPE': '.csv', 'README_FILE': 'data/refit/REFIT_Readme.txt', 'REFIT_HOUSES': [1, 2, 3, 4, 5, 6, 7, 8, 9, 10, 11, 12, 13, 15, 16, 17, 18, 19, 20, 21]}\n",
      "\n",
      "Loading specified buildings: [1, 2, 3, 4, 5, 6, 7, 8, 9, 10, 11, 12, 13, 15, 16, 17, 18, 19, 20, 21]\n",
      "Parsing the readme file specified: data/refit/REFIT_Readme.txt\n"
     ]
    }
   ],
   "source": [
    "refit = REFIT_Loader()"
   ]
  },
  {
   "cell_type": "markdown",
   "id": "659b1895-2070-4559-8446-1a521bfe04a7",
   "metadata": {},
   "source": [
    "## Fetch activities for House 2 (all appliances)"
   ]
  },
  {
   "cell_type": "code",
   "execution_count": 10,
   "id": "762e2e21-7e41-4127-a9c3-01b421dd1602",
   "metadata": {},
   "outputs": [
    {
     "name": "stdout",
     "output_type": "stream",
     "text": [
      "Loading data for house = 2\n",
      "Wall time: 5.72 s\n"
     ]
    }
   ],
   "source": [
    "%%time\n",
    "house2 = refit.get_house_data(2)"
   ]
  },
  {
   "cell_type": "code",
   "execution_count": 11,
   "id": "bc0409f0-6ad9-4d0d-bd6d-b7102db405c7",
   "metadata": {},
   "outputs": [
    {
     "name": "stdout",
     "output_type": "stream",
     "text": [
      "Estimating active durations of fridge-freezer\n",
      "Estimating active durations of washingmachine\n",
      "Estimating active durations of dishwasher\n",
      "Estimating active durations of television\n",
      "Estimating active durations of microwave\n",
      "Estimating active durations of toaster\n",
      "Estimating active durations of hi-fi\n",
      "Estimating active durations of kettle\n",
      "Wall time: 31.1 s\n"
     ]
    }
   ],
   "source": [
    "%%time\n",
    "house2activities = get_activities(house2)"
   ]
  },
  {
   "cell_type": "code",
   "execution_count": 15,
   "id": "04b22350-19a1-48f5-b7a2-05f761914df3",
   "metadata": {},
   "outputs": [
    {
     "data": {
      "text/html": [
       "<div>\n",
       "<style scoped>\n",
       "    .dataframe tbody tr th:only-of-type {\n",
       "        vertical-align: middle;\n",
       "    }\n",
       "\n",
       "    .dataframe tbody tr th {\n",
       "        vertical-align: top;\n",
       "    }\n",
       "\n",
       "    .dataframe thead th {\n",
       "        text-align: right;\n",
       "    }\n",
       "</style>\n",
       "<table border=\"1\" class=\"dataframe\">\n",
       "  <thead>\n",
       "    <tr style=\"text-align: right;\">\n",
       "      <th></th>\n",
       "      <th>Activity_Start</th>\n",
       "      <th>Activity_End</th>\n",
       "      <th>Duration</th>\n",
       "    </tr>\n",
       "  </thead>\n",
       "  <tbody>\n",
       "    <tr>\n",
       "      <th>0</th>\n",
       "      <td>2013-09-18 06:20:14</td>\n",
       "      <td>2013-09-18 06:22:38</td>\n",
       "      <td>2.400000</td>\n",
       "    </tr>\n",
       "    <tr>\n",
       "      <th>1</th>\n",
       "      <td>2013-09-18 12:38:15</td>\n",
       "      <td>2013-09-18 12:41:24</td>\n",
       "      <td>3.150000</td>\n",
       "    </tr>\n",
       "    <tr>\n",
       "      <th>2</th>\n",
       "      <td>2013-09-18 12:42:00</td>\n",
       "      <td>2013-09-18 12:42:17</td>\n",
       "      <td>0.283333</td>\n",
       "    </tr>\n",
       "    <tr>\n",
       "      <th>3</th>\n",
       "      <td>2013-09-18 14:20:01</td>\n",
       "      <td>2013-09-18 14:21:39</td>\n",
       "      <td>1.633333</td>\n",
       "    </tr>\n",
       "    <tr>\n",
       "      <th>4</th>\n",
       "      <td>2013-09-18 15:58:08</td>\n",
       "      <td>2013-09-18 16:00:39</td>\n",
       "      <td>2.516667</td>\n",
       "    </tr>\n",
       "  </tbody>\n",
       "</table>\n",
       "</div>"
      ],
      "text/plain": [
       "       Activity_Start        Activity_End  Duration\n",
       "0 2013-09-18 06:20:14 2013-09-18 06:22:38  2.400000\n",
       "1 2013-09-18 12:38:15 2013-09-18 12:41:24  3.150000\n",
       "2 2013-09-18 12:42:00 2013-09-18 12:42:17  0.283333\n",
       "3 2013-09-18 14:20:01 2013-09-18 14:21:39  1.633333\n",
       "4 2013-09-18 15:58:08 2013-09-18 16:00:39  2.516667"
      ]
     },
     "execution_count": 15,
     "metadata": {},
     "output_type": "execute_result"
    }
   ],
   "source": [
    "house2activities['kettle'].head()"
   ]
  },
  {
   "cell_type": "markdown",
   "id": "06dc4d11-331c-4a77-b10b-47035b79ecca",
   "metadata": {},
   "source": [
    "## Fetch activities for Kettle (all houses)"
   ]
  },
  {
   "cell_type": "code",
   "execution_count": 13,
   "id": "61c7cfdb-db72-47fb-b992-d4ad77af8a05",
   "metadata": {},
   "outputs": [
    {
     "name": "stdout",
     "output_type": "stream",
     "text": [
      "Loading data for appliance KETTLE\n",
      "\n",
      "Fetching KETTLE data for House 2\n",
      "Fetching KETTLE data for House 3\n",
      "Fetching KETTLE data for House 4\n",
      "Fetching KETTLE data for House 5\n",
      "Fetching KETTLE data for House 6\n",
      "Fetching KETTLE data for House 7\n",
      "Fetching KETTLE data for House 8\n",
      "Fetching KETTLE data for House 9\n",
      "Fetching KETTLE data for House 11\n",
      "Fetching KETTLE data for House 12\n",
      "Fetching KETTLE data for House 13\n",
      "Fetching KETTLE data for House 15\n",
      "Fetching KETTLE data for House 17\n",
      "Fetching KETTLE data for House 19\n",
      "Fetching KETTLE data for House 20\n",
      "Wall time: 1min 34s\n"
     ]
    }
   ],
   "source": [
    "%%time\n",
    "kettle = refit.get_appliance_data('Kettle')"
   ]
  },
  {
   "cell_type": "code",
   "execution_count": 14,
   "id": "30ff5105-e0e9-4972-b2d5-90bfe10f7264",
   "metadata": {},
   "outputs": [
    {
     "name": "stdout",
     "output_type": "stream",
     "text": [
      "Estimating active durations of House 2: kettle\n",
      "Estimating active durations of House 3: kettle\n",
      "Estimating active durations of House 4: kettle\n",
      "Estimating active durations of House 5: kettle\n",
      "Estimating active durations of House 6: kettle\n",
      "Estimating active durations of House 7: kettle\n",
      "Estimating active durations of House 8: kettle\n",
      "Estimating active durations of House 9: kettle\n",
      "Estimating active durations of House 11: kettle\n",
      "Estimating active durations of House 12: kettle\n",
      "Estimating active durations of House 13: kettle\n",
      "Estimating active durations of House 15: kettle\n",
      "Estimating active durations of House 17: kettle\n",
      "Estimating active durations of House 19: kettle\n",
      "Estimating active durations of House 20: kettle\n",
      "Wall time: 2min 31s\n"
     ]
    }
   ],
   "source": [
    "%%time\n",
    "activities = get_activities(kettle)"
   ]
  },
  {
   "cell_type": "code",
   "execution_count": 16,
   "id": "c3628743-3e0f-4c51-9f9a-f1bc0f92a65e",
   "metadata": {},
   "outputs": [
    {
     "data": {
      "text/html": [
       "<div>\n",
       "<style scoped>\n",
       "    .dataframe tbody tr th:only-of-type {\n",
       "        vertical-align: middle;\n",
       "    }\n",
       "\n",
       "    .dataframe tbody tr th {\n",
       "        vertical-align: top;\n",
       "    }\n",
       "\n",
       "    .dataframe thead th {\n",
       "        text-align: right;\n",
       "    }\n",
       "</style>\n",
       "<table border=\"1\" class=\"dataframe\">\n",
       "  <thead>\n",
       "    <tr style=\"text-align: right;\">\n",
       "      <th></th>\n",
       "      <th>Activity_Start</th>\n",
       "      <th>Activity_End</th>\n",
       "      <th>Duration</th>\n",
       "    </tr>\n",
       "  </thead>\n",
       "  <tbody>\n",
       "    <tr>\n",
       "      <th>0</th>\n",
       "      <td>2014-03-20 17:05:48</td>\n",
       "      <td>2014-03-20 17:07:48</td>\n",
       "      <td>2.000000</td>\n",
       "    </tr>\n",
       "    <tr>\n",
       "      <th>1</th>\n",
       "      <td>2014-03-20 21:14:13</td>\n",
       "      <td>2014-03-20 21:16:02</td>\n",
       "      <td>1.816667</td>\n",
       "    </tr>\n",
       "    <tr>\n",
       "      <th>2</th>\n",
       "      <td>2014-03-21 05:23:14</td>\n",
       "      <td>2014-03-21 05:23:19</td>\n",
       "      <td>0.083333</td>\n",
       "    </tr>\n",
       "    <tr>\n",
       "      <th>3</th>\n",
       "      <td>2014-03-21 07:04:15</td>\n",
       "      <td>2014-03-21 07:06:16</td>\n",
       "      <td>2.016667</td>\n",
       "    </tr>\n",
       "    <tr>\n",
       "      <th>4</th>\n",
       "      <td>2014-03-21 13:12:15</td>\n",
       "      <td>2014-03-21 13:13:34</td>\n",
       "      <td>1.316667</td>\n",
       "    </tr>\n",
       "  </tbody>\n",
       "</table>\n",
       "</div>"
      ],
      "text/plain": [
       "       Activity_Start        Activity_End  Duration\n",
       "0 2014-03-20 17:05:48 2014-03-20 17:07:48  2.000000\n",
       "1 2014-03-20 21:14:13 2014-03-20 21:16:02  1.816667\n",
       "2 2014-03-21 05:23:14 2014-03-21 05:23:19  0.083333\n",
       "3 2014-03-21 07:04:15 2014-03-21 07:06:16  2.016667\n",
       "4 2014-03-21 13:12:15 2014-03-21 13:13:34  1.316667"
      ]
     },
     "execution_count": 16,
     "metadata": {},
     "output_type": "execute_result"
    }
   ],
   "source": [
    "activities[20].head()"
   ]
  },
  {
   "cell_type": "code",
   "execution_count": null,
   "id": "8fc815f4-a6e7-4598-afc6-bbdae6854340",
   "metadata": {},
   "outputs": [],
   "source": []
  }
 ],
 "metadata": {
  "kernelspec": {
   "display_name": "Python 3",
   "language": "python",
   "name": "python3"
  },
  "language_info": {
   "codemirror_mode": {
    "name": "ipython",
    "version": 3
   },
   "file_extension": ".py",
   "mimetype": "text/x-python",
   "name": "python",
   "nbconvert_exporter": "python",
   "pygments_lexer": "ipython3",
   "version": "3.9.2"
  }
 },
 "nbformat": 4,
 "nbformat_minor": 5
}
