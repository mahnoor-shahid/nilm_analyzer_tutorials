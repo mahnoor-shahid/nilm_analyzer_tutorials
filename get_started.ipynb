{
 "cells": [
  {
   "cell_type": "code",
   "execution_count": 1,
   "id": "04e04564-120b-45d4-9b89-d25f25420603",
   "metadata": {},
   "outputs": [],
   "source": [
    "from loader.data_loader import REFIT_Loader"
   ]
  },
  {
   "cell_type": "code",
   "execution_count": 2,
   "id": "fd768483-abd0-42e5-a488-045e0f505f35",
   "metadata": {},
   "outputs": [
    {
     "name": "stdout",
     "output_type": "stream",
     "text": [
      "Followings are the general configuration of your experiment..\n",
      "{'DATA_FOLDER': 'data/refit/', 'DATA_TYPE': '.csv', 'README_FILE': 'data/refit/REFIT_Readme.txt', 'REFIT_HOUSES': [1, 2, 3, 4, 5, 6, 7, 8, 9, 10, 11, 12, 13, 15, 16, 17, 18, 19, 20, 21]}\n",
      "\n"
     ]
    },
    {
     "data": {
      "text/plain": [
       "'Loading specified buildings: [1, 2, 3, 4, 5, 6, 7, 8, 9, 10, 11, 12, 13, 15, 16, 17, 18, 19, 20, 21]'"
      ]
     },
     "metadata": {},
     "output_type": "display_data"
    },
    {
     "data": {
      "text/plain": [
       "'Parsing the readme file specified: data/refit/REFIT_Readme.txt'"
      ]
     },
     "metadata": {},
     "output_type": "display_data"
    }
   ],
   "source": [
    "refit = REFIT_Loader()"
   ]
  },
  {
   "cell_type": "code",
   "execution_count": 3,
   "id": "14676015-31c3-48a5-891c-4fa4af9be7f8",
   "metadata": {},
   "outputs": [
    {
     "data": {
      "text/plain": [
       "'Fetching data for house = 2'"
      ]
     },
     "metadata": {},
     "output_type": "display_data"
    },
    {
     "data": {
      "text/plain": [
       "'Fetching data for house = 4'"
      ]
     },
     "metadata": {},
     "output_type": "display_data"
    },
    {
     "data": {
      "text/plain": [
       "'Fetching data for house = 3'"
      ]
     },
     "metadata": {},
     "output_type": "display_data"
    },
    {
     "name": "stdout",
     "output_type": "stream",
     "text": [
      "Wall time: 17.5 s\n"
     ]
    }
   ],
   "source": [
    "%%time\n",
    "HOUSE1 = refit.get_house_data(2)\n",
    "HOUSE2 = refit.get_house_data(4)\n",
    "HOUSE3 = refit.get_house_data(3)"
   ]
  },
  {
   "cell_type": "code",
   "execution_count": null,
   "id": "61c7cfdb-db72-47fb-b992-d4ad77af8a05",
   "metadata": {},
   "outputs": [],
   "source": [
    "%%time\n",
    "KETTLE = refit.get_appliance_data('Kettle')"
   ]
  },
  {
   "cell_type": "code",
   "execution_count": null,
   "id": "7099000b-2850-4e46-9077-cc12c9506099",
   "metadata": {},
   "outputs": [],
   "source": []
  },
  {
   "cell_type": "code",
   "execution_count": null,
   "id": "30ff5105-e0e9-4972-b2d5-90bfe10f7264",
   "metadata": {},
   "outputs": [],
   "source": []
  }
 ],
 "metadata": {
  "kernelspec": {
   "display_name": "Python 3",
   "language": "python",
   "name": "python3"
  },
  "language_info": {
   "codemirror_mode": {
    "name": "ipython",
    "version": 3
   },
   "file_extension": ".py",
   "mimetype": "text/x-python",
   "name": "python",
   "nbconvert_exporter": "python",
   "pygments_lexer": "ipython3",
   "version": "3.9.2"
  }
 },
 "nbformat": 4,
 "nbformat_minor": 5
}
