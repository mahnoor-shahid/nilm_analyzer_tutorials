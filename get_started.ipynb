{
 "cells": [
  {
   "cell_type": "code",
   "execution_count": 1,
   "id": "04e04564-120b-45d4-9b89-d25f25420603",
   "metadata": {},
   "outputs": [],
   "source": [
    "from loader.data_loader import REFIT_Loader"
   ]
  },
  {
   "cell_type": "code",
   "execution_count": 2,
   "id": "fd768483-abd0-42e5-a488-045e0f505f35",
   "metadata": {},
   "outputs": [
    {
     "data": {
      "text/plain": [
       "'Followings are the general configuration of your experiment..'"
      ]
     },
     "metadata": {},
     "output_type": "display_data"
    },
    {
     "name": "stdout",
     "output_type": "stream",
     "text": [
      "{'DATA_FOLDER': 'data/refit/', 'DATA_TYPE': '.csv', 'README_FILE': 'data/refit/REFIT_Readme.txt', 'REFIT_HOUSES': [1, 2, 3, 4, 5, 6, 7, 8, 9, 10, 11, 12, 13, 15, 16, 17, 18, 19, 20, 21]}\n"
     ]
    },
    {
     "data": {
      "text/plain": [
       "'Loading specified buildings: [1, 2, 3, 4, 5, 6, 7, 8, 9, 10, 11, 12, 13, 15, 16, 17, 18, 19, 20, 21]'"
      ]
     },
     "metadata": {},
     "output_type": "display_data"
    },
    {
     "data": {
      "text/plain": [
       "'Parsing the readme file specified: data/refit/REFIT_Readme.txt'"
      ]
     },
     "metadata": {},
     "output_type": "display_data"
    }
   ],
   "source": [
    "refit = REFIT_Loader()"
   ]
  },
  {
   "cell_type": "code",
   "execution_count": 3,
   "id": "14676015-31c3-48a5-891c-4fa4af9be7f8",
   "metadata": {},
   "outputs": [
    {
     "data": {
      "text/plain": [
       "'Fetching data for house = 2'"
      ]
     },
     "metadata": {},
     "output_type": "display_data"
    },
    {
     "data": {
      "text/plain": [
       "'Fetching data for house = 4'"
      ]
     },
     "metadata": {},
     "output_type": "display_data"
    },
    {
     "data": {
      "text/plain": [
       "'Fetching data for house = 3'"
      ]
     },
     "metadata": {},
     "output_type": "display_data"
    },
    {
     "name": "stdout",
     "output_type": "stream",
     "text": [
      "Wall time: 11.2 s\n"
     ]
    }
   ],
   "source": [
    "%%time\n",
    "HOUSE1 = refit.get_house_data(2)\n",
    "HOUSE2 = refit.get_house_data(4)\n",
    "HOUSE3 = refit.get_house_data(3)"
   ]
  },
  {
   "cell_type": "code",
   "execution_count": 4,
   "id": "61c7cfdb-db72-47fb-b992-d4ad77af8a05",
   "metadata": {},
   "outputs": [
    {
     "data": {
      "text/plain": [
       "'Fetching data for appliance = Kettle'"
      ]
     },
     "metadata": {},
     "output_type": "display_data"
    },
    {
     "name": "stdout",
     "output_type": "stream",
     "text": [
      "Wall time: 1.99 ms\n"
     ]
    }
   ],
   "source": [
    "%%time\n",
    "KETTLE = refit.get_appliance_data('Kettle')"
   ]
  },
  {
   "cell_type": "code",
   "execution_count": 5,
   "id": "7099000b-2850-4e46-9077-cc12c9506099",
   "metadata": {},
   "outputs": [
    {
     "data": {
      "text/html": [
       "<div>\n",
       "<style scoped>\n",
       "    .dataframe tbody tr th:only-of-type {\n",
       "        vertical-align: middle;\n",
       "    }\n",
       "\n",
       "    .dataframe tbody tr th {\n",
       "        vertical-align: top;\n",
       "    }\n",
       "\n",
       "    .dataframe thead th {\n",
       "        text-align: right;\n",
       "    }\n",
       "</style>\n",
       "<table border=\"1\" class=\"dataframe\">\n",
       "  <thead>\n",
       "    <tr style=\"text-align: right;\">\n",
       "      <th></th>\n",
       "      <th>unix</th>\n",
       "      <th>aggregate</th>\n",
       "      <th>fridge-freezer</th>\n",
       "      <th>washing machine</th>\n",
       "      <th>dishwasher</th>\n",
       "      <th>television</th>\n",
       "      <th>microwave</th>\n",
       "      <th>toaster</th>\n",
       "      <th>hi-fi</th>\n",
       "      <th>kettle</th>\n",
       "      <th>oven extractor fan</th>\n",
       "    </tr>\n",
       "    <tr>\n",
       "      <th>time</th>\n",
       "      <th></th>\n",
       "      <th></th>\n",
       "      <th></th>\n",
       "      <th></th>\n",
       "      <th></th>\n",
       "      <th></th>\n",
       "      <th></th>\n",
       "      <th></th>\n",
       "      <th></th>\n",
       "      <th></th>\n",
       "      <th></th>\n",
       "    </tr>\n",
       "  </thead>\n",
       "  <tbody>\n",
       "    <tr>\n",
       "      <th>2013-09-17 22:08:11</th>\n",
       "      <td>1379455691</td>\n",
       "      <td>695</td>\n",
       "      <td>88</td>\n",
       "      <td>0</td>\n",
       "      <td>0</td>\n",
       "      <td>0</td>\n",
       "      <td>0</td>\n",
       "      <td>0</td>\n",
       "      <td>0</td>\n",
       "      <td>0</td>\n",
       "      <td>0</td>\n",
       "    </tr>\n",
       "    <tr>\n",
       "      <th>2013-09-17 22:08:18</th>\n",
       "      <td>1379455698</td>\n",
       "      <td>694</td>\n",
       "      <td>88</td>\n",
       "      <td>0</td>\n",
       "      <td>0</td>\n",
       "      <td>0</td>\n",
       "      <td>0</td>\n",
       "      <td>0</td>\n",
       "      <td>0</td>\n",
       "      <td>0</td>\n",
       "      <td>0</td>\n",
       "    </tr>\n",
       "    <tr>\n",
       "      <th>2013-09-17 22:08:26</th>\n",
       "      <td>1379455706</td>\n",
       "      <td>694</td>\n",
       "      <td>88</td>\n",
       "      <td>0</td>\n",
       "      <td>0</td>\n",
       "      <td>0</td>\n",
       "      <td>0</td>\n",
       "      <td>0</td>\n",
       "      <td>0</td>\n",
       "      <td>0</td>\n",
       "      <td>0</td>\n",
       "    </tr>\n",
       "    <tr>\n",
       "      <th>2013-09-17 22:08:34</th>\n",
       "      <td>1379455714</td>\n",
       "      <td>702</td>\n",
       "      <td>88</td>\n",
       "      <td>0</td>\n",
       "      <td>0</td>\n",
       "      <td>0</td>\n",
       "      <td>0</td>\n",
       "      <td>0</td>\n",
       "      <td>0</td>\n",
       "      <td>0</td>\n",
       "      <td>0</td>\n",
       "    </tr>\n",
       "    <tr>\n",
       "      <th>2013-09-17 22:08:42</th>\n",
       "      <td>1379455722</td>\n",
       "      <td>700</td>\n",
       "      <td>88</td>\n",
       "      <td>0</td>\n",
       "      <td>0</td>\n",
       "      <td>0</td>\n",
       "      <td>0</td>\n",
       "      <td>0</td>\n",
       "      <td>0</td>\n",
       "      <td>0</td>\n",
       "      <td>0</td>\n",
       "    </tr>\n",
       "    <tr>\n",
       "      <th>...</th>\n",
       "      <td>...</td>\n",
       "      <td>...</td>\n",
       "      <td>...</td>\n",
       "      <td>...</td>\n",
       "      <td>...</td>\n",
       "      <td>...</td>\n",
       "      <td>...</td>\n",
       "      <td>...</td>\n",
       "      <td>...</td>\n",
       "      <td>...</td>\n",
       "      <td>...</td>\n",
       "    </tr>\n",
       "    <tr>\n",
       "      <th>2015-05-28 08:05:16</th>\n",
       "      <td>1432800316</td>\n",
       "      <td>315</td>\n",
       "      <td>82</td>\n",
       "      <td>28</td>\n",
       "      <td>0</td>\n",
       "      <td>0</td>\n",
       "      <td>0</td>\n",
       "      <td>0</td>\n",
       "      <td>0</td>\n",
       "      <td>0</td>\n",
       "      <td>0</td>\n",
       "    </tr>\n",
       "    <tr>\n",
       "      <th>2015-05-28 08:05:23</th>\n",
       "      <td>1432800323</td>\n",
       "      <td>333</td>\n",
       "      <td>81</td>\n",
       "      <td>28</td>\n",
       "      <td>0</td>\n",
       "      <td>0</td>\n",
       "      <td>0</td>\n",
       "      <td>0</td>\n",
       "      <td>0</td>\n",
       "      <td>0</td>\n",
       "      <td>0</td>\n",
       "    </tr>\n",
       "    <tr>\n",
       "      <th>2015-05-28 08:05:30</th>\n",
       "      <td>1432800330</td>\n",
       "      <td>313</td>\n",
       "      <td>81</td>\n",
       "      <td>28</td>\n",
       "      <td>0</td>\n",
       "      <td>0</td>\n",
       "      <td>0</td>\n",
       "      <td>0</td>\n",
       "      <td>0</td>\n",
       "      <td>0</td>\n",
       "      <td>0</td>\n",
       "    </tr>\n",
       "    <tr>\n",
       "      <th>2015-05-28 08:05:37</th>\n",
       "      <td>1432800337</td>\n",
       "      <td>316</td>\n",
       "      <td>82</td>\n",
       "      <td>54</td>\n",
       "      <td>0</td>\n",
       "      <td>0</td>\n",
       "      <td>0</td>\n",
       "      <td>0</td>\n",
       "      <td>0</td>\n",
       "      <td>0</td>\n",
       "      <td>0</td>\n",
       "    </tr>\n",
       "    <tr>\n",
       "      <th>2015-05-28 08:05:43</th>\n",
       "      <td>1432800343</td>\n",
       "      <td>383</td>\n",
       "      <td>82</td>\n",
       "      <td>5</td>\n",
       "      <td>0</td>\n",
       "      <td>0</td>\n",
       "      <td>0</td>\n",
       "      <td>0</td>\n",
       "      <td>0</td>\n",
       "      <td>0</td>\n",
       "      <td>0</td>\n",
       "    </tr>\n",
       "  </tbody>\n",
       "</table>\n",
       "<p>5733526 rows × 11 columns</p>\n",
       "</div>"
      ],
      "text/plain": [
       "                           unix  aggregate  fridge-freezer  washing machine  \\\n",
       "time                                                                          \n",
       "2013-09-17 22:08:11  1379455691        695              88                0   \n",
       "2013-09-17 22:08:18  1379455698        694              88                0   \n",
       "2013-09-17 22:08:26  1379455706        694              88                0   \n",
       "2013-09-17 22:08:34  1379455714        702              88                0   \n",
       "2013-09-17 22:08:42  1379455722        700              88                0   \n",
       "...                         ...        ...             ...              ...   \n",
       "2015-05-28 08:05:16  1432800316        315              82               28   \n",
       "2015-05-28 08:05:23  1432800323        333              81               28   \n",
       "2015-05-28 08:05:30  1432800330        313              81               28   \n",
       "2015-05-28 08:05:37  1432800337        316              82               54   \n",
       "2015-05-28 08:05:43  1432800343        383              82                5   \n",
       "\n",
       "                     dishwasher  television  microwave  toaster  hi-fi  \\\n",
       "time                                                                     \n",
       "2013-09-17 22:08:11           0           0          0        0      0   \n",
       "2013-09-17 22:08:18           0           0          0        0      0   \n",
       "2013-09-17 22:08:26           0           0          0        0      0   \n",
       "2013-09-17 22:08:34           0           0          0        0      0   \n",
       "2013-09-17 22:08:42           0           0          0        0      0   \n",
       "...                         ...         ...        ...      ...    ...   \n",
       "2015-05-28 08:05:16           0           0          0        0      0   \n",
       "2015-05-28 08:05:23           0           0          0        0      0   \n",
       "2015-05-28 08:05:30           0           0          0        0      0   \n",
       "2015-05-28 08:05:37           0           0          0        0      0   \n",
       "2015-05-28 08:05:43           0           0          0        0      0   \n",
       "\n",
       "                     kettle  oven extractor fan  \n",
       "time                                             \n",
       "2013-09-17 22:08:11       0                   0  \n",
       "2013-09-17 22:08:18       0                   0  \n",
       "2013-09-17 22:08:26       0                   0  \n",
       "2013-09-17 22:08:34       0                   0  \n",
       "2013-09-17 22:08:42       0                   0  \n",
       "...                     ...                 ...  \n",
       "2015-05-28 08:05:16       0                   0  \n",
       "2015-05-28 08:05:23       0                   0  \n",
       "2015-05-28 08:05:30       0                   0  \n",
       "2015-05-28 08:05:37       0                   0  \n",
       "2015-05-28 08:05:43       0                   0  \n",
       "\n",
       "[5733526 rows x 11 columns]"
      ]
     },
     "execution_count": 5,
     "metadata": {},
     "output_type": "execute_result"
    }
   ],
   "source": [
    "HOUSE1"
   ]
  },
  {
   "cell_type": "code",
   "execution_count": null,
   "id": "30ff5105-e0e9-4972-b2d5-90bfe10f7264",
   "metadata": {},
   "outputs": [],
   "source": []
  }
 ],
 "metadata": {
  "kernelspec": {
   "display_name": "Python 3",
   "language": "python",
   "name": "python3"
  },
  "language_info": {
   "codemirror_mode": {
    "name": "ipython",
    "version": 3
   },
   "file_extension": ".py",
   "mimetype": "text/x-python",
   "name": "python",
   "nbconvert_exporter": "python",
   "pygments_lexer": "ipython3",
   "version": "3.9.2"
  }
 },
 "nbformat": 4,
 "nbformat_minor": 5
}
