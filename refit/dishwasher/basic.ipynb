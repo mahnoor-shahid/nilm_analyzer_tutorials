{
 "cells": [
  {
   "cell_type": "code",
   "execution_count": 1,
   "outputs": [],
   "source": [
    "from nilm_analyzer.loaders import REFIT_Loader"
   ],
   "metadata": {
    "collapsed": false
   }
  },
  {
   "cell_type": "code",
   "execution_count": 2,
   "outputs": [
    {
     "name": "stdout",
     "output_type": "stream",
     "text": [
      "Fetching the meter_appliance mapping from REFIT metadata: D:\\Repos\\set_3\\nilm_analyzer\\metadata\\refit\n",
      "\n",
      "Loading specified buildings: [1, 2, 3, 4, 5, 6, 7, 8, 9, 10, 11, 12, 13, 15, 16, 17, 18, 19, 20, 21]\n",
      "Dataset successfully loaded!\n"
     ]
    }
   ],
   "source": [
    "refit_data = REFIT_Loader(data_path='D:/data/external/refit/')"
   ],
   "metadata": {
    "collapsed": false
   }
  },
  {
   "cell_type": "code",
   "execution_count": 6,
   "outputs": [
    {
     "name": "stdout",
     "output_type": "stream",
     "text": [
      "Loading data for appliance DISH WASHER ...\n",
      "Fetching DISH WASHER data for House 1\n",
      "Fetching DISH WASHER data for House 2\n",
      "Fetching DISH WASHER data for House 3\n",
      "Appliance 'DISH WASHER' does not exist in house 4.\n",
      "Fetching DISH WASHER data for House 5\n"
     ]
    }
   ],
   "source": [
    "appliance_data = refit_data.get_appliance_data(appliance='dish washer', houses=[1,2,3,4,5])"
   ],
   "metadata": {
    "collapsed": false
   }
  },
  {
   "cell_type": "code",
   "execution_count": 7,
   "outputs": [
    {
     "name": "stdout",
     "output_type": "stream",
     "text": [
      "Resampling for house number:  1\n",
      "sampling_period = 8s, window_limit = 120 samples, fill_value = 0.0\n",
      "\n",
      "Resampling for house number:  2\n",
      "sampling_period = 8s, window_limit = 120 samples, fill_value = 0.0\n",
      "\n",
      "Resampling for house number:  3\n",
      "sampling_period = 8s, window_limit = 120 samples, fill_value = 0.0\n",
      "\n",
      "Resampling for house number:  5\n",
      "sampling_period = 8s, window_limit = 120 samples, fill_value = 0.0\n",
      "\n",
      "Updating data with resampled dataset...\n"
     ]
    }
   ],
   "source": [
    "appliance_data.resample(sampling_period='8s')"
   ],
   "metadata": {
    "collapsed": false
   }
  },
  {
   "cell_type": "code",
   "execution_count": 8,
   "outputs": [
    {
     "data": {
      "text/plain": "{1:                      aggregate  dish washer\n time                                       \n 2013-10-09 13:06:16      523.0          0.0\n 2013-10-09 13:06:24      523.0          0.0\n 2013-10-09 13:06:32      526.0          0.0\n 2013-10-09 13:06:40      526.0          0.0\n 2013-10-09 13:06:48      540.0          0.0\n ...                        ...          ...\n 2015-07-10 11:56:00      180.0          0.0\n 2015-07-10 11:56:08      186.0          0.0\n 2015-07-10 11:56:16      181.0          0.0\n 2015-07-10 11:56:24      186.0          0.0\n 2015-07-10 11:56:32      182.0          0.0\n \n [6900678 rows x 2 columns],\n 2:                      aggregate  dish washer\n time                                       \n 2013-09-17 22:08:08      695.0          0.0\n 2013-09-17 22:08:16      694.0          0.0\n 2013-09-17 22:08:24      694.0          0.0\n 2013-09-17 22:08:32      702.0          0.0\n 2013-09-17 22:08:40      700.0          0.0\n ...                        ...          ...\n 2015-05-28 08:05:04      313.0          0.0\n 2015-05-28 08:05:12      321.5          0.0\n 2015-05-28 08:05:20      333.0          0.0\n 2015-05-28 08:05:28      313.0          0.0\n 2015-05-28 08:05:36      316.0          0.0\n \n [6668082 rows x 2 columns],\n 3:                      aggregate  dish washer\n time                                       \n 2013-09-25 19:21:04      387.0          0.0\n 2013-09-25 19:21:12      386.5          0.0\n 2013-09-25 19:21:20      383.0          0.0\n 2013-09-25 19:21:28      388.0          0.0\n 2013-09-25 19:21:36      388.0          0.0\n ...                        ...          ...\n 2015-06-02 10:55:04     2632.0          0.0\n 2015-06-02 10:55:12     2674.0          0.0\n 2015-06-02 10:55:20     2435.0          0.0\n 2015-06-02 10:55:28     2453.0          0.0\n 2015-06-02 10:55:36     2733.0          0.0\n \n [6638210 rows x 2 columns],\n 5:                      aggregate  dish washer\n time                                       \n 2013-09-26 09:56:08      275.0          0.0\n 2013-09-26 09:56:16      273.0          0.0\n 2013-09-26 09:56:24      273.0          0.0\n 2013-09-26 09:56:32      275.5          0.0\n 2013-09-26 09:56:40      276.0          0.0\n ...                        ...          ...\n 2015-07-06 17:48:16      834.5          0.0\n 2015-07-06 17:48:24      515.0          0.0\n 2015-07-06 17:48:32      515.0          0.0\n 2015-07-06 17:48:40      515.0          0.0\n 2015-07-06 17:48:48      500.0          0.0\n \n [7001946 rows x 2 columns]}"
     },
     "execution_count": 8,
     "metadata": {},
     "output_type": "execute_result"
    }
   ],
   "source": [
    "appliance_data.data"
   ],
   "metadata": {
    "collapsed": false
   }
  },
  {
   "cell_type": "code",
   "execution_count": null,
   "outputs": [
    {
     "name": "stdout",
     "output_type": "stream",
     "text": [
      "Extracting activations for House 1\n",
      "Consumption Threshold is set to = 63.125\n",
      "Time Delay Threshold is set to = 10.0 minutes\n",
      "Estimating active durations of: dish washer\n",
      "Extracting activations for House 2\n",
      "Consumption Threshold is set to = 62.0\n",
      "Time Delay Threshold is set to = 10.0 minutes\n",
      "Estimating active durations of: dish washer\n",
      "Extracting activations for House 3\n",
      "Consumption Threshold is set to = 96.0\n",
      "Time Delay Threshold is set to = 10.0 minutes\n",
      "Estimating active durations of: dish washer\n",
      "Extracting activations for House 5\n",
      "Consumption Threshold is set to = 66.175\n",
      "Time Delay Threshold is set to = 10.0 minutes\n",
      "Estimating active durations of: dish washer\n"
     ]
    }
   ],
   "source": [
    "appliance_data.get_activations(threshold_x=10.0, threshold_y=0.025)"
   ],
   "metadata": {
    "collapsed": false,
    "pycharm": {
     "is_executing": true
    }
   }
  },
  {
   "cell_type": "code",
   "execution_count": null,
   "outputs": [],
   "source": [
    "appliance_data.activations[1].sort_values(by='duration_in_seconds', ascending=False)"
   ],
   "metadata": {
    "collapsed": false,
    "pycharm": {
     "is_executing": true
    }
   }
  },
  {
   "cell_type": "code",
   "execution_count": null,
   "outputs": [],
   "source": [
    "appliance_data.data[1].loc['2015-02-21 05:12:16':'2015-02-21 05:47:36'].plot(figsize=(14,7))"
   ],
   "metadata": {
    "collapsed": false,
    "pycharm": {
     "is_executing": true
    }
   }
  },
  {
   "cell_type": "code",
   "execution_count": null,
   "outputs": [],
   "source": [],
   "metadata": {
    "collapsed": false
   }
  }
 ],
 "metadata": {
  "kernelspec": {
   "display_name": "Python 3",
   "language": "python",
   "name": "python3"
  },
  "language_info": {
   "codemirror_mode": {
    "name": "ipython",
    "version": 2
   },
   "file_extension": ".py",
   "mimetype": "text/x-python",
   "name": "python",
   "nbconvert_exporter": "python",
   "pygments_lexer": "ipython2",
   "version": "2.7.6"
  }
 },
 "nbformat": 4,
 "nbformat_minor": 0
}
