{
 "cells": [
  {
   "cell_type": "code",
   "execution_count": 27,
   "outputs": [],
   "source": [
    "import numpy as np\n",
    "import pandas as pd\n",
    "import os\n",
    "import glob\n",
    "\n",
    "from nilm_analyzer.loaders import _EnergyDataset"
   ],
   "metadata": {
    "collapsed": false
   }
  },
  {
   "cell_type": "code",
   "execution_count": 28,
   "outputs": [
    {
     "name": "stdout",
     "output_type": "stream",
     "text": [
      "seq2point/data/dishwasher\\house_1\n",
      "seq2point/data/dishwasher\\house_10\n",
      "seq2point/data/dishwasher\\house_11\n",
      "seq2point/data/dishwasher\\house_13\n",
      "seq2point/data/dishwasher\\house_15\n",
      "seq2point/data/dishwasher\\house_16\n",
      "seq2point/data/dishwasher\\house_18\n",
      "seq2point/data/dishwasher\\house_2\n",
      "seq2point/data/dishwasher\\house_20\n",
      "seq2point/data/dishwasher\\house_21\n",
      "seq2point/data/dishwasher\\house_3\n",
      "seq2point/data/dishwasher\\house_5\n",
      "seq2point/data/dishwasher\\house_6\n",
      "seq2point/data/dishwasher\\house_7\n",
      "seq2point/data/dishwasher\\house_9\n"
     ]
    }
   ],
   "source": [
    "src_path = 'seq2point/data/'\n",
    "target_appliance = 'dishwasher'\n",
    "\n",
    "appliance_splits = dict()\n",
    "for file_path in glob.glob(os.path.join(src_path, target_appliance, 'house_*')):\n",
    "    print(file_path)\n",
    "    house = file_path.split('house_')[-1]\n",
    "    train_path = os.path.join(file_path, 'train.csv')\n",
    "    test_path = os.path.join(file_path, 'test.csv')\n",
    "    train_df = pd.read_csv(train_path)\n",
    "    test_df = pd.read_csv(test_path)\n",
    "    train_df['time'] = pd.to_datetime(train_df['time'])\n",
    "    train_df.set_index('time', inplace=True)\n",
    "    test_df['time'] = pd.to_datetime(test_df['time'])\n",
    "    test_df.set_index('time', inplace=True)\n",
    "    df = pd.concat([train_df, test_df])\n",
    "    appliance_splits.update({int(house): df})"
   ],
   "metadata": {
    "collapsed": false
   }
  },
  {
   "cell_type": "code",
   "execution_count": 29,
   "outputs": [],
   "source": [
    "custom_dataset = _EnergyDataset(appliance_splits)"
   ],
   "metadata": {
    "collapsed": false
   }
  },
  {
   "cell_type": "code",
   "execution_count": 30,
   "outputs": [
    {
     "name": "stdout",
     "output_type": "stream",
     "text": [
      "Extracting activations for House 1\n",
      "Consumption Threshold is set to = 80.0\n",
      "Time Delay Threshold is set to = 45.0 minutes\n",
      "Estimating active durations of: power_dishwasher\n",
      "Extracting activations for House 10\n",
      "Consumption Threshold is set to = 80.0\n",
      "Time Delay Threshold is set to = 45.0 minutes\n",
      "Estimating active durations of: power_dishwasher\n",
      "Extracting activations for House 11\n",
      "Consumption Threshold is set to = 80.0\n",
      "Time Delay Threshold is set to = 45.0 minutes\n",
      "Estimating active durations of: power_dishwasher\n",
      "Extracting activations for House 13\n",
      "Consumption Threshold is set to = 80.0\n",
      "Time Delay Threshold is set to = 45.0 minutes\n",
      "Estimating active durations of: power_dishwasher\n",
      "Extracting activations for House 15\n",
      "Consumption Threshold is set to = 80.0\n",
      "Time Delay Threshold is set to = 45.0 minutes\n",
      "Estimating active durations of: power_dishwasher\n",
      "Extracting activations for House 16\n",
      "Consumption Threshold is set to = 80.0\n",
      "Time Delay Threshold is set to = 45.0 minutes\n",
      "Estimating active durations of: power_dishwasher\n",
      "Extracting activations for House 18\n",
      "Consumption Threshold is set to = 80.0\n",
      "Time Delay Threshold is set to = 45.0 minutes\n",
      "Estimating active durations of: power_dishwasher\n",
      "Extracting activations for House 2\n",
      "Consumption Threshold is set to = 80.0\n",
      "Time Delay Threshold is set to = 45.0 minutes\n",
      "Estimating active durations of: power_dishwasher\n",
      "Extracting activations for House 20\n",
      "Consumption Threshold is set to = 80.0\n",
      "Time Delay Threshold is set to = 45.0 minutes\n",
      "Estimating active durations of: power_dishwasher\n",
      "Extracting activations for House 21\n",
      "Consumption Threshold is set to = 80.0\n",
      "Time Delay Threshold is set to = 45.0 minutes\n",
      "Estimating active durations of: power_dishwasher\n",
      "Extracting activations for House 3\n",
      "Consumption Threshold is set to = 80.0\n",
      "Time Delay Threshold is set to = 45.0 minutes\n",
      "Estimating active durations of: power_dishwasher\n",
      "Extracting activations for House 5\n",
      "Consumption Threshold is set to = 80.0\n",
      "Time Delay Threshold is set to = 45.0 minutes\n",
      "Estimating active durations of: power_dishwasher\n",
      "Extracting activations for House 6\n",
      "Consumption Threshold is set to = 80.0\n",
      "Time Delay Threshold is set to = 45.0 minutes\n",
      "Estimating active durations of: power_dishwasher\n",
      "Extracting activations for House 7\n",
      "Consumption Threshold is set to = 80.0\n",
      "Time Delay Threshold is set to = 45.0 minutes\n",
      "Estimating active durations of: power_dishwasher\n",
      "Extracting activations for House 9\n",
      "Consumption Threshold is set to = 80.0\n",
      "Time Delay Threshold is set to = 45.0 minutes\n",
      "Estimating active durations of: power_dishwasher\n",
      "Updating activations with durations when appliance is active (above threshold).\n"
     ]
    }
   ],
   "source": [
    "custom_dataset.get_activations(threshold_x=45.0, threshold_y=80.0, min_limit=5.0, max_limit=240.0)"
   ],
   "metadata": {
    "collapsed": false
   }
  },
  {
   "cell_type": "code",
   "execution_count": 31,
   "outputs": [
    {
     "name": "stdout",
     "output_type": "stream",
     "text": [
      "\n",
      "Converting activities to arrays\n",
      "Processing for house 1\n",
      "Processing for house 10\n",
      "Processing for house 11\n",
      "Processing for house 13\n",
      "Processing for house 15\n",
      "Processing for house 16\n",
      "Processing for house 18\n",
      "Processing for house 2\n",
      "Processing for house 20\n",
      "Processing for house 21\n",
      "Processing for house 3\n",
      "Processing for house 5\n",
      "Processing for house 6\n",
      "Processing for house 7\n",
      "Processing for house 9\n"
     ]
    }
   ],
   "source": [
    "appliance_activations = dict()\n",
    "\n",
    "print('\\nConverting activities to arrays')\n",
    "for house_number in custom_dataset.activations.keys():\n",
    "    print(f'Processing for house {house_number}')\n",
    "    filter_activities = custom_dataset.activations[house_number]\n",
    "    activities_lst = []\n",
    "    for row in range(0, len(filter_activities)):\n",
    "        activities_lst.append(np.array(custom_dataset.data[house_number].loc[str(filter_activities['activity_start'].iloc[row]- pd.Timedelta(seconds=10)):\n",
    "                                           str(filter_activities['activity_end'].iloc[row]+pd.Timedelta(seconds=10))][custom_dataset.data[house_number].columns[-1]]))\n",
    "    appliance_activations.update({house_number:activities_lst})"
   ],
   "metadata": {
    "collapsed": false
   }
  },
  {
   "cell_type": "code",
   "execution_count": 32,
   "outputs": [],
   "source": [
    "import pickle\n",
    "with open(f'{target_appliance}_activations.pkl', 'wb') as f:\n",
    "    pickle.dump(appliance_activations, f)"
   ],
   "metadata": {
    "collapsed": false
   }
  }
 ],
 "metadata": {
  "kernelspec": {
   "display_name": "Python 3",
   "language": "python",
   "name": "python3"
  },
  "language_info": {
   "codemirror_mode": {
    "name": "ipython",
    "version": 2
   },
   "file_extension": ".py",
   "mimetype": "text/x-python",
   "name": "python",
   "nbconvert_exporter": "python",
   "pygments_lexer": "ipython2",
   "version": "2.7.6"
  }
 },
 "nbformat": 4,
 "nbformat_minor": 0
}
