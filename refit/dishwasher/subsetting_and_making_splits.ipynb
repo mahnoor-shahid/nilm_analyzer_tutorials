{
 "cells": [
  {
   "cell_type": "code",
   "execution_count": 1,
   "outputs": [],
   "source": [
    "from nilm_analyzer.loaders import REFIT_Loader\n",
    "import numpy as np\n",
    "\n",
    "src_path = 'D:/data/external/refit/'\n",
    "target_appliance = 'dish washer'\n",
    "target_houses = list(np.arange(1,22))"
   ],
   "metadata": {
    "collapsed": false
   }
  },
  {
   "cell_type": "code",
   "execution_count": 2,
   "outputs": [
    {
     "name": "stdout",
     "output_type": "stream",
     "text": [
      "Fetching the meter_appliance mapping from REFIT metadata: D:\\Repos\\set_3\\nilm_analyzer\\metadata\\refit\n",
      "\n",
      "Loading specified buildings: [1, 2, 3, 4, 5, 6, 7, 8, 9, 10, 11, 12, 13, 15, 16, 17, 18, 19, 20, 21]\n",
      "Dataset successfully loaded!\n",
      "Loading data for appliance DISH WASHER ...\n",
      "Fetching DISH WASHER data for House 1\n",
      "Fetching DISH WASHER data for House 2\n",
      "Fetching DISH WASHER data for House 3\n",
      "Appliance 'DISH WASHER' does not exist in house 4.\n",
      "Fetching DISH WASHER data for House 5\n",
      "Fetching DISH WASHER data for House 6\n",
      "Fetching DISH WASHER data for House 7\n",
      "Appliance 'DISH WASHER' does not exist in house 8.\n",
      "Fetching DISH WASHER data for House 9\n",
      "Fetching DISH WASHER data for House 10\n",
      "Fetching DISH WASHER data for House 11\n",
      "Appliance 'DISH WASHER' does not exist in house 12.\n",
      "Fetching DISH WASHER data for House 13\n",
      "House Number = 14 does not exist in the provided dataset.\n",
      "Fetching DISH WASHER data for House 15\n",
      "Fetching DISH WASHER data for House 16\n",
      "Appliance 'DISH WASHER' does not exist in house 17.\n",
      "Fetching DISH WASHER data for House 18\n",
      "Appliance 'DISH WASHER' does not exist in house 19.\n",
      "Fetching DISH WASHER data for House 20\n",
      "Fetching DISH WASHER data for House 21\n"
     ]
    }
   ],
   "source": [
    "refit_data = REFIT_Loader(data_path='D:/data/external/refit/')\n",
    "appliance_data = refit_data.get_appliance_data(appliance=target_appliance, houses=target_houses)"
   ],
   "metadata": {
    "collapsed": false
   }
  },
  {
   "cell_type": "code",
   "execution_count": 3,
   "outputs": [
    {
     "name": "stdout",
     "output_type": "stream",
     "text": [
      "Resampling for house number:  1\n",
      "sampling_period = 8s, window_limit = 120 samples, fill_value = 0.0\n",
      "\n",
      "Resampling for house number:  2\n",
      "sampling_period = 8s, window_limit = 120 samples, fill_value = 0.0\n",
      "\n",
      "Resampling for house number:  3\n",
      "sampling_period = 8s, window_limit = 120 samples, fill_value = 0.0\n",
      "\n",
      "Resampling for house number:  5\n",
      "sampling_period = 8s, window_limit = 120 samples, fill_value = 0.0\n",
      "\n",
      "Resampling for house number:  6\n",
      "sampling_period = 8s, window_limit = 120 samples, fill_value = 0.0\n",
      "\n",
      "Resampling for house number:  7\n",
      "sampling_period = 8s, window_limit = 120 samples, fill_value = 0.0\n",
      "\n",
      "Resampling for house number:  9\n",
      "sampling_period = 8s, window_limit = 120 samples, fill_value = 0.0\n",
      "\n",
      "Resampling for house number:  10\n",
      "sampling_period = 8s, window_limit = 120 samples, fill_value = 0.0\n",
      "\n",
      "Resampling for house number:  11\n",
      "sampling_period = 8s, window_limit = 120 samples, fill_value = 0.0\n",
      "\n",
      "Resampling for house number:  13\n",
      "sampling_period = 8s, window_limit = 120 samples, fill_value = 0.0\n",
      "\n",
      "Resampling for house number:  15\n",
      "sampling_period = 8s, window_limit = 120 samples, fill_value = 0.0\n",
      "\n",
      "Resampling for house number:  16\n",
      "sampling_period = 8s, window_limit = 120 samples, fill_value = 0.0\n",
      "\n",
      "Resampling for house number:  18\n",
      "sampling_period = 8s, window_limit = 120 samples, fill_value = 0.0\n",
      "\n",
      "Resampling for house number:  20\n",
      "sampling_period = 8s, window_limit = 120 samples, fill_value = 0.0\n",
      "\n",
      "Resampling for house number:  21\n",
      "sampling_period = 8s, window_limit = 120 samples, fill_value = 0.0\n",
      "\n",
      "Updating data with resampled dataset...\n"
     ]
    }
   ],
   "source": [
    "appliance_data.resample('8s')"
   ],
   "metadata": {
    "collapsed": false
   }
  },
  {
   "cell_type": "code",
   "execution_count": 4,
   "outputs": [
    {
     "name": "stdout",
     "output_type": "stream",
     "text": [
      "Subetting dataset with 40 days of data for House 1\n",
      "Consumption Threshold is set to = 80.0\n",
      "Time Delay Threshold is set to = 45.0 minutes\n",
      "Estimating active durations of: dish washer\n",
      "Subetting dataset with 40 days of data for House 2\n",
      "Consumption Threshold is set to = 80.0\n",
      "Time Delay Threshold is set to = 45.0 minutes\n",
      "Estimating active durations of: dish washer\n",
      "Subetting dataset with 40 days of data for House 3\n",
      "Consumption Threshold is set to = 80.0\n",
      "Time Delay Threshold is set to = 45.0 minutes\n",
      "Estimating active durations of: dish washer\n",
      "Subetting dataset with 40 days of data for House 5\n",
      "Consumption Threshold is set to = 80.0\n",
      "Time Delay Threshold is set to = 45.0 minutes\n",
      "Estimating active durations of: dish washer\n",
      "Subetting dataset with 40 days of data for House 6\n",
      "Consumption Threshold is set to = 80.0\n",
      "Time Delay Threshold is set to = 45.0 minutes\n",
      "Estimating active durations of: dish washer\n",
      "Subetting dataset with 40 days of data for House 7\n",
      "Consumption Threshold is set to = 80.0\n",
      "Time Delay Threshold is set to = 45.0 minutes\n",
      "Estimating active durations of: dish washer\n",
      "Subetting dataset with 40 days of data for House 9\n",
      "Consumption Threshold is set to = 80.0\n",
      "Time Delay Threshold is set to = 45.0 minutes\n",
      "Estimating active durations of: dish washer\n",
      "Subetting dataset with 40 days of data for House 10\n",
      "Consumption Threshold is set to = 80.0\n",
      "Time Delay Threshold is set to = 45.0 minutes\n",
      "Estimating active durations of: dish washer\n",
      "Subetting dataset with 40 days of data for House 11\n",
      "Consumption Threshold is set to = 80.0\n",
      "Time Delay Threshold is set to = 45.0 minutes\n",
      "Estimating active durations of: dish washer\n",
      "Subetting dataset with 40 days of data for House 13\n",
      "Consumption Threshold is set to = 80.0\n",
      "Time Delay Threshold is set to = 45.0 minutes\n",
      "Estimating active durations of: dish washer\n",
      "Subetting dataset with 40 days of data for House 15\n",
      "Consumption Threshold is set to = 80.0\n",
      "Time Delay Threshold is set to = 45.0 minutes\n",
      "Estimating active durations of: dish washer\n",
      "Subetting dataset with 40 days of data for House 16\n",
      "Consumption Threshold is set to = 80.0\n",
      "Time Delay Threshold is set to = 45.0 minutes\n",
      "Estimating active durations of: dish washer\n",
      "Subetting dataset with 40 days of data for House 18\n",
      "Consumption Threshold is set to = 80.0\n",
      "Time Delay Threshold is set to = 45.0 minutes\n",
      "Estimating active durations of: dish washer\n",
      "Subetting dataset with 40 days of data for House 20\n",
      "Consumption Threshold is set to = 80.0\n",
      "Time Delay Threshold is set to = 45.0 minutes\n",
      "Estimating active durations of: dish washer\n",
      "Subetting dataset with 40 days of data for House 21\n",
      "Consumption Threshold is set to = 80.0\n",
      "Time Delay Threshold is set to = 45.0 minutes\n",
      "Estimating active durations of: dish washer\n",
      "Updating data with selected active appliance activities...\n"
     ]
    }
   ],
   "source": [
    "appliance_data.subset_data(no_of_days=40, best_days=True, threshold_x=45.0, threshold_y=80.0, min_limit=5.0, max_limit=260.0)"
   ],
   "metadata": {
    "collapsed": false
   }
  },
  {
   "cell_type": "code",
   "execution_count": 5,
   "outputs": [
    {
     "name": "stdout",
     "output_type": "stream",
     "text": [
      "Making splits for House: 1\n",
      "splits_proportion =  {'TRAIN_PERCENT': 0.75, 'VALIDATE_PERCENT': 0.0, 'TEST_PERCENT': 0.25}\n",
      "Updating splits with specified proportion from every target house...\n",
      "Making splits for House: 2\n",
      "splits_proportion =  {'TRAIN_PERCENT': 0.75, 'VALIDATE_PERCENT': 0.0, 'TEST_PERCENT': 0.25}\n",
      "Updating splits with specified proportion from every target house...\n",
      "Making splits for House: 3\n",
      "splits_proportion =  {'TRAIN_PERCENT': 0.75, 'VALIDATE_PERCENT': 0.0, 'TEST_PERCENT': 0.25}\n",
      "Updating splits with specified proportion from every target house...\n",
      "Making splits for House: 5\n",
      "splits_proportion =  {'TRAIN_PERCENT': 0.75, 'VALIDATE_PERCENT': 0.0, 'TEST_PERCENT': 0.25}\n",
      "Updating splits with specified proportion from every target house...\n",
      "Making splits for House: 6\n",
      "splits_proportion =  {'TRAIN_PERCENT': 0.75, 'VALIDATE_PERCENT': 0.0, 'TEST_PERCENT': 0.25}\n",
      "Updating splits with specified proportion from every target house...\n",
      "Making splits for House: 7\n",
      "splits_proportion =  {'TRAIN_PERCENT': 0.75, 'VALIDATE_PERCENT': 0.0, 'TEST_PERCENT': 0.25}\n",
      "Updating splits with specified proportion from every target house...\n",
      "Making splits for House: 9\n",
      "splits_proportion =  {'TRAIN_PERCENT': 0.75, 'VALIDATE_PERCENT': 0.0, 'TEST_PERCENT': 0.25}\n",
      "Updating splits with specified proportion from every target house...\n",
      "Making splits for House: 10\n",
      "splits_proportion =  {'TRAIN_PERCENT': 0.75, 'VALIDATE_PERCENT': 0.0, 'TEST_PERCENT': 0.25}\n",
      "Updating splits with specified proportion from every target house...\n",
      "Making splits for House: 11\n",
      "splits_proportion =  {'TRAIN_PERCENT': 0.75, 'VALIDATE_PERCENT': 0.0, 'TEST_PERCENT': 0.25}\n",
      "Updating splits with specified proportion from every target house...\n",
      "Making splits for House: 13\n",
      "splits_proportion =  {'TRAIN_PERCENT': 0.75, 'VALIDATE_PERCENT': 0.0, 'TEST_PERCENT': 0.25}\n",
      "Updating splits with specified proportion from every target house...\n",
      "Making splits for House: 15\n",
      "splits_proportion =  {'TRAIN_PERCENT': 0.75, 'VALIDATE_PERCENT': 0.0, 'TEST_PERCENT': 0.25}\n",
      "Updating splits with specified proportion from every target house...\n",
      "Making splits for House: 16\n",
      "splits_proportion =  {'TRAIN_PERCENT': 0.75, 'VALIDATE_PERCENT': 0.0, 'TEST_PERCENT': 0.25}\n",
      "Updating splits with specified proportion from every target house...\n",
      "Making splits for House: 18\n",
      "splits_proportion =  {'TRAIN_PERCENT': 0.75, 'VALIDATE_PERCENT': 0.0, 'TEST_PERCENT': 0.25}\n",
      "Updating splits with specified proportion from every target house...\n",
      "Making splits for House: 20\n",
      "splits_proportion =  {'TRAIN_PERCENT': 0.75, 'VALIDATE_PERCENT': 0.0, 'TEST_PERCENT': 0.25}\n",
      "Updating splits with specified proportion from every target house...\n",
      "Making splits for House: 21\n",
      "splits_proportion =  {'TRAIN_PERCENT': 0.75, 'VALIDATE_PERCENT': 0.0, 'TEST_PERCENT': 0.25}\n",
      "Updating splits with specified proportion from every target house...\n"
     ]
    }
   ],
   "source": [
    "for house_number in appliance_data.data.keys():\n",
    "    print(f'Making splits for House: {house_number}')\n",
    "    appliance_data.data[house_number].rename(columns={'aggregate':'power_sm', target_appliance.lower(): f'power_dishwasher'}, inplace=True)\n",
    "    appliance_data.get_proportioned_data(target_houses={'TRAIN': [house_number], 'VALIDATE': [house_number], 'TEST': [house_number]},\n",
    "                                    splits_proportion={'TRAIN_PERCENT': 0.75, 'VALIDATE_PERCENT': 0.0, 'TEST_PERCENT': 0.25})\n",
    "    appliance_data.save_splits(output_directory=f'D:/data/splits/refit/{target_appliance}/house_{house_number}/')"
   ],
   "metadata": {
    "collapsed": false
   }
  }
 ],
 "metadata": {
  "kernelspec": {
   "display_name": "Python 3",
   "language": "python",
   "name": "python3"
  },
  "language_info": {
   "codemirror_mode": {
    "name": "ipython",
    "version": 2
   },
   "file_extension": ".py",
   "mimetype": "text/x-python",
   "name": "python",
   "nbconvert_exporter": "python",
   "pygments_lexer": "ipython2",
   "version": "2.7.6"
  }
 },
 "nbformat": 4,
 "nbformat_minor": 0
}
