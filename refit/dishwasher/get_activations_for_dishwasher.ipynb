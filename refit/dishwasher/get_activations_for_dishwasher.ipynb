{
 "cells": [
  {
   "cell_type": "code",
   "execution_count": 1,
   "metadata": {
    "collapsed": false,
    "jupyter": {
     "outputs_hidden": false
    }
   },
   "outputs": [],
   "source": [
    "import numpy as np\n",
    "import pandas as pd\n",
    "from nilm_analyzer.loaders import REFIT_Loader"
   ]
  },
  {
   "cell_type": "code",
   "execution_count": 2,
   "metadata": {
    "collapsed": false,
    "jupyter": {
     "outputs_hidden": false
    }
   },
   "outputs": [
    {
     "name": "stdout",
     "output_type": "stream",
     "text": [
      "Fetching the meter_appliance mapping from REFIT metadata: C:\\Users\\mahno\\Anaconda\\envs\\torchy\\lib\\site-packages\\nilm_analyzer\\metadata\\refit\n",
      "\n",
      "Loading specified buildings: [1, 2, 3, 4, 5, 6, 7, 8, 9, 10, 11, 12, 13, 15, 16, 17, 18, 19, 20, 21]\n",
      "Dataset successfully loaded!\n",
      "Loading data for appliance DISH WASHER ...\n",
      "Fetching DISH WASHER data for House 1\n",
      "Fetching DISH WASHER data for House 2\n",
      "Fetching DISH WASHER data for House 3\n",
      "Appliance 'DISH WASHER' does not exist in house 4.\n",
      "Fetching DISH WASHER data for House 5\n",
      "Fetching DISH WASHER data for House 6\n",
      "Fetching DISH WASHER data for House 7\n",
      "Appliance 'DISH WASHER' does not exist in house 8.\n",
      "Fetching DISH WASHER data for House 9\n",
      "Fetching DISH WASHER data for House 10\n",
      "Fetching DISH WASHER data for House 11\n",
      "Appliance 'DISH WASHER' does not exist in house 12.\n",
      "Fetching DISH WASHER data for House 13\n",
      "House Number = 14 does not exist in the provided dataset.\n",
      "Fetching DISH WASHER data for House 15\n",
      "Fetching DISH WASHER data for House 16\n",
      "Appliance 'DISH WASHER' does not exist in house 17.\n",
      "Fetching DISH WASHER data for House 18\n",
      "Appliance 'DISH WASHER' does not exist in house 19.\n",
      "Fetching DISH WASHER data for House 20\n",
      "Fetching DISH WASHER data for House 21\n",
      "Resampling for house number:  1\n",
      "Error occured in resample method of _EnergyDataset due to  unsupported operand type(s) for /: 'float' and 'str'\n"
     ]
    }
   ],
   "source": [
    "src_path = 'D:/data/external/refit/'\n",
    "target_appliance = 'dish washer'\n",
    "target_houses=list(np.arange(1,22))\n",
    "\n",
    "refit_data = REFIT_Loader(data_path='D:/data/external/refit/')\n",
    "appliance_data = refit_data.get_appliance_data(appliance=target_appliance, houses=target_houses)\n",
    "appliance_data.resample(sampling_period='8s')"
   ]
  },
  {
   "cell_type": "code",
   "execution_count": 7,
   "metadata": {
    "collapsed": false,
    "jupyter": {
     "outputs_hidden": false
    }
   },
   "outputs": [
    {
     "name": "stdout",
     "output_type": "stream",
     "text": [
      "Extracting activations for House 1\n",
      "Consumption Threshold is set to = 80.0\n",
      "Time Delay Threshold is set to = 35.0 minutes\n",
      "Estimating active durations of: dish washer\n",
      "Extracting activations for House 2\n",
      "Consumption Threshold is set to = 80.0\n",
      "Time Delay Threshold is set to = 35.0 minutes\n",
      "Estimating active durations of: dish washer\n",
      "Extracting activations for House 3\n",
      "Consumption Threshold is set to = 80.0\n",
      "Time Delay Threshold is set to = 35.0 minutes\n",
      "Estimating active durations of: dish washer\n",
      "Extracting activations for House 5\n",
      "Consumption Threshold is set to = 80.0\n",
      "Time Delay Threshold is set to = 35.0 minutes\n",
      "Estimating active durations of: dish washer\n",
      "Extracting activations for House 6\n",
      "Consumption Threshold is set to = 80.0\n",
      "Time Delay Threshold is set to = 35.0 minutes\n",
      "Estimating active durations of: dish washer\n",
      "Extracting activations for House 7\n",
      "Consumption Threshold is set to = 80.0\n",
      "Time Delay Threshold is set to = 35.0 minutes\n",
      "Estimating active durations of: dish washer\n",
      "Extracting activations for House 9\n",
      "Consumption Threshold is set to = 80.0\n",
      "Time Delay Threshold is set to = 35.0 minutes\n",
      "Estimating active durations of: dish washer\n",
      "Extracting activations for House 10\n",
      "Consumption Threshold is set to = 80.0\n",
      "Time Delay Threshold is set to = 35.0 minutes\n",
      "Estimating active durations of: dish washer\n",
      "Extracting activations for House 11\n",
      "Consumption Threshold is set to = 80.0\n",
      "Time Delay Threshold is set to = 35.0 minutes\n",
      "Estimating active durations of: dish washer\n",
      "Extracting activations for House 13\n",
      "Consumption Threshold is set to = 80.0\n",
      "Time Delay Threshold is set to = 35.0 minutes\n",
      "Estimating active durations of: dish washer\n",
      "Extracting activations for House 15\n",
      "Consumption Threshold is set to = 80.0\n",
      "Time Delay Threshold is set to = 35.0 minutes\n",
      "Estimating active durations of: dish washer\n",
      "Extracting activations for House 16\n",
      "Consumption Threshold is set to = 80.0\n",
      "Time Delay Threshold is set to = 35.0 minutes\n",
      "Estimating active durations of: dish washer\n",
      "Extracting activations for House 18\n",
      "Consumption Threshold is set to = 80.0\n",
      "Time Delay Threshold is set to = 35.0 minutes\n",
      "Estimating active durations of: dish washer\n",
      "Extracting activations for House 20\n",
      "Consumption Threshold is set to = 80.0\n",
      "Time Delay Threshold is set to = 35.0 minutes\n",
      "Estimating active durations of: dish washer\n",
      "Extracting activations for House 21\n",
      "Consumption Threshold is set to = 80.0\n",
      "Time Delay Threshold is set to = 35.0 minutes\n",
      "Estimating active durations of: dish washer\n",
      "Updating activations with durations when appliance is active (above threshold).\n"
     ]
    }
   ],
   "source": [
    "appliance_data.get_activations(threshold_x=35.0, threshold_y=80.0, min_limit=5.0, max_limit=200.0)"
   ]
  },
  {
   "cell_type": "code",
   "execution_count": 8,
   "metadata": {
    "collapsed": false,
    "jupyter": {
     "outputs_hidden": false
    }
   },
   "outputs": [
    {
     "name": "stdout",
     "output_type": "stream",
     "text": [
      "\n",
      "Converting activities to arrays\n",
      "Processing for house 1\n",
      "Processing for house 2\n",
      "Processing for house 3\n",
      "Processing for house 5\n",
      "Processing for house 6\n",
      "Processing for house 7\n",
      "Processing for house 9\n",
      "Processing for house 10\n",
      "Processing for house 11\n",
      "Processing for house 13\n",
      "Processing for house 15\n",
      "Processing for house 16\n",
      "Processing for house 18\n",
      "Processing for house 20\n",
      "Processing for house 21\n"
     ]
    }
   ],
   "source": [
    "appliance_activations = dict()\n",
    "\n",
    "print('\\nConverting activities to arrays')\n",
    "for house_number in appliance_data.activations.keys():\n",
    "    print(f'Processing for house {house_number}')\n",
    "    filter_activities = appliance_data.activations[house_number].sort_values(by='duration_in_minutes', ascending=False).head(100)\n",
    "    activities_lst = []\n",
    "    durations_lst = []\n",
    "    for row in range(0, len(filter_activities)):\n",
    "        activities_lst.append(np.array(appliance_data.data[house_number].loc[str(filter_activities['activity_start'].iloc[row]- pd.Timedelta(seconds=10)):\n",
    "                                           str(filter_activities['activity_end'].iloc[row]+pd.Timedelta(seconds=10))][appliance_data.data[house_number].columns[-1]]))\n",
    "        durations_lst.append(filter_activities['duration_in_minutes'].iloc[row])\n",
    "    appliance_activations.update({house_number:{'activities_seq':activities_lst, 'duration_in_minutes':durations_lst}})"
   ]
  },
  {
   "cell_type": "code",
   "execution_count": 9,
   "metadata": {
    "collapsed": false,
    "jupyter": {
     "outputs_hidden": false
    }
   },
   "outputs": [],
   "source": [
    "# import pickle\n",
    "# with open(f'{target_appliance}_activations.pkl', 'wb') as f:\n",
    "#     pickle.dump(appliance_activations, f)"
   ]
  },
  {
   "cell_type": "code",
   "execution_count": null,
   "metadata": {
    "collapsed": false,
    "jupyter": {
     "outputs_hidden": false
    }
   },
   "outputs": [],
   "source": [
    "from matplotlib import pyplot as plt\n",
    "house = 13\n",
    "rows = 10\n",
    "columns = 10\n",
    "fig, axs = plt.subplots(rows, columns, figsize=(15,10))\n",
    "fig.tight_layout()\n",
    "\n",
    "plot_number = 0\n",
    "for i in range(0,rows):\n",
    "    for j in range(0,columns):\n",
    "        axs[i,j].plot(pd.Series(appliance_activations[house]['activities_seq'][plot_number]))\n",
    "        axs[i,j].set_title(f\"duration:{int(appliance_activations[house]['duration_in_minutes'][plot_number])}min\")\n",
    "        plot_number+=1"
   ]
  },
  {
   "cell_type": "code",
   "execution_count": null,
   "metadata": {},
   "outputs": [],
   "source": []
  }
 ],
 "metadata": {
  "kernelspec": {
   "display_name": "Python 3 (ipykernel)",
   "language": "python",
   "name": "python3"
  },
  "language_info": {
   "codemirror_mode": {
    "name": "ipython",
    "version": 3
   },
   "file_extension": ".py",
   "mimetype": "text/x-python",
   "name": "python",
   "nbconvert_exporter": "python",
   "pygments_lexer": "ipython3",
   "version": "3.10.6"
  }
 },
 "nbformat": 4,
 "nbformat_minor": 4
}
