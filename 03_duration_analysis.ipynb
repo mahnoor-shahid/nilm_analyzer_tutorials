{
 "cells": [
  {
   "cell_type": "code",
   "execution_count": 1,
   "id": "04e04564-120b-45d4-9b89-d25f25420603",
   "metadata": {},
   "outputs": [],
   "source": [
    "from loader.data_loader import REFIT_Loader\n",
    "from utils.active_durations import get_activities"
   ]
  },
  {
   "cell_type": "code",
   "execution_count": 2,
   "id": "fd768483-abd0-42e5-a488-045e0f505f35",
   "metadata": {},
   "outputs": [
    {
     "data": {
      "text/plain": [
       "'Followings are the general configuration of your experiment..'"
      ]
     },
     "metadata": {},
     "output_type": "display_data"
    },
    {
     "name": "stdout",
     "output_type": "stream",
     "text": [
      "{'DATA_FOLDER': 'data/refit/', 'DATA_TYPE': '.csv', 'README_FILE': 'data/refit/REFIT_Readme.txt', 'REFIT_HOUSES': [1, 2, 3, 4, 5, 6, 7, 8, 9, 10, 11, 12, 13, 15, 16, 17, 18, 19, 20, 21]}\n",
      "\n"
     ]
    },
    {
     "data": {
      "text/plain": [
       "'Loading specified buildings: [1, 2, 3, 4, 5, 6, 7, 8, 9, 10, 11, 12, 13, 15, 16, 17, 18, 19, 20, 21]'"
      ]
     },
     "metadata": {},
     "output_type": "display_data"
    },
    {
     "data": {
      "text/plain": [
       "'Parsing the readme file specified: data/refit/REFIT_Readme.txt'"
      ]
     },
     "metadata": {},
     "output_type": "display_data"
    }
   ],
   "source": [
    "refit = REFIT_Loader()"
   ]
  },
  {
   "cell_type": "code",
   "execution_count": 10,
   "id": "61c7cfdb-db72-47fb-b992-d4ad77af8a05",
   "metadata": {},
   "outputs": [
    {
     "data": {
      "text/plain": [
       "'Loading data for appliance KETTLE'"
      ]
     },
     "metadata": {},
     "output_type": "display_data"
    },
    {
     "data": {
      "text/plain": [
       "'Fetching KETTLE data for House 2'"
      ]
     },
     "metadata": {},
     "output_type": "display_data"
    },
    {
     "data": {
      "text/plain": [
       "'Fetching KETTLE data for House 3'"
      ]
     },
     "metadata": {},
     "output_type": "display_data"
    },
    {
     "data": {
      "text/plain": [
       "'Fetching KETTLE data for House 4'"
      ]
     },
     "metadata": {},
     "output_type": "display_data"
    },
    {
     "name": "stdout",
     "output_type": "stream",
     "text": [
      "Wall time: 22.5 s\n"
     ]
    }
   ],
   "source": [
    "%%time\n",
    "kettle = refit.get_appliance_data('Kettle', houses=[2, 3, 4])"
   ]
  },
  {
   "cell_type": "code",
   "execution_count": 11,
   "id": "7099000b-2850-4e46-9077-cc12c9506099",
   "metadata": {},
   "outputs": [
    {
     "data": {
      "text/plain": [
       "dict"
      ]
     },
     "execution_count": 11,
     "metadata": {},
     "output_type": "execute_result"
    }
   ],
   "source": [
    "type(kettle)"
   ]
  },
  {
   "cell_type": "code",
   "execution_count": 12,
   "id": "6db2f8e9-db4a-402f-8409-006a435871ed",
   "metadata": {},
   "outputs": [
    {
     "data": {
      "text/plain": [
       "{2:                      aggregate  kettle\n",
       " time                                  \n",
       " 2013-09-17 22:08:11        695       0\n",
       " 2013-09-17 22:08:18        694       0\n",
       " 2013-09-17 22:08:26        694       0\n",
       " 2013-09-17 22:08:34        702       0\n",
       " 2013-09-17 22:08:42        700       0\n",
       " ...                        ...     ...\n",
       " 2015-05-28 08:05:16        315       0\n",
       " 2015-05-28 08:05:23        333       0\n",
       " 2015-05-28 08:05:30        313       0\n",
       " 2015-05-28 08:05:37        316       0\n",
       " 2015-05-28 08:05:43        383       0\n",
       " \n",
       " [5733526 rows x 2 columns],\n",
       " 3:                      aggregate  kettle\n",
       " time                                  \n",
       " 2013-09-25 19:21:09        387       0\n",
       " 2013-09-25 19:21:16        386       0\n",
       " 2013-09-25 19:21:23        383       0\n",
       " 2013-09-25 19:21:30        388       0\n",
       " 2013-09-25 19:21:37        388       0\n",
       " ...                        ...     ...\n",
       " 2015-06-02 10:55:14       2674       0\n",
       " 2015-06-02 10:55:21       2435       0\n",
       " 2015-06-02 10:55:28       2453       0\n",
       " 2015-06-02 10:55:35       2733       0\n",
       " 2015-06-02 10:55:42       2638       0\n",
       " \n",
       " [6994594 rows x 2 columns],\n",
       " 4:                      aggregate  kettle\n",
       " time                                  \n",
       " 2013-10-11 10:19:17        596       0\n",
       " 2013-10-11 10:19:32        593       0\n",
       " 2013-10-11 10:19:46        594       0\n",
       " 2013-10-11 10:20:01        601       0\n",
       " 2013-10-11 10:20:15        597       0\n",
       " ...                        ...     ...\n",
       " 2015-07-07 09:57:10         84       0\n",
       " 2015-07-07 09:57:17         84       0\n",
       " 2015-07-07 09:57:24         84       0\n",
       " 2015-07-07 09:57:31         84       0\n",
       " 2015-07-07 09:57:38         84       0\n",
       " \n",
       " [6760511 rows x 2 columns]}"
      ]
     },
     "execution_count": 12,
     "metadata": {},
     "output_type": "execute_result"
    }
   ],
   "source": [
    "kettle"
   ]
  },
  {
   "cell_type": "code",
   "execution_count": 15,
   "id": "5f6b5b54-cdcd-4b10-ac14-cca609885df5",
   "metadata": {},
   "outputs": [
    {
     "name": "stdout",
     "output_type": "stream",
     "text": [
      "<class 'int'>\n",
      "<class 'pandas.core.frame.DataFrame'>\n",
      "<class 'int'>\n",
      "<class 'pandas.core.frame.DataFrame'>\n",
      "<class 'int'>\n",
      "<class 'pandas.core.frame.DataFrame'>\n"
     ]
    }
   ],
   "source": [
    "for key, value in kettle.items():\n",
    "    display('Detching ')\n",
    "    print(type(key))\n",
    "    print(type(value))"
   ]
  },
  {
   "cell_type": "code",
   "execution_count": 8,
   "id": "4bd3395d-9b0d-4510-b2f2-412859a68aac",
   "metadata": {},
   "outputs": [],
   "source": [
    "import pandas as pd\n",
    "def convert_timestamps2minutes(tstamps: pd.Series):\n",
    "    try:\n",
    "        return tstamps / np.timedelta64(1, 'm')\n",
    "\n",
    "    except Exception as e:\n",
    "        print(\"Exception raised in generating convert_timestamps2minutes() method = \", e)\n",
    "    \n",
    "    \n",
    "def get_activities(data, target_appliance=None, threshold=None, index_name='time'):\n",
    "    \"\"\"\n",
    "    This method will return the durations or events of the active appliance in the dataframe\n",
    "    \n",
    "    Parameters \n",
    "    ----------\n",
    "    data : dict\n",
    "            contains dataframes of multiple houses where key represents the house number (int) and value represents (pandas.core.frame.DataFrame)\n",
    "            dataframe may include the aggregate consumption and power consumption of a specific appliance in float values\n",
    "            with timestamps as index\n",
    "    target_appliance : string\n",
    "            name of the target appliance (may be the name of the column targeted)\n",
    "    threshold : float\n",
    "            value of threshold for raw samples of power consumption \n",
    "    index_name: string\n",
    "            name of the index (index_name was set to 'time' while loading)\n",
    "        \n",
    "    returns: pandas.DataFrame \n",
    "            {\n",
    "                'Activity_Start': pandas._libs.tslibs.timestamps.Timestamp\n",
    "                    start of the duration/event \n",
    "                'Activity_End': pandas._libs.tslibs.timestamps.Timestamp \n",
    "                    end of the duration/event\n",
    "                'Duration': float\n",
    "                    minutes of active appliance (using the method = convert_timestamps2minutes to convert timestamps to minutes)\n",
    "            }\n",
    "    \"\"\"\n",
    "    \n",
    "    try:\n",
    "        for \n",
    "        duration_start = []\n",
    "        duration_end = []\n",
    "        duration_size = []\n",
    "        \n",
    "        if target_appliance is None:\n",
    "            target_appliance = df.columns[-1]\n",
    "        \n",
    "        if threshold is None:\n",
    "            threshold = 0.0\n",
    "\n",
    "        df_tmp = df[[target_appliance]].copy()\n",
    "        mask = df[target_appliance] > threshold\n",
    "        df_tmp['mask'] = (mask)\n",
    "        df_tmp['cum_sum'] = (~mask).cumsum()\n",
    "        df_tmp = df_tmp[df_tmp['mask'] == True]\n",
    "        df_tmp = df_tmp.groupby(['cum_sum', index_name]).first()\n",
    "\n",
    "        for x in df_tmp.index.unique(level='cum_sum'):\n",
    "            d = df_tmp.loc[(x)].reset_index()\n",
    "            duration_start.append(d.iloc[0]['time'])\n",
    "            duration_end.append(d.iloc[-1]['time'])\n",
    "            duration_size.append(duration_end[-1] - duration_start[-1])\n",
    "    \n",
    "        return pd.DataFrame({'Activity_Start': duration_start, 'Activity_End': duration_end, 'Duration': convert_timestamps2minutes(pd.Series(duration_size))})\n",
    "\n",
    "    except Exception as e:\n",
    "        print(\"Exception raised in get_activities() method = \", e)"
   ]
  },
  {
   "cell_type": "code",
   "execution_count": 61,
   "id": "30ff5105-e0e9-4972-b2d5-90bfe10f7264",
   "metadata": {},
   "outputs": [
    {
     "name": "stdout",
     "output_type": "stream",
     "text": [
      "<class 'str'>\n",
      "<class 'str'>\n",
      "Exception raised in get_activities() method =  unsupported operand type(s) for -: 'str' and 'str'\n"
     ]
    }
   ],
   "source": [
    "get_activities(House2_Kettle[2], target_appliance='kettle') #### fix indeices"
   ]
  },
  {
   "cell_type": "code",
   "execution_count": null,
   "id": "7bdb89b8-46e2-4cf6-8440-0252c779691e",
   "metadata": {},
   "outputs": [],
   "source": []
  }
 ],
 "metadata": {
  "kernelspec": {
   "display_name": "Python 3",
   "language": "python",
   "name": "python3"
  },
  "language_info": {
   "codemirror_mode": {
    "name": "ipython",
    "version": 3
   },
   "file_extension": ".py",
   "mimetype": "text/x-python",
   "name": "python",
   "nbconvert_exporter": "python",
   "pygments_lexer": "ipython3",
   "version": "3.9.2"
  }
 },
 "nbformat": 4,
 "nbformat_minor": 5
}
