{
 "cells": [
  {
   "cell_type": "code",
   "execution_count": 1,
   "id": "04e04564-120b-45d4-9b89-d25f25420603",
   "metadata": {},
   "outputs": [],
   "source": [
    "from loader.data_loader import REFIT_Loader\n",
    "from utils.active_durations import get_activities"
   ]
  },
  {
   "cell_type": "code",
   "execution_count": 2,
   "id": "fd768483-abd0-42e5-a488-045e0f505f35",
   "metadata": {},
   "outputs": [
    {
     "name": "stdout",
     "output_type": "stream",
     "text": [
      "Followings are the general configuration of your experiment..\n",
      "{'DATA_FOLDER': 'data/refit/', 'DATA_TYPE': '.csv', 'README_FILE': 'data/refit/REFIT_Readme.txt', 'REFIT_HOUSES': [1, 2, 3, 4, 5, 6, 7, 8, 9, 10, 11, 12, 13, 15, 16, 17, 18, 19, 20, 21]}\n",
      "\n",
      "Loading specified buildings: [1, 2, 3, 4, 5, 6, 7, 8, 9, 10, 11, 12, 13, 15, 16, 17, 18, 19, 20, 21]\n",
      "Parsing the readme file specified: data/refit/REFIT_Readme.txt\n"
     ]
    }
   ],
   "source": [
    "refit = REFIT_Loader()"
   ]
  },
  {
   "cell_type": "code",
   "execution_count": 3,
   "id": "61c7cfdb-db72-47fb-b992-d4ad77af8a05",
   "metadata": {},
   "outputs": [
    {
     "name": "stdout",
     "output_type": "stream",
     "text": [
      "Loading data for appliance KETTLE\n",
      "\n",
      "Fetching KETTLE data for House 2\n",
      "Fetching KETTLE data for House 3\n",
      "Fetching KETTLE data for House 4\n",
      "Wall time: 18.1 s\n"
     ]
    }
   ],
   "source": [
    "%%time\n",
    "kettle = refit.get_appliance_data('Kettle', houses=[2, 3, 4])"
   ]
  },
  {
   "cell_type": "code",
   "execution_count": null,
   "id": "30ff5105-e0e9-4972-b2d5-90bfe10f7264",
   "metadata": {},
   "outputs": [
    {
     "name": "stdout",
     "output_type": "stream",
     "text": [
      "ditionary\n",
      "Estimating active durations of House 2: kettle\n"
     ]
    }
   ],
   "source": [
    "activities = get_activities(kettle)"
   ]
  },
  {
   "cell_type": "code",
   "execution_count": null,
   "id": "08aafb06-2a9e-4fc5-84b3-2ca559c57456",
   "metadata": {},
   "outputs": [],
   "source": [
    "house2 = refit.get_house_data(2)"
   ]
  },
  {
   "cell_type": "code",
   "execution_count": null,
   "id": "2b0bbc4d-dedd-4429-8437-b85a44e448c6",
   "metadata": {},
   "outputs": [],
   "source": [
    "house2activities = get_activities(house2)"
   ]
  },
  {
   "cell_type": "code",
   "execution_count": null,
   "id": "c393fc0d-82e8-417a-b0de-68b34a52f554",
   "metadata": {},
   "outputs": [],
   "source": [
    "house2activities['microwave']"
   ]
  },
  {
   "cell_type": "code",
   "execution_count": null,
   "id": "8d55265b-08a2-4dfe-b504-0c89544d225d",
   "metadata": {},
   "outputs": [],
   "source": [
    "all(house2activities['kettle'] == activities[2])"
   ]
  },
  {
   "cell_type": "code",
   "execution_count": null,
   "id": "c082711d-efe1-43dc-ad7e-dd8a2d2677ee",
   "metadata": {},
   "outputs": [],
   "source": []
  }
 ],
 "metadata": {
  "kernelspec": {
   "display_name": "Python 3",
   "language": "python",
   "name": "python3"
  },
  "language_info": {
   "codemirror_mode": {
    "name": "ipython",
    "version": 3
   },
   "file_extension": ".py",
   "mimetype": "text/x-python",
   "name": "python",
   "nbconvert_exporter": "python",
   "pygments_lexer": "ipython3",
   "version": "3.9.2"
  }
 },
 "nbformat": 4,
 "nbformat_minor": 5
}
