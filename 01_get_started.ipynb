{
 "cells": [
  {
   "cell_type": "code",
   "execution_count": 1,
   "id": "04e04564-120b-45d4-9b89-d25f25420603",
   "metadata": {},
   "outputs": [],
   "source": [
    "from loader.data_loader import REFIT_Loader"
   ]
  },
  {
   "cell_type": "code",
   "execution_count": 2,
   "id": "fd768483-abd0-42e5-a488-045e0f505f35",
   "metadata": {},
   "outputs": [
    {
     "data": {
      "text/plain": [
       "'Followings are the general configuration of your experiment..'"
      ]
     },
     "metadata": {},
     "output_type": "display_data"
    },
    {
     "name": "stdout",
     "output_type": "stream",
     "text": [
      "{'DATA_FOLDER': 'data/refit/', 'DATA_TYPE': '.csv', 'README_FILE': 'data/refit/REFIT_Readme.txt', 'REFIT_HOUSES': [1, 2, 3, 4, 5, 6, 7, 8, 9, 10, 11, 12, 13, 15, 16, 17, 18, 19, 20, 21]}\n",
      "\n"
     ]
    },
    {
     "data": {
      "text/plain": [
       "'Loading specified buildings: [1, 2, 3, 4, 5, 6, 7, 8, 9, 10, 11, 12, 13, 15, 16, 17, 18, 19, 20, 21]'"
      ]
     },
     "metadata": {},
     "output_type": "display_data"
    },
    {
     "data": {
      "text/plain": [
       "'Parsing the readme file specified: data/refit/REFIT_Readme.txt'"
      ]
     },
     "metadata": {},
     "output_type": "display_data"
    }
   ],
   "source": [
    "refit = REFIT_Loader()"
   ]
  },
  {
   "cell_type": "code",
   "execution_count": null,
   "id": "14676015-31c3-48a5-891c-4fa4af9be7f8",
   "metadata": {},
   "outputs": [
    {
     "data": {
      "text/plain": [
       "'Fetching data for house = 15'"
      ]
     },
     "metadata": {},
     "output_type": "display_data"
    }
   ],
   "source": [
    "%%time\n",
    "# HOUSE2 = refit.get_house_data(2)\n",
    "# HOUSE3 = refit.get_house_data(3)\n",
    "HOUSE15 = refit.get_house_data(15)"
   ]
  },
  {
   "cell_type": "code",
   "execution_count": null,
   "id": "61c7cfdb-db72-47fb-b992-d4ad77af8a05",
   "metadata": {},
   "outputs": [],
   "source": [
    "%%time\n",
    "KETTLE = refit.get_appliance_data('Kettle', houses=[15])"
   ]
  },
  {
   "cell_type": "code",
   "execution_count": null,
   "id": "7099000b-2850-4e46-9077-cc12c9506099",
   "metadata": {},
   "outputs": [],
   "source": [
    "HOUSE15['kettle ']"
   ]
  },
  {
   "cell_type": "code",
   "execution_count": null,
   "id": "3409a1de-fb7e-42c1-bdbc-1da32fe501b9",
   "metadata": {},
   "outputs": [],
   "source": [
    "Dim = \"This is a Long String\"\n",
    "Dim splitted = input.Split(\" \"c)\n",
    "\n",
    "Dim result = New List(Of String)()\n",
    "For x As Integer = 0 To splitted.Length - 1 Step 2\n",
    "    result.Add(String.Join(\" \", splitted.Skip(x).Take(2)))\n",
    "Next"
   ]
  },
  {
   "cell_type": "code",
   "execution_count": null,
   "id": "d63f276f-9738-47d2-aebb-699dd4d2c507",
   "metadata": {},
   "outputs": [],
   "source": [
    "\n",
    "inputstr = \"This is a Long String\"\n",
    "words = inputstr.split()\n",
    "secondwords = iter(words)\n",
    "next(secondwords)\n",
    "\n",
    "output = [' '.join((first, second)) \n",
    "          for first, second in zip(words, secondwords)]"
   ]
  },
  {
   "cell_type": "code",
   "execution_count": null,
   "id": "aaefc21d-4b02-45cc-be9e-accef4c69fee",
   "metadata": {},
   "outputs": [],
   "source": [
    "output"
   ]
  },
  {
   "cell_type": "code",
   "execution_count": null,
   "id": "4a56f881-8732-4c0f-8c87-a3401b987b15",
   "metadata": {},
   "outputs": [],
   "source": []
  }
 ],
 "metadata": {
  "kernelspec": {
   "display_name": "Python 3",
   "language": "python",
   "name": "python3"
  },
  "language_info": {
   "codemirror_mode": {
    "name": "ipython",
    "version": 3
   },
   "file_extension": ".py",
   "mimetype": "text/x-python",
   "name": "python",
   "nbconvert_exporter": "python",
   "pygments_lexer": "ipython3",
   "version": "3.9.2"
  }
 },
 "nbformat": 4,
 "nbformat_minor": 5
}
