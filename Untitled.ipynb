{
 "cells": [
  {
   "cell_type": "code",
   "execution_count": 1,
   "id": "c81fe0b4-f5d7-4a9a-ab27-c2766cf3cfce",
   "metadata": {},
   "outputs": [],
   "source": [
    "# from load_csv import CSV_Loader\n",
    "from configs.configuration import dataset_config\n",
    "import pandas as pd\n",
    "import glob\n",
    "import dask.dataframe as dd"
   ]
  },
  {
   "cell_type": "code",
   "execution_count": 2,
   "id": "4ac5c19e-3806-44cd-8af5-85c40865b360",
   "metadata": {},
   "outputs": [
    {
     "data": {
      "text/plain": [
       "{'REFIT_DATA_FOLDER': '/data/external/refit/', 'REFIT_DATA_TYPE': '.csv'}"
      ]
     },
     "execution_count": 2,
     "metadata": {},
     "output_type": "execute_result"
    }
   ],
   "source": [
    "dataset_config"
   ]
  },
  {
   "cell_type": "code",
   "execution_count": 40,
   "id": "a30a34e2-f99d-42b7-a403-bae941e49493",
   "metadata": {},
   "outputs": [],
   "source": [
    "\n",
    "class _Loader:\n",
    "    \"\"\"\n",
    "    Interface that loads all the data into the memory\n",
    "    \"\"\"\n",
    "\n",
    "    def __init__(self):\n",
    "        try:\n",
    "            pass\n",
    "            \n",
    "        except Exception as e:\n",
    "            display(\"Error occured in initialization of _Loader interface due to \", e)\n",
    "                \n",
    "        finally:\n",
    "            display(\"Loader Interface initialized\")\n",
    "        \n",
    "    @staticmethod\n",
    "    def _load_file():\n",
    "        raise NotImplementedError    \n",
    "\n",
    "\n",
    "class CSV_Loader(_Loader):\n",
    "    \"\"\"\n",
    "    \n",
    "    \"\"\"\n",
    "    def __init__(self):\n",
    "        try:\n",
    "            super().__init__()\n",
    "        \n",
    "        except Exception as e:\n",
    "            display(\"Error occured in initialization of CSV_Loader class due to \", e)\n",
    "                \n",
    "        finally:\n",
    "            display(\"CSV_Loader initialized\")\n",
    "        \n",
    "    @staticmethod\n",
    "    def _load_file(csv_file_path,\n",
    "                   index_column_name=None,\n",
    "                   _nrows=None,\n",
    "                   _iterator=True,\n",
    "                   _chunksize=100000):\n",
    "        try:\n",
    "            tp = pd.read_csv(csv_file_path, nrows=_nrows, index_col=index_column_name, iterator=_iterator, chunksize=_chunksize) ## loading data in chunks reduces 90 percent execution time \n",
    "            df = pd.concat(tp, ignore_index=False)\n",
    "            df.info(verbose=False, memory_usage=\"deep\")\n",
    "            return df  \n",
    "        \n",
    "        except Exception as e:\n",
    "            display(\"Error occured in _load_file method of CSV_Loader class due to \", e)\n",
    "    \n",
    "    @staticmethod\n",
    "    def _load_file_via_dask(csv_file_path,\n",
    "                            specifications):\n",
    "        try:\n",
    "            display(f\"Loading specified houses: {data_dict['fetch_houses']}\")\n",
    "            files = [f'{csv_file_path}House_{i}.csv' for i in data_dict['fetch_houses']]\n",
    "            data = []\n",
    "            for file in files:\n",
    "                df = dd.read_csv(file)\n",
    "                df = df[['Aggregate']]\n",
    "                data.append(df)\n",
    "            return data\n",
    "        \n",
    "        except Exception as e:\n",
    "            display(\"Error occured in _load_file_via_dask method of CSV_Loader class due to \", e)\n",
    "            \n",
    "            \n",
    "    ###### appliance wise Dict Reader\n"
   ]
  },
  {
   "cell_type": "code",
   "execution_count": 41,
   "id": "fbf93e03-b3d5-466f-aed0-48827166d5da",
   "metadata": {},
   "outputs": [],
   "source": [
    "data_dict = {\n",
    "    'fetch_houses' : [1,3,4]\n",
    "#     'appliance': 'kettle'\n",
    "}"
   ]
  },
  {
   "cell_type": "code",
   "execution_count": 42,
   "id": "4629c85d-1fe0-48af-9c87-d5a727f5bd3c",
   "metadata": {},
   "outputs": [
    {
     "data": {
      "text/plain": [
       "'Loader Interface initialized'"
      ]
     },
     "metadata": {},
     "output_type": "display_data"
    },
    {
     "data": {
      "text/plain": [
       "'CSV_Loader initialized'"
      ]
     },
     "metadata": {},
     "output_type": "display_data"
    }
   ],
   "source": [
    "ob = CSV_Loader()"
   ]
  },
  {
   "cell_type": "code",
   "execution_count": 43,
   "id": "908cd34c-a862-4fcb-8335-1b7100fb8fef",
   "metadata": {},
   "outputs": [
    {
     "data": {
      "text/plain": [
       "'Loading specified houses: [1, 3, 4]'"
      ]
     },
     "metadata": {},
     "output_type": "display_data"
    },
    {
     "name": "stdout",
     "output_type": "stream",
     "text": [
      "Wall time: 52.9 ms\n"
     ]
    }
   ],
   "source": [
    "%%time\n",
    "f = ob._load_file_via_dask(csv_file_path=dataset_config['REFIT_DATA_FOLDER'], specifications=data_dict)"
   ]
  },
  {
   "cell_type": "code",
   "execution_count": 44,
   "id": "3d224a9d-b8a3-4fca-a74d-ef458f0e3c26",
   "metadata": {},
   "outputs": [
    {
     "ename": "AttributeError",
     "evalue": "'list' object has no attribute 'compute'",
     "output_type": "error",
     "traceback": [
      "\u001b[1;31m---------------------------------------------------------------------------\u001b[0m",
      "\u001b[1;31mAttributeError\u001b[0m                            Traceback (most recent call last)",
      "\u001b[1;32m<ipython-input-44-701543f22a68>\u001b[0m in \u001b[0;36m<module>\u001b[1;34m\u001b[0m\n\u001b[1;32m----> 1\u001b[1;33m \u001b[0mf\u001b[0m\u001b[1;33m.\u001b[0m\u001b[0mcompute\u001b[0m\u001b[1;33m(\u001b[0m\u001b[1;33m)\u001b[0m\u001b[1;33m\u001b[0m\u001b[1;33m\u001b[0m\u001b[0m\n\u001b[0m",
      "\u001b[1;31mAttributeError\u001b[0m: 'list' object has no attribute 'compute'"
     ]
    }
   ],
   "source": [
    "f.compute()"
   ]
  },
  {
   "cell_type": "code",
   "execution_count": null,
   "id": "df901e34-17c9-49b1-bd14-a36b45292ac7",
   "metadata": {},
   "outputs": [],
   "source": [
    "%%time\n",
    "ob._load_file(csv_file_path=dataset_config['REFIT_DATA_PATH'], index_column_name='Time')"
   ]
  },
  {
   "cell_type": "code",
   "execution_count": null,
   "id": "16cdc76d-095f-4eb1-b06e-ec392afef112",
   "metadata": {},
   "outputs": [],
   "source": [
    "\n",
    "\n",
    "files = glob.glob(dataset_config['REFIT_DATA_FOLDER'] + '*' + dataset_config['REFIT_DATA_TYPE'])\n",
    "print(files)\n",
    "# data = [pd.read_csv(file, index_col='Time') for file in files]\n",
    "# data\n",
    "files[0]"
   ]
  },
  {
   "cell_type": "code",
   "execution_count": null,
   "id": "9fa02d5c-b66c-4bff-8b71-8acd7c36a244",
   "metadata": {},
   "outputs": [],
   "source": [
    "%%time\n",
    "\n"
   ]
  },
  {
   "cell_type": "code",
   "execution_count": null,
   "id": "341a8202-f799-456d-947c-9d2448005b59",
   "metadata": {},
   "outputs": [],
   "source": [
    "data"
   ]
  },
  {
   "cell_type": "code",
   "execution_count": null,
   "id": "3c5c8de9-fc7a-4b10-a043-27d3a7b812be",
   "metadata": {},
   "outputs": [],
   "source": [
    "%%time\n",
    "data = pd.read_csv(files[0], index_col='Time')"
   ]
  },
  {
   "cell_type": "code",
   "execution_count": null,
   "id": "07795f84-1509-46ee-bd0f-a381495d5d37",
   "metadata": {},
   "outputs": [],
   "source": [
    "\n",
    "import csv\n"
   ]
  },
  {
   "cell_type": "code",
   "execution_count": null,
   "id": "4ba75943-883e-4ec8-af1d-2277dd65e00c",
   "metadata": {},
   "outputs": [],
   "source": [
    "files"
   ]
  },
  {
   "cell_type": "code",
   "execution_count": null,
   "id": "64eeb333-d5c6-415a-96e6-b42ed75890b3",
   "metadata": {},
   "outputs": [],
   "source": [
    "%%time\n",
    "data1 = dask.dataframe.read_csv(files[0])\n",
    "data2 = dask.dataframe.read_csv(files[1])\n",
    "data3 = dask.dataframe.read_csv(files[2])\n",
    "data4 = dask.dataframe.read_csv(files[3])\n",
    "\n",
    "df1=data1.compute()\n",
    "df2=data2.compute()\n",
    "df3=data3.compute()\n",
    "df4=data4.compute()"
   ]
  },
  {
   "cell_type": "code",
   "execution_count": null,
   "id": "b71c5869-0882-4f6a-b2ea-5ac2d3142e44",
   "metadata": {},
   "outputs": [],
   "source": [
    "df1"
   ]
  },
  {
   "cell_type": "code",
   "execution_count": null,
   "id": "ff02b5ea-8d12-4c7b-9fb8-191e3f806a9e",
   "metadata": {},
   "outputs": [],
   "source": [
    "df"
   ]
  },
  {
   "cell_type": "code",
   "execution_count": null,
   "id": "d75f1b65-7346-4d73-8fd6-4ca0cd690941",
   "metadata": {},
   "outputs": [],
   "source": [
    "import logging\n",
    "logging.basicConfig(level=logging.INFO, file='d://sample.log')\n",
    "\n",
    "def hypotenuse(a, b):\n",
    "    \"\"\"Compute the hypotenuse\"\"\"\n",
    "    return (a**2 + b**2)**0.5\n",
    "\n",
    "kwargs = {'a':3, 'b':4, 'c':hypotenuse(3, 4)}\n",
    "\n",
    "logging.debug(\"a = {a}, b = {b}\".format(**kwargs))\n",
    "logging.info(\"Hypotenuse of {a}, {b} is {c}\".format(**kwargs))\n",
    "logging.warning(\"a={a} and b={b} are equal\".format(**kwargs))\n",
    "logging.error(\"a={a} and b={b} cannot be negative\".format(**kwargs))\n",
    "logging.critical(\"Hypotenuse of {a}, {b} is {c}\".format(**kwargs))"
   ]
  },
  {
   "cell_type": "code",
   "execution_count": null,
   "id": "4c015f31-2fcc-49e1-bac4-5a8f4c6983f0",
   "metadata": {},
   "outputs": [],
   "source": [
    "import parser\n",
    "print(\"Program to demonstrate parser module in Python\")\n",
    "print(\"\\n\")\n",
    "exp = \"5 + 8\"\n",
    "print(\"The given expression for parsing is as follows:\")\n",
    "print(exp)\n",
    "print(\"\\n\")\n",
    "print(\"Parsing of given expression results as: \")\n",
    "st = parser.expr(exp)\n",
    "print(st)"
   ]
  },
  {
   "cell_type": "code",
   "execution_count": null,
   "id": "ec92a994-8e8d-4500-9f61-34c3ff1e2e1c",
   "metadata": {},
   "outputs": [],
   "source": []
  }
 ],
 "metadata": {
  "kernelspec": {
   "display_name": "Python 3",
   "language": "python",
   "name": "python3"
  },
  "language_info": {
   "codemirror_mode": {
    "name": "ipython",
    "version": 3
   },
   "file_extension": ".py",
   "mimetype": "text/x-python",
   "name": "python",
   "nbconvert_exporter": "python",
   "pygments_lexer": "ipython3",
   "version": "3.9.2"
  }
 },
 "nbformat": 4,
 "nbformat_minor": 5
}
