{
 "cells": [
  {
   "cell_type": "code",
   "execution_count": 2,
   "id": "c8dd7a2d-fcb8-4eee-97ea-e44573966422",
   "metadata": {},
   "outputs": [],
   "source": [
    "import pandas as pd"
   ]
  },
  {
   "cell_type": "code",
   "execution_count": 3,
   "id": "8e4ec136-b74c-4f90-849b-23e0a925f90e",
   "metadata": {},
   "outputs": [
    {
     "name": "stdout",
     "output_type": "stream",
     "text": [
      "240\n",
      "Wall time: 9.23 ms\n"
     ]
    }
   ],
   "source": [
    "%%time\n",
    "with open('REFIT_Readme.txt') as f:\n",
    "    content = f.readlines()\n",
    "print(len(content))"
   ]
  },
  {
   "cell_type": "code",
   "execution_count": 91,
   "id": "96e49673-f402-4fc9-8c14-b62d1a4e1f60",
   "metadata": {},
   "outputs": [
    {
     "name": "stdout",
     "output_type": "stream",
     "text": [
      "20\n"
     ]
    },
    {
     "ename": "KeyError",
     "evalue": "0",
     "output_type": "error",
     "traceback": [
      "\u001b[1;31m---------------------------------------------------------------------------\u001b[0m",
      "\u001b[1;31mKeyError\u001b[0m                                  Traceback (most recent call last)",
      "\u001b[1;32m<ipython-input-91-14ab7a741eb3>\u001b[0m in \u001b[0;36m<module>\u001b[1;34m\u001b[0m\n\u001b[0;32m     16\u001b[0m \u001b[1;33m\u001b[0m\u001b[0m\n\u001b[0;32m     17\u001b[0m \u001b[0mprint\u001b[0m\u001b[1;33m(\u001b[0m\u001b[0mlen\u001b[0m\u001b[1;33m(\u001b[0m\u001b[0mls\u001b[0m\u001b[1;33m)\u001b[0m\u001b[1;33m)\u001b[0m\u001b[1;33m\u001b[0m\u001b[1;33m\u001b[0m\u001b[0m\n\u001b[1;32m---> 18\u001b[1;33m \u001b[0mprint\u001b[0m\u001b[1;33m(\u001b[0m\u001b[0mls\u001b[0m\u001b[1;33m[\u001b[0m\u001b[1;36m0\u001b[0m\u001b[1;33m]\u001b[0m\u001b[1;33m)\u001b[0m\u001b[1;33m\u001b[0m\u001b[1;33m\u001b[0m\u001b[0m\n\u001b[0m\u001b[0;32m     19\u001b[0m \u001b[1;31m#         house.append(s.strip('\\n'))\u001b[0m\u001b[1;33m\u001b[0m\u001b[1;33m\u001b[0m\u001b[1;33m\u001b[0m\u001b[0m\n\u001b[0;32m     20\u001b[0m \u001b[1;31m#             print(target)\u001b[0m\u001b[1;33m\u001b[0m\u001b[1;33m\u001b[0m\u001b[1;33m\u001b[0m\u001b[0m\n",
      "\u001b[1;31mKeyError\u001b[0m: 0"
     ]
    }
   ],
   "source": [
    "ls, keys, appliances = {} , [], []\n",
    "for i, s in enumerate(content):\n",
    "    if 'House' in s.capitalize():\n",
    "        house = s.split()[1]\n",
    "        for indx in range(1, 6):\n",
    "            if content[i+indx] == '\\t!NOTES\\n':\n",
    "                break\n",
    "            else:\n",
    "                target = [value.split('.') for value in [value for value in content[i+indx].split(',') if value != '\\n']]\n",
    "                indx = [target_value[0] for target_value in target]\n",
    "                values = [target_value[1] for target_value in target]\n",
    "                keys.append([target_value[0] for target_value in target])\n",
    "                appliances.append([target_value[1] for target_value in target])\n",
    "\n",
    "        ls.update({house: {'appliances':  [item.split('\\n')[0] for sublist in appliances for item in sublist], 'keys': [item for sublist in keys for item in sublist]}})\n",
    "\n",
    "print(len(ls))\n",
    "print(ls)\n",
    "#         house.append(s.strip('\\n'))\n",
    "#             print(target)\n",
    "#         print(target2)\n",
    "#         print(target3)\n",
    "#         print(target4)\n",
    "        \n",
    "        \n",
    "#         house.append(s)\n",
    "# #         print(house)\n",
    "#         for value in target:\n",
    "#             indx.append(value[0])\n",
    "#             appliance.append(value[1])\n",
    "# #         print(indx)\n",
    "#         zipped = indx, appliance)\n",
    "#         print(list(zipped))\n",
    "            \n",
    "            \n",
    "    \n",
    "#         target = target.split(',')\n",
    "#         print(target)\n",
    "#         print([i.split('.') for i in target])\n",
    "        \n",
    "#         a = [i.split('.') for i in target]\n",
    "        \n",
    "#         for item in a:\n",
    "#             if item[0] != '\\n':\n",
    "#                 print(item)\n",
    "#                 print(item[0])\n",
    "#                 print(item[1])\n",
    "        \n",
    "#         indx = [t[0] for t in [i.split('.') for i in target]]\n",
    "#         values = [t[1] for t in [i.split('.') for i in target]]\n",
    "#         print(values)\n",
    "#         zipped = zip(indx, house)\n",
    "#         zipped = list(zipped)\n",
    "        "
   ]
  },
  {
   "cell_type": "code",
   "execution_count": 52,
   "id": "3b504aba-aac3-4ead-9948-8859c37b994b",
   "metadata": {},
   "outputs": [
    {
     "ename": "SyntaxError",
     "evalue": "invalid syntax (<ipython-input-52-44c19c54d254>, line 1)",
     "output_type": "error",
     "traceback": [
      "\u001b[1;36m  File \u001b[1;32m\"<ipython-input-52-44c19c54d254>\"\u001b[1;36m, line \u001b[1;32m1\u001b[0m\n\u001b[1;33m    dataframe = pd.DataFrame('House': house, )\u001b[0m\n\u001b[1;37m                                    ^\u001b[0m\n\u001b[1;31mSyntaxError\u001b[0m\u001b[1;31m:\u001b[0m invalid syntax\n"
     ]
    }
   ],
   "source": [
    "dataframe = pd.DataFrame('House': house, )"
   ]
  },
  {
   "cell_type": "code",
   "execution_count": 23,
   "id": "19a2ceca-f4cb-45d6-b0fb-11025075a77f",
   "metadata": {},
   "outputs": [
    {
     "name": "stdout",
     "output_type": "stream",
     "text": [
      "House 1\n",
      "0.Aggregate, 1.Fridge, 2.Chest Freezer, 3.Upright Freezer, 4.Tumble Dryer,\n",
      "\n",
      "House 2\n",
      "0.Aggregate, 1.Fridge-Freezer, 2.Washing Machine, 3.Dishwasher, 4.Television,\n",
      "\n",
      "House 3\n",
      "0.Aggregate, 1.Toaster, 2.Fridge-Freezer, 3.Freezer, 4.Tumble Dryer,\n",
      "\n",
      "House 4\n",
      "0.Aggregate, 1.Fridge, 2.Freezer, 3.Fridge-Freezer, 4.Washing Machine (1),\n",
      "\n",
      "House 5\n",
      "0.Aggregate, 1.Fridge-Freezer, 2.Tumble Dryer 3.Washing Machine, 4.Dishwasher,\n",
      "\n",
      "House 6\n",
      "0.Aggregate, 1.Freezer (Utility Room), 2.Washing Machine, 3.Dishwasher, 4.MJY Computer,\n",
      "\n",
      "House 7\n",
      "0.Aggregate, 1.Fridge, 2.Freezer (Garage), 3.Freezer, 4.Tumble Dryer,\n",
      "\n",
      "House 8\n",
      "0.Aggregate, 1.Fridge, 2.Freezer, 3.Dryer, 4.Washing Machine,\n",
      "\n",
      "House 9\n",
      "0.Aggregate, 1.Fridge-Freezer, 2.Washer Dryer, 3.Washing Machine, 4.Dishwasher,\n",
      "\n",
      "House 10\n",
      "0.Aggregate, 1.Magimix (Blender), 2.Freezer, 3.Chest Freezer (In Garage), 4.Fridge-Freezer,\n",
      "\n",
      "House 11\n",
      "0.Aggregate, 1.Fridge, 2.Fridge-Freezer, 3.Washing Machine, 4.Dishwasher,\n",
      "\n",
      "House 12\n",
      "0.Aggregate, 1.Fridge-Freezer, 2.Television Site(Lounge), 3.Microwave, 4.Kettle,\n",
      "\n",
      "House 13\n",
      "0.Aggregate, 1.Television Site, 2.Unknown, 3.Washing Machine, 4.Dishwasher,\n",
      "\n",
      "House 15\n",
      "0.Aggregate, 1.Fridge-Freezer, 2.Tumble Dryer, 3.Washing Machine, 4.Dishwasher,\n",
      "\n",
      "House 16\n",
      "0.Aggregate, 1.Fridge-Freezer (1), 2.Fridge-Freezer (2), 3.Electric Heater (1)?,\n",
      "\n",
      "House 17\n",
      "0.Aggregate, 1.Freezer (Garage), 2.Fridge-Freezer, 3.Tumble Dryer (Garage), 4.Washing Machine,\n",
      "\n",
      "House 18\n",
      "0.Aggregate, 1.Fridge(garage), 2.Freezer(garage), 3.Fridge-Freezer,\n",
      "\n",
      "House 19\n",
      "0.Aggregate, 1.Fridge & Freezer, 2.Washing Machine, 3.Television Site, 4.Microwave,\n",
      "\n",
      "House 20\n",
      "0.Aggregate, 1.Fridge, 2.Freezer, 3.Tumble Dryer, 4.Washing Machine, 5.Dishwasher,\n",
      "\n",
      "House 21\n",
      "0.Aggregate, 1.Fridge-Freezer, 2.Tumble Dryer, 3.Washing Machine,\n",
      "\n"
     ]
    }
   ],
   "source": [
    "for a in zipped:\n",
    "    target = content[a[0]+1]\n",
    "    print(a[1])\n",
    "    print(target)"
   ]
  },
  {
   "cell_type": "code",
   "execution_count": 10,
   "id": "bc0ddc34-896c-414a-9ca3-d4a81f64c0a4",
   "metadata": {},
   "outputs": [],
   "source": [
    "a = []\n",
    "for each_line in content:\n",
    "    # split the string at ':'\n",
    "    step_0 = each_line.split('House')\n",
    "    if step_0 == 'House':\n",
    "        a.append(step_0)\n",
    "    "
   ]
  },
  {
   "cell_type": "code",
   "execution_count": 11,
   "id": "a20744f5-4f7d-4946-b610-02cabc274dee",
   "metadata": {},
   "outputs": [
    {
     "data": {
      "text/plain": [
       "[]"
      ]
     },
     "execution_count": 11,
     "metadata": {},
     "output_type": "execute_result"
    }
   ],
   "source": [
    "a"
   ]
  },
  {
   "cell_type": "code",
   "execution_count": 10,
   "id": "5a3cf27a-ff36-4720-a6f6-3f75ff96d356",
   "metadata": {},
   "outputs": [
    {
     "data": {
      "text/plain": [
       "239"
      ]
     },
     "execution_count": 10,
     "metadata": {},
     "output_type": "execute_result"
    }
   ],
   "source": [
    "i"
   ]
  },
  {
   "cell_type": "code",
   "execution_count": null,
   "id": "31df8bfd-4915-45d7-b59c-12ab94d54f2a",
   "metadata": {},
   "outputs": [],
   "source": []
  }
 ],
 "metadata": {
  "kernelspec": {
   "display_name": "Python 3",
   "language": "python",
   "name": "python3"
  },
  "language_info": {
   "codemirror_mode": {
    "name": "ipython",
    "version": 3
   },
   "file_extension": ".py",
   "mimetype": "text/x-python",
   "name": "python",
   "nbconvert_exporter": "python",
   "pygments_lexer": "ipython3",
   "version": "3.9.2"
  }
 },
 "nbformat": 4,
 "nbformat_minor": 5
}
