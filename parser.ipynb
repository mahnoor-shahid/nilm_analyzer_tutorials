{
 "cells": [
  {
   "cell_type": "code",
   "execution_count": 2,
   "id": "c8dd7a2d-fcb8-4eee-97ea-e44573966422",
   "metadata": {},
   "outputs": [],
   "source": [
    "import pandas as pd"
   ]
  },
  {
   "cell_type": "code",
   "execution_count": 3,
   "id": "8e4ec136-b74c-4f90-849b-23e0a925f90e",
   "metadata": {},
   "outputs": [
    {
     "name": "stdout",
     "output_type": "stream",
     "text": [
      "240\n",
      "Wall time: 9.23 ms\n"
     ]
    }
   ],
   "source": [
    "%%time\n",
    "with open('REFIT_Readme.txt') as f:\n",
    "    content = f.readlines()\n",
    "print(len(content))"
   ]
  },
  {
   "cell_type": "code",
   "execution_count": 107,
   "id": "96e49673-f402-4fc9-8c14-b62d1a4e1f60",
   "metadata": {},
   "outputs": [
    {
     "name": "stdout",
     "output_type": "stream",
     "text": [
      "20\n",
      "{'1': {'appliances': ['Aggregate', 'Fridge', 'Chest Freezer', 'Upright Freezer', 'Tumble Dryer', 'Washing Machine', 'Dishwasher', 'Computer Site', 'Television Site', 'Electric Heater'], 'keys': ['0', ' 1', ' 2', ' 3', ' 4', '5', ' 6', ' 7', ' 8', ' 9']}, '2': {'appliances': ['Aggregate', 'Fridge', 'Chest Freezer', 'Upright Freezer', 'Tumble Dryer', 'Washing Machine', 'Dishwasher', 'Computer Site', 'Television Site', 'Electric Heater', 'Aggregate', 'Fridge-Freezer', 'Washing Machine', 'Dishwasher', 'Television', 'Microwave', 'Toaster', 'Hi-Fi', 'Kettle', 'Oven Extractor Fan'], 'keys': ['0', ' 1', ' 2', ' 3', ' 4', '5', ' 6', ' 7', ' 8', ' 9', '0', ' 1', ' 2', ' 3', ' 4', '5', ' 6', ' 7', ' 8', ' 9']}, '3': {'appliances': ['Aggregate', 'Fridge', 'Chest Freezer', 'Upright Freezer', 'Tumble Dryer', 'Washing Machine', 'Dishwasher', 'Computer Site', 'Television Site', 'Electric Heater', 'Aggregate', 'Fridge-Freezer', 'Washing Machine', 'Dishwasher', 'Television', 'Microwave', 'Toaster', 'Hi-Fi', 'Kettle', 'Oven Extractor Fan', 'Aggregate', 'Toaster', 'Fridge-Freezer', 'Freezer', 'Tumble Dryer', 'Dishwasher', 'Washing Machine', 'Television', 'Microwave', 'Kettle'], 'keys': ['0', ' 1', ' 2', ' 3', ' 4', '5', ' 6', ' 7', ' 8', ' 9', '0', ' 1', ' 2', ' 3', ' 4', '5', ' 6', ' 7', ' 8', ' 9', '0', ' 1', ' 2', ' 3', ' 4', '5', ' 6', ' 7', ' 8', ' 9']}, '4': {'appliances': ['Aggregate', 'Fridge', 'Chest Freezer', 'Upright Freezer', 'Tumble Dryer', 'Washing Machine', 'Dishwasher', 'Computer Site', 'Television Site', 'Electric Heater', 'Aggregate', 'Fridge-Freezer', 'Washing Machine', 'Dishwasher', 'Television', 'Microwave', 'Toaster', 'Hi-Fi', 'Kettle', 'Oven Extractor Fan', 'Aggregate', 'Toaster', 'Fridge-Freezer', 'Freezer', 'Tumble Dryer', 'Dishwasher', 'Washing Machine', 'Television', 'Microwave', 'Kettle', 'Aggregate', 'Fridge', 'Freezer', 'Fridge-Freezer', 'Washing Machine (1)', 'Washing Machine (2)', 'Computer Site', 'Television Site', 'Microwave', 'Kettle'], 'keys': ['0', ' 1', ' 2', ' 3', ' 4', '5', ' 6', ' 7', ' 8', ' 9', '0', ' 1', ' 2', ' 3', ' 4', '5', ' 6', ' 7', ' 8', ' 9', '0', ' 1', ' 2', ' 3', ' 4', '5', ' 6', ' 7', ' 8', ' 9', '0', ' 1', ' 2', ' 3', ' 4', '5', ' 6', ' 7', ' 8', ' 9']}, '5': {'appliances': ['Aggregate', 'Fridge', 'Chest Freezer', 'Upright Freezer', 'Tumble Dryer', 'Washing Machine', 'Dishwasher', 'Computer Site', 'Television Site', 'Electric Heater', 'Aggregate', 'Fridge-Freezer', 'Washing Machine', 'Dishwasher', 'Television', 'Microwave', 'Toaster', 'Hi-Fi', 'Kettle', 'Oven Extractor Fan', 'Aggregate', 'Toaster', 'Fridge-Freezer', 'Freezer', 'Tumble Dryer', 'Dishwasher', 'Washing Machine', 'Television', 'Microwave', 'Kettle', 'Aggregate', 'Fridge', 'Freezer', 'Fridge-Freezer', 'Washing Machine (1)', 'Washing Machine (2)', 'Computer Site', 'Television Site', 'Microwave', 'Kettle', 'Aggregate', 'Fridge-Freezer', 'Tumble Dryer 3', 'Dishwasher', 'Computer Site', 'Television Site', 'Combination Microwave', 'Kettle', 'Toaster'], 'keys': ['0', ' 1', ' 2', ' 3', ' 4', '5', ' 6', ' 7', ' 8', ' 9', '0', ' 1', ' 2', ' 3', ' 4', '5', ' 6', ' 7', ' 8', ' 9', '0', ' 1', ' 2', ' 3', ' 4', '5', ' 6', ' 7', ' 8', ' 9', '0', ' 1', ' 2', ' 3', ' 4', '5', ' 6', ' 7', ' 8', ' 9', '0', ' 1', ' 2', ' 4', '5', ' 6', ' 7', ' 8', ' 9']}, '6': {'appliances': ['Aggregate', 'Fridge', 'Chest Freezer', 'Upright Freezer', 'Tumble Dryer', 'Washing Machine', 'Dishwasher', 'Computer Site', 'Television Site', 'Electric Heater', 'Aggregate', 'Fridge-Freezer', 'Washing Machine', 'Dishwasher', 'Television', 'Microwave', 'Toaster', 'Hi-Fi', 'Kettle', 'Oven Extractor Fan', 'Aggregate', 'Toaster', 'Fridge-Freezer', 'Freezer', 'Tumble Dryer', 'Dishwasher', 'Washing Machine', 'Television', 'Microwave', 'Kettle', 'Aggregate', 'Fridge', 'Freezer', 'Fridge-Freezer', 'Washing Machine (1)', 'Washing Machine (2)', 'Computer Site', 'Television Site', 'Microwave', 'Kettle', 'Aggregate', 'Fridge-Freezer', 'Tumble Dryer 3', 'Dishwasher', 'Computer Site', 'Television Site', 'Combination Microwave', 'Kettle', 'Toaster', 'Aggregate', 'Freezer (Utility Room)', 'Washing Machine', 'Dishwasher', 'MJY Computer', 'Television Site', 'Microwave', 'Kettle', 'Toaster', 'PGM Computer'], 'keys': ['0', ' 1', ' 2', ' 3', ' 4', '5', ' 6', ' 7', ' 8', ' 9', '0', ' 1', ' 2', ' 3', ' 4', '5', ' 6', ' 7', ' 8', ' 9', '0', ' 1', ' 2', ' 3', ' 4', '5', ' 6', ' 7', ' 8', ' 9', '0', ' 1', ' 2', ' 3', ' 4', '5', ' 6', ' 7', ' 8', ' 9', '0', ' 1', ' 2', ' 4', '5', ' 6', ' 7', ' 8', ' 9', '0', ' 1', ' 2', ' 3', ' 4', '5', ' 6', ' 7', ' 8', ' 9']}, '7': {'appliances': ['Aggregate', 'Fridge', 'Chest Freezer', 'Upright Freezer', 'Tumble Dryer', 'Washing Machine', 'Dishwasher', 'Computer Site', 'Television Site', 'Electric Heater', 'Aggregate', 'Fridge-Freezer', 'Washing Machine', 'Dishwasher', 'Television', 'Microwave', 'Toaster', 'Hi-Fi', 'Kettle', 'Oven Extractor Fan', 'Aggregate', 'Toaster', 'Fridge-Freezer', 'Freezer', 'Tumble Dryer', 'Dishwasher', 'Washing Machine', 'Television', 'Microwave', 'Kettle', 'Aggregate', 'Fridge', 'Freezer', 'Fridge-Freezer', 'Washing Machine (1)', 'Washing Machine (2)', 'Computer Site', 'Television Site', 'Microwave', 'Kettle', 'Aggregate', 'Fridge-Freezer', 'Tumble Dryer 3', 'Dishwasher', 'Computer Site', 'Television Site', 'Combination Microwave', 'Kettle', 'Toaster', 'Aggregate', 'Freezer (Utility Room)', 'Washing Machine', 'Dishwasher', 'MJY Computer', 'Television Site', 'Microwave', 'Kettle', 'Toaster', 'PGM Computer', 'Aggregate', 'Fridge', 'Freezer (Garage)', 'Freezer', 'Tumble Dryer', 'Washing Machine', 'Dishwasher', 'Television Site', 'Toaster', 'Kettle'], 'keys': ['0', ' 1', ' 2', ' 3', ' 4', '5', ' 6', ' 7', ' 8', ' 9', '0', ' 1', ' 2', ' 3', ' 4', '5', ' 6', ' 7', ' 8', ' 9', '0', ' 1', ' 2', ' 3', ' 4', '5', ' 6', ' 7', ' 8', ' 9', '0', ' 1', ' 2', ' 3', ' 4', '5', ' 6', ' 7', ' 8', ' 9', '0', ' 1', ' 2', ' 4', '5', ' 6', ' 7', ' 8', ' 9', '0', ' 1', ' 2', ' 3', ' 4', '5', ' 6', ' 7', ' 8', ' 9', '0', ' 1', ' 2', ' 3', ' 4', '5', ' 6', ' 7', ' 8', ' 9']}, '8': {'appliances': ['Aggregate', 'Fridge', 'Chest Freezer', 'Upright Freezer', 'Tumble Dryer', 'Washing Machine', 'Dishwasher', 'Computer Site', 'Television Site', 'Electric Heater', 'Aggregate', 'Fridge-Freezer', 'Washing Machine', 'Dishwasher', 'Television', 'Microwave', 'Toaster', 'Hi-Fi', 'Kettle', 'Oven Extractor Fan', 'Aggregate', 'Toaster', 'Fridge-Freezer', 'Freezer', 'Tumble Dryer', 'Dishwasher', 'Washing Machine', 'Television', 'Microwave', 'Kettle', 'Aggregate', 'Fridge', 'Freezer', 'Fridge-Freezer', 'Washing Machine (1)', 'Washing Machine (2)', 'Computer Site', 'Television Site', 'Microwave', 'Kettle', 'Aggregate', 'Fridge-Freezer', 'Tumble Dryer 3', 'Dishwasher', 'Computer Site', 'Television Site', 'Combination Microwave', 'Kettle', 'Toaster', 'Aggregate', 'Freezer (Utility Room)', 'Washing Machine', 'Dishwasher', 'MJY Computer', 'Television Site', 'Microwave', 'Kettle', 'Toaster', 'PGM Computer', 'Aggregate', 'Fridge', 'Freezer (Garage)', 'Freezer', 'Tumble Dryer', 'Washing Machine', 'Dishwasher', 'Television Site', 'Toaster', 'Kettle', 'Aggregate', 'Fridge', 'Freezer', 'Dryer', 'Washing Machine', 'Toaster', 'Computer', 'Television Site', 'Microwave', 'Kettle'], 'keys': ['0', ' 1', ' 2', ' 3', ' 4', '5', ' 6', ' 7', ' 8', ' 9', '0', ' 1', ' 2', ' 3', ' 4', '5', ' 6', ' 7', ' 8', ' 9', '0', ' 1', ' 2', ' 3', ' 4', '5', ' 6', ' 7', ' 8', ' 9', '0', ' 1', ' 2', ' 3', ' 4', '5', ' 6', ' 7', ' 8', ' 9', '0', ' 1', ' 2', ' 4', '5', ' 6', ' 7', ' 8', ' 9', '0', ' 1', ' 2', ' 3', ' 4', '5', ' 6', ' 7', ' 8', ' 9', '0', ' 1', ' 2', ' 3', ' 4', '5', ' 6', ' 7', ' 8', ' 9', '0', ' 1', ' 2', ' 3', ' 4', '5', ' 6', ' 7', ' 8', ' 9']}, '9': {'appliances': ['Aggregate', 'Fridge', 'Chest Freezer', 'Upright Freezer', 'Tumble Dryer', 'Washing Machine', 'Dishwasher', 'Computer Site', 'Television Site', 'Electric Heater', 'Aggregate', 'Fridge-Freezer', 'Washing Machine', 'Dishwasher', 'Television', 'Microwave', 'Toaster', 'Hi-Fi', 'Kettle', 'Oven Extractor Fan', 'Aggregate', 'Toaster', 'Fridge-Freezer', 'Freezer', 'Tumble Dryer', 'Dishwasher', 'Washing Machine', 'Television', 'Microwave', 'Kettle', 'Aggregate', 'Fridge', 'Freezer', 'Fridge-Freezer', 'Washing Machine (1)', 'Washing Machine (2)', 'Computer Site', 'Television Site', 'Microwave', 'Kettle', 'Aggregate', 'Fridge-Freezer', 'Tumble Dryer 3', 'Dishwasher', 'Computer Site', 'Television Site', 'Combination Microwave', 'Kettle', 'Toaster', 'Aggregate', 'Freezer (Utility Room)', 'Washing Machine', 'Dishwasher', 'MJY Computer', 'Television Site', 'Microwave', 'Kettle', 'Toaster', 'PGM Computer', 'Aggregate', 'Fridge', 'Freezer (Garage)', 'Freezer', 'Tumble Dryer', 'Washing Machine', 'Dishwasher', 'Television Site', 'Toaster', 'Kettle', 'Aggregate', 'Fridge', 'Freezer', 'Dryer', 'Washing Machine', 'Toaster', 'Computer', 'Television Site', 'Microwave', 'Kettle', 'Aggregate', 'Fridge-Freezer', 'Washer Dryer', 'Washing Machine', 'Dishwasher', 'Television Site', 'Microwave', 'Kettle', 'Hi-Fi', 'Electric Heater'], 'keys': ['0', ' 1', ' 2', ' 3', ' 4', '5', ' 6', ' 7', ' 8', ' 9', '0', ' 1', ' 2', ' 3', ' 4', '5', ' 6', ' 7', ' 8', ' 9', '0', ' 1', ' 2', ' 3', ' 4', '5', ' 6', ' 7', ' 8', ' 9', '0', ' 1', ' 2', ' 3', ' 4', '5', ' 6', ' 7', ' 8', ' 9', '0', ' 1', ' 2', ' 4', '5', ' 6', ' 7', ' 8', ' 9', '0', ' 1', ' 2', ' 3', ' 4', '5', ' 6', ' 7', ' 8', ' 9', '0', ' 1', ' 2', ' 3', ' 4', '5', ' 6', ' 7', ' 8', ' 9', '0', ' 1', ' 2', ' 3', ' 4', '5', ' 6', ' 7', ' 8', ' 9', '0', ' 1', ' 2', ' 3', ' 4', '5', ' 6', ' 7', ' 8', ' 9']}, '10': {'appliances': ['Aggregate', 'Fridge', 'Chest Freezer', 'Upright Freezer', 'Tumble Dryer', 'Washing Machine', 'Dishwasher', 'Computer Site', 'Television Site', 'Electric Heater', 'Aggregate', 'Fridge-Freezer', 'Washing Machine', 'Dishwasher', 'Television', 'Microwave', 'Toaster', 'Hi-Fi', 'Kettle', 'Oven Extractor Fan', 'Aggregate', 'Toaster', 'Fridge-Freezer', 'Freezer', 'Tumble Dryer', 'Dishwasher', 'Washing Machine', 'Television', 'Microwave', 'Kettle', 'Aggregate', 'Fridge', 'Freezer', 'Fridge-Freezer', 'Washing Machine (1)', 'Washing Machine (2)', 'Computer Site', 'Television Site', 'Microwave', 'Kettle', 'Aggregate', 'Fridge-Freezer', 'Tumble Dryer 3', 'Dishwasher', 'Computer Site', 'Television Site', 'Combination Microwave', 'Kettle', 'Toaster', 'Aggregate', 'Freezer (Utility Room)', 'Washing Machine', 'Dishwasher', 'MJY Computer', 'Television Site', 'Microwave', 'Kettle', 'Toaster', 'PGM Computer', 'Aggregate', 'Fridge', 'Freezer (Garage)', 'Freezer', 'Tumble Dryer', 'Washing Machine', 'Dishwasher', 'Television Site', 'Toaster', 'Kettle', 'Aggregate', 'Fridge', 'Freezer', 'Dryer', 'Washing Machine', 'Toaster', 'Computer', 'Television Site', 'Microwave', 'Kettle', 'Aggregate', 'Fridge-Freezer', 'Washer Dryer', 'Washing Machine', 'Dishwasher', 'Television Site', 'Microwave', 'Kettle', 'Hi-Fi', 'Electric Heater', 'Aggregate', 'Magimix (Blender)', 'Freezer', 'Chest Freezer (In Garage)', 'Fridge-Freezer', 'Washing Machine', 'Dishwasher', 'Television Site', 'Microwave', ' Kenwood KMix'], 'keys': ['0', ' 1', ' 2', ' 3', ' 4', '5', ' 6', ' 7', ' 8', ' 9', '0', ' 1', ' 2', ' 3', ' 4', '5', ' 6', ' 7', ' 8', ' 9', '0', ' 1', ' 2', ' 3', ' 4', '5', ' 6', ' 7', ' 8', ' 9', '0', ' 1', ' 2', ' 3', ' 4', '5', ' 6', ' 7', ' 8', ' 9', '0', ' 1', ' 2', ' 4', '5', ' 6', ' 7', ' 8', ' 9', '0', ' 1', ' 2', ' 3', ' 4', '5', ' 6', ' 7', ' 8', ' 9', '0', ' 1', ' 2', ' 3', ' 4', '5', ' 6', ' 7', ' 8', ' 9', '0', ' 1', ' 2', ' 3', ' 4', '5', ' 6', ' 7', ' 8', ' 9', '0', ' 1', ' 2', ' 3', ' 4', '5', ' 6', ' 7', ' 8', ' 9', '0', ' 1', ' 2', ' 3', ' 4', '5', ' 6', ' 7', ' 8', ' 9']}, '11': {'appliances': ['Aggregate', 'Fridge', 'Chest Freezer', 'Upright Freezer', 'Tumble Dryer', 'Washing Machine', 'Dishwasher', 'Computer Site', 'Television Site', 'Electric Heater', 'Aggregate', 'Fridge-Freezer', 'Washing Machine', 'Dishwasher', 'Television', 'Microwave', 'Toaster', 'Hi-Fi', 'Kettle', 'Oven Extractor Fan', 'Aggregate', 'Toaster', 'Fridge-Freezer', 'Freezer', 'Tumble Dryer', 'Dishwasher', 'Washing Machine', 'Television', 'Microwave', 'Kettle', 'Aggregate', 'Fridge', 'Freezer', 'Fridge-Freezer', 'Washing Machine (1)', 'Washing Machine (2)', 'Computer Site', 'Television Site', 'Microwave', 'Kettle', 'Aggregate', 'Fridge-Freezer', 'Tumble Dryer 3', 'Dishwasher', 'Computer Site', 'Television Site', 'Combination Microwave', 'Kettle', 'Toaster', 'Aggregate', 'Freezer (Utility Room)', 'Washing Machine', 'Dishwasher', 'MJY Computer', 'Television Site', 'Microwave', 'Kettle', 'Toaster', 'PGM Computer', 'Aggregate', 'Fridge', 'Freezer (Garage)', 'Freezer', 'Tumble Dryer', 'Washing Machine', 'Dishwasher', 'Television Site', 'Toaster', 'Kettle', 'Aggregate', 'Fridge', 'Freezer', 'Dryer', 'Washing Machine', 'Toaster', 'Computer', 'Television Site', 'Microwave', 'Kettle', 'Aggregate', 'Fridge-Freezer', 'Washer Dryer', 'Washing Machine', 'Dishwasher', 'Television Site', 'Microwave', 'Kettle', 'Hi-Fi', 'Electric Heater', 'Aggregate', 'Magimix (Blender)', 'Freezer', 'Chest Freezer (In Garage)', 'Fridge-Freezer', 'Washing Machine', 'Dishwasher', 'Television Site', 'Microwave', ' Kenwood KMix', 'Aggregate', 'Fridge', 'Fridge-Freezer', 'Washing Machine', 'Dishwasher', 'Computer Site', 'Microwave', 'Kettle', 'Router', 'Hi-Fi'], 'keys': ['0', ' 1', ' 2', ' 3', ' 4', '5', ' 6', ' 7', ' 8', ' 9', '0', ' 1', ' 2', ' 3', ' 4', '5', ' 6', ' 7', ' 8', ' 9', '0', ' 1', ' 2', ' 3', ' 4', '5', ' 6', ' 7', ' 8', ' 9', '0', ' 1', ' 2', ' 3', ' 4', '5', ' 6', ' 7', ' 8', ' 9', '0', ' 1', ' 2', ' 4', '5', ' 6', ' 7', ' 8', ' 9', '0', ' 1', ' 2', ' 3', ' 4', '5', ' 6', ' 7', ' 8', ' 9', '0', ' 1', ' 2', ' 3', ' 4', '5', ' 6', ' 7', ' 8', ' 9', '0', ' 1', ' 2', ' 3', ' 4', '5', ' 6', ' 7', ' 8', ' 9', '0', ' 1', ' 2', ' 3', ' 4', '5', ' 6', ' 7', ' 8', ' 9', '0', ' 1', ' 2', ' 3', ' 4', '5', ' 6', ' 7', ' 8', ' 9', '0', ' 1', ' 2', ' 3', ' 4', '5', ' 6', ' 7', ' 8', ' 9']}, '12': {'appliances': ['Aggregate', 'Fridge', 'Chest Freezer', 'Upright Freezer', 'Tumble Dryer', 'Washing Machine', 'Dishwasher', 'Computer Site', 'Television Site', 'Electric Heater', 'Aggregate', 'Fridge-Freezer', 'Washing Machine', 'Dishwasher', 'Television', 'Microwave', 'Toaster', 'Hi-Fi', 'Kettle', 'Oven Extractor Fan', 'Aggregate', 'Toaster', 'Fridge-Freezer', 'Freezer', 'Tumble Dryer', 'Dishwasher', 'Washing Machine', 'Television', 'Microwave', 'Kettle', 'Aggregate', 'Fridge', 'Freezer', 'Fridge-Freezer', 'Washing Machine (1)', 'Washing Machine (2)', 'Computer Site', 'Television Site', 'Microwave', 'Kettle', 'Aggregate', 'Fridge-Freezer', 'Tumble Dryer 3', 'Dishwasher', 'Computer Site', 'Television Site', 'Combination Microwave', 'Kettle', 'Toaster', 'Aggregate', 'Freezer (Utility Room)', 'Washing Machine', 'Dishwasher', 'MJY Computer', 'Television Site', 'Microwave', 'Kettle', 'Toaster', 'PGM Computer', 'Aggregate', 'Fridge', 'Freezer (Garage)', 'Freezer', 'Tumble Dryer', 'Washing Machine', 'Dishwasher', 'Television Site', 'Toaster', 'Kettle', 'Aggregate', 'Fridge', 'Freezer', 'Dryer', 'Washing Machine', 'Toaster', 'Computer', 'Television Site', 'Microwave', 'Kettle', 'Aggregate', 'Fridge-Freezer', 'Washer Dryer', 'Washing Machine', 'Dishwasher', 'Television Site', 'Microwave', 'Kettle', 'Hi-Fi', 'Electric Heater', 'Aggregate', 'Magimix (Blender)', 'Freezer', 'Chest Freezer (In Garage)', 'Fridge-Freezer', 'Washing Machine', 'Dishwasher', 'Television Site', 'Microwave', ' Kenwood KMix', 'Aggregate', 'Fridge', 'Fridge-Freezer', 'Washing Machine', 'Dishwasher', 'Computer Site', 'Microwave', 'Kettle', 'Router', 'Hi-Fi', 'Aggregate', 'Fridge-Freezer', 'Television Site(Lounge)', 'Microwave', 'Kettle', 'Toaster', 'Television Site(Bedroom)', 'Not Used', 'Not Used', 'Not Used'], 'keys': ['0', ' 1', ' 2', ' 3', ' 4', '5', ' 6', ' 7', ' 8', ' 9', '0', ' 1', ' 2', ' 3', ' 4', '5', ' 6', ' 7', ' 8', ' 9', '0', ' 1', ' 2', ' 3', ' 4', '5', ' 6', ' 7', ' 8', ' 9', '0', ' 1', ' 2', ' 3', ' 4', '5', ' 6', ' 7', ' 8', ' 9', '0', ' 1', ' 2', ' 4', '5', ' 6', ' 7', ' 8', ' 9', '0', ' 1', ' 2', ' 3', ' 4', '5', ' 6', ' 7', ' 8', ' 9', '0', ' 1', ' 2', ' 3', ' 4', '5', ' 6', ' 7', ' 8', ' 9', '0', ' 1', ' 2', ' 3', ' 4', '5', ' 6', ' 7', ' 8', ' 9', '0', ' 1', ' 2', ' 3', ' 4', '5', ' 6', ' 7', ' 8', ' 9', '0', ' 1', ' 2', ' 3', ' 4', '5', ' 6', ' 7', ' 8', ' 9', '0', ' 1', ' 2', ' 3', ' 4', '5', ' 6', ' 7', ' 8', ' 9', '0', ' 1', ' 2', ' 3', ' 4', '5', ' 6', ' 7', ' 8', ' 9']}, '13': {'appliances': ['Aggregate', 'Fridge', 'Chest Freezer', 'Upright Freezer', 'Tumble Dryer', 'Washing Machine', 'Dishwasher', 'Computer Site', 'Television Site', 'Electric Heater', 'Aggregate', 'Fridge-Freezer', 'Washing Machine', 'Dishwasher', 'Television', 'Microwave', 'Toaster', 'Hi-Fi', 'Kettle', 'Oven Extractor Fan', 'Aggregate', 'Toaster', 'Fridge-Freezer', 'Freezer', 'Tumble Dryer', 'Dishwasher', 'Washing Machine', 'Television', 'Microwave', 'Kettle', 'Aggregate', 'Fridge', 'Freezer', 'Fridge-Freezer', 'Washing Machine (1)', 'Washing Machine (2)', 'Computer Site', 'Television Site', 'Microwave', 'Kettle', 'Aggregate', 'Fridge-Freezer', 'Tumble Dryer 3', 'Dishwasher', 'Computer Site', 'Television Site', 'Combination Microwave', 'Kettle', 'Toaster', 'Aggregate', 'Freezer (Utility Room)', 'Washing Machine', 'Dishwasher', 'MJY Computer', 'Television Site', 'Microwave', 'Kettle', 'Toaster', 'PGM Computer', 'Aggregate', 'Fridge', 'Freezer (Garage)', 'Freezer', 'Tumble Dryer', 'Washing Machine', 'Dishwasher', 'Television Site', 'Toaster', 'Kettle', 'Aggregate', 'Fridge', 'Freezer', 'Dryer', 'Washing Machine', 'Toaster', 'Computer', 'Television Site', 'Microwave', 'Kettle', 'Aggregate', 'Fridge-Freezer', 'Washer Dryer', 'Washing Machine', 'Dishwasher', 'Television Site', 'Microwave', 'Kettle', 'Hi-Fi', 'Electric Heater', 'Aggregate', 'Magimix (Blender)', 'Freezer', 'Chest Freezer (In Garage)', 'Fridge-Freezer', 'Washing Machine', 'Dishwasher', 'Television Site', 'Microwave', ' Kenwood KMix', 'Aggregate', 'Fridge', 'Fridge-Freezer', 'Washing Machine', 'Dishwasher', 'Computer Site', 'Microwave', 'Kettle', 'Router', 'Hi-Fi', 'Aggregate', 'Fridge-Freezer', 'Television Site(Lounge)', 'Microwave', 'Kettle', 'Toaster', 'Television Site(Bedroom)', 'Not Used', 'Not Used', 'Not Used', 'Aggregate', 'Television Site', 'Unknown', 'Washing Machine', 'Dishwasher', 'Tumble Dryer', 'Television Site', 'Computer Site', 'Microwave', 'Kettle'], 'keys': ['0', ' 1', ' 2', ' 3', ' 4', '5', ' 6', ' 7', ' 8', ' 9', '0', ' 1', ' 2', ' 3', ' 4', '5', ' 6', ' 7', ' 8', ' 9', '0', ' 1', ' 2', ' 3', ' 4', '5', ' 6', ' 7', ' 8', ' 9', '0', ' 1', ' 2', ' 3', ' 4', '5', ' 6', ' 7', ' 8', ' 9', '0', ' 1', ' 2', ' 4', '5', ' 6', ' 7', ' 8', ' 9', '0', ' 1', ' 2', ' 3', ' 4', '5', ' 6', ' 7', ' 8', ' 9', '0', ' 1', ' 2', ' 3', ' 4', '5', ' 6', ' 7', ' 8', ' 9', '0', ' 1', ' 2', ' 3', ' 4', '5', ' 6', ' 7', ' 8', ' 9', '0', ' 1', ' 2', ' 3', ' 4', '5', ' 6', ' 7', ' 8', ' 9', '0', ' 1', ' 2', ' 3', ' 4', '5', ' 6', ' 7', ' 8', ' 9', '0', ' 1', ' 2', ' 3', ' 4', '5', ' 6', ' 7', ' 8', ' 9', '0', ' 1', ' 2', ' 3', ' 4', '5', ' 6', ' 7', ' 8', ' 9', '0', ' 1', ' 2', ' 3', ' 4', '5', ' 6', ' 7', ' 8', ' 9']}, '15': {'appliances': ['Aggregate', 'Fridge', 'Chest Freezer', 'Upright Freezer', 'Tumble Dryer', 'Washing Machine', 'Dishwasher', 'Computer Site', 'Television Site', 'Electric Heater', 'Aggregate', 'Fridge-Freezer', 'Washing Machine', 'Dishwasher', 'Television', 'Microwave', 'Toaster', 'Hi-Fi', 'Kettle', 'Oven Extractor Fan', 'Aggregate', 'Toaster', 'Fridge-Freezer', 'Freezer', 'Tumble Dryer', 'Dishwasher', 'Washing Machine', 'Television', 'Microwave', 'Kettle', 'Aggregate', 'Fridge', 'Freezer', 'Fridge-Freezer', 'Washing Machine (1)', 'Washing Machine (2)', 'Computer Site', 'Television Site', 'Microwave', 'Kettle', 'Aggregate', 'Fridge-Freezer', 'Tumble Dryer 3', 'Dishwasher', 'Computer Site', 'Television Site', 'Combination Microwave', 'Kettle', 'Toaster', 'Aggregate', 'Freezer (Utility Room)', 'Washing Machine', 'Dishwasher', 'MJY Computer', 'Television Site', 'Microwave', 'Kettle', 'Toaster', 'PGM Computer', 'Aggregate', 'Fridge', 'Freezer (Garage)', 'Freezer', 'Tumble Dryer', 'Washing Machine', 'Dishwasher', 'Television Site', 'Toaster', 'Kettle', 'Aggregate', 'Fridge', 'Freezer', 'Dryer', 'Washing Machine', 'Toaster', 'Computer', 'Television Site', 'Microwave', 'Kettle', 'Aggregate', 'Fridge-Freezer', 'Washer Dryer', 'Washing Machine', 'Dishwasher', 'Television Site', 'Microwave', 'Kettle', 'Hi-Fi', 'Electric Heater', 'Aggregate', 'Magimix (Blender)', 'Freezer', 'Chest Freezer (In Garage)', 'Fridge-Freezer', 'Washing Machine', 'Dishwasher', 'Television Site', 'Microwave', ' Kenwood KMix', 'Aggregate', 'Fridge', 'Fridge-Freezer', 'Washing Machine', 'Dishwasher', 'Computer Site', 'Microwave', 'Kettle', 'Router', 'Hi-Fi', 'Aggregate', 'Fridge-Freezer', 'Television Site(Lounge)', 'Microwave', 'Kettle', 'Toaster', 'Television Site(Bedroom)', 'Not Used', 'Not Used', 'Not Used', 'Aggregate', 'Television Site', 'Unknown', 'Washing Machine', 'Dishwasher', 'Tumble Dryer', 'Television Site', 'Computer Site', 'Microwave', 'Kettle', 'Aggregate', 'Fridge-Freezer', 'Tumble Dryer', 'Washing Machine', 'Dishwasher', 'Computer Site', 'Television Site', 'Microwave', 'Kettle ', 'Toaster'], 'keys': ['0', ' 1', ' 2', ' 3', ' 4', '5', ' 6', ' 7', ' 8', ' 9', '0', ' 1', ' 2', ' 3', ' 4', '5', ' 6', ' 7', ' 8', ' 9', '0', ' 1', ' 2', ' 3', ' 4', '5', ' 6', ' 7', ' 8', ' 9', '0', ' 1', ' 2', ' 3', ' 4', '5', ' 6', ' 7', ' 8', ' 9', '0', ' 1', ' 2', ' 4', '5', ' 6', ' 7', ' 8', ' 9', '0', ' 1', ' 2', ' 3', ' 4', '5', ' 6', ' 7', ' 8', ' 9', '0', ' 1', ' 2', ' 3', ' 4', '5', ' 6', ' 7', ' 8', ' 9', '0', ' 1', ' 2', ' 3', ' 4', '5', ' 6', ' 7', ' 8', ' 9', '0', ' 1', ' 2', ' 3', ' 4', '5', ' 6', ' 7', ' 8', ' 9', '0', ' 1', ' 2', ' 3', ' 4', '5', ' 6', ' 7', ' 8', ' 9', '0', ' 1', ' 2', ' 3', ' 4', '5', ' 6', ' 7', ' 8', ' 9', '0', ' 1', ' 2', ' 3', ' 4', '5', ' 6', ' 7', ' 8', ' 9', '0', ' 1', ' 2', ' 3', ' 4', '5', ' 6', ' 7', ' 8', ' 9', '0', ' 1', ' 2', ' 3', ' 4', '5', ' 6', ' 7', ' 8', ' 9']}, '16': {'appliances': ['Aggregate', 'Fridge', 'Chest Freezer', 'Upright Freezer', 'Tumble Dryer', 'Washing Machine', 'Dishwasher', 'Computer Site', 'Television Site', 'Electric Heater', 'Aggregate', 'Fridge-Freezer', 'Washing Machine', 'Dishwasher', 'Television', 'Microwave', 'Toaster', 'Hi-Fi', 'Kettle', 'Oven Extractor Fan', 'Aggregate', 'Toaster', 'Fridge-Freezer', 'Freezer', 'Tumble Dryer', 'Dishwasher', 'Washing Machine', 'Television', 'Microwave', 'Kettle', 'Aggregate', 'Fridge', 'Freezer', 'Fridge-Freezer', 'Washing Machine (1)', 'Washing Machine (2)', 'Computer Site', 'Television Site', 'Microwave', 'Kettle', 'Aggregate', 'Fridge-Freezer', 'Tumble Dryer 3', 'Dishwasher', 'Computer Site', 'Television Site', 'Combination Microwave', 'Kettle', 'Toaster', 'Aggregate', 'Freezer (Utility Room)', 'Washing Machine', 'Dishwasher', 'MJY Computer', 'Television Site', 'Microwave', 'Kettle', 'Toaster', 'PGM Computer', 'Aggregate', 'Fridge', 'Freezer (Garage)', 'Freezer', 'Tumble Dryer', 'Washing Machine', 'Dishwasher', 'Television Site', 'Toaster', 'Kettle', 'Aggregate', 'Fridge', 'Freezer', 'Dryer', 'Washing Machine', 'Toaster', 'Computer', 'Television Site', 'Microwave', 'Kettle', 'Aggregate', 'Fridge-Freezer', 'Washer Dryer', 'Washing Machine', 'Dishwasher', 'Television Site', 'Microwave', 'Kettle', 'Hi-Fi', 'Electric Heater', 'Aggregate', 'Magimix (Blender)', 'Freezer', 'Chest Freezer (In Garage)', 'Fridge-Freezer', 'Washing Machine', 'Dishwasher', 'Television Site', 'Microwave', ' Kenwood KMix', 'Aggregate', 'Fridge', 'Fridge-Freezer', 'Washing Machine', 'Dishwasher', 'Computer Site', 'Microwave', 'Kettle', 'Router', 'Hi-Fi', 'Aggregate', 'Fridge-Freezer', 'Television Site(Lounge)', 'Microwave', 'Kettle', 'Toaster', 'Television Site(Bedroom)', 'Not Used', 'Not Used', 'Not Used', 'Aggregate', 'Television Site', 'Unknown', 'Washing Machine', 'Dishwasher', 'Tumble Dryer', 'Television Site', 'Computer Site', 'Microwave', 'Kettle', 'Aggregate', 'Fridge-Freezer', 'Tumble Dryer', 'Washing Machine', 'Dishwasher', 'Computer Site', 'Television Site', 'Microwave', 'Kettle ', 'Toaster', 'Aggregate', 'Fridge-Freezer (1)', 'Fridge-Freezer (2)', 'Electric Heater (1)?', 'Electric Heater (2)', 'Washing Machine', 'Dishwasher', 'Computer Site', 'Television Site', 'Dehumidifier/Heater'], 'keys': ['0', ' 1', ' 2', ' 3', ' 4', '5', ' 6', ' 7', ' 8', ' 9', '0', ' 1', ' 2', ' 3', ' 4', '5', ' 6', ' 7', ' 8', ' 9', '0', ' 1', ' 2', ' 3', ' 4', '5', ' 6', ' 7', ' 8', ' 9', '0', ' 1', ' 2', ' 3', ' 4', '5', ' 6', ' 7', ' 8', ' 9', '0', ' 1', ' 2', ' 4', '5', ' 6', ' 7', ' 8', ' 9', '0', ' 1', ' 2', ' 3', ' 4', '5', ' 6', ' 7', ' 8', ' 9', '0', ' 1', ' 2', ' 3', ' 4', '5', ' 6', ' 7', ' 8', ' 9', '0', ' 1', ' 2', ' 3', ' 4', '5', ' 6', ' 7', ' 8', ' 9', '0', ' 1', ' 2', ' 3', ' 4', '5', ' 6', ' 7', ' 8', ' 9', '0', ' 1', ' 2', ' 3', ' 4', '5', ' 6', ' 7', ' 8', ' 9', '0', ' 1', ' 2', ' 3', ' 4', '5', ' 6', ' 7', ' 8', ' 9', '0', ' 1', ' 2', ' 3', ' 4', '5', ' 6', ' 7', ' 8', ' 9', '0', ' 1', ' 2', ' 3', ' 4', '5', ' 6', ' 7', ' 8', ' 9', '0', ' 1', ' 2', ' 3', ' 4', '5', ' 6', ' 7', ' 8', ' 9', '0', ' 1', ' 2', ' 3', '4', ' 5', ' 6', ' 7', '8', ' 9']}, '17': {'appliances': ['Aggregate', 'Fridge', 'Chest Freezer', 'Upright Freezer', 'Tumble Dryer', 'Washing Machine', 'Dishwasher', 'Computer Site', 'Television Site', 'Electric Heater', 'Aggregate', 'Fridge-Freezer', 'Washing Machine', 'Dishwasher', 'Television', 'Microwave', 'Toaster', 'Hi-Fi', 'Kettle', 'Oven Extractor Fan', 'Aggregate', 'Toaster', 'Fridge-Freezer', 'Freezer', 'Tumble Dryer', 'Dishwasher', 'Washing Machine', 'Television', 'Microwave', 'Kettle', 'Aggregate', 'Fridge', 'Freezer', 'Fridge-Freezer', 'Washing Machine (1)', 'Washing Machine (2)', 'Computer Site', 'Television Site', 'Microwave', 'Kettle', 'Aggregate', 'Fridge-Freezer', 'Tumble Dryer 3', 'Dishwasher', 'Computer Site', 'Television Site', 'Combination Microwave', 'Kettle', 'Toaster', 'Aggregate', 'Freezer (Utility Room)', 'Washing Machine', 'Dishwasher', 'MJY Computer', 'Television Site', 'Microwave', 'Kettle', 'Toaster', 'PGM Computer', 'Aggregate', 'Fridge', 'Freezer (Garage)', 'Freezer', 'Tumble Dryer', 'Washing Machine', 'Dishwasher', 'Television Site', 'Toaster', 'Kettle', 'Aggregate', 'Fridge', 'Freezer', 'Dryer', 'Washing Machine', 'Toaster', 'Computer', 'Television Site', 'Microwave', 'Kettle', 'Aggregate', 'Fridge-Freezer', 'Washer Dryer', 'Washing Machine', 'Dishwasher', 'Television Site', 'Microwave', 'Kettle', 'Hi-Fi', 'Electric Heater', 'Aggregate', 'Magimix (Blender)', 'Freezer', 'Chest Freezer (In Garage)', 'Fridge-Freezer', 'Washing Machine', 'Dishwasher', 'Television Site', 'Microwave', ' Kenwood KMix', 'Aggregate', 'Fridge', 'Fridge-Freezer', 'Washing Machine', 'Dishwasher', 'Computer Site', 'Microwave', 'Kettle', 'Router', 'Hi-Fi', 'Aggregate', 'Fridge-Freezer', 'Television Site(Lounge)', 'Microwave', 'Kettle', 'Toaster', 'Television Site(Bedroom)', 'Not Used', 'Not Used', 'Not Used', 'Aggregate', 'Television Site', 'Unknown', 'Washing Machine', 'Dishwasher', 'Tumble Dryer', 'Television Site', 'Computer Site', 'Microwave', 'Kettle', 'Aggregate', 'Fridge-Freezer', 'Tumble Dryer', 'Washing Machine', 'Dishwasher', 'Computer Site', 'Television Site', 'Microwave', 'Kettle ', 'Toaster', 'Aggregate', 'Fridge-Freezer (1)', 'Fridge-Freezer (2)', 'Electric Heater (1)?', 'Electric Heater (2)', 'Washing Machine', 'Dishwasher', 'Computer Site', 'Television Site', 'Dehumidifier/Heater', 'Aggregate', 'Freezer (Garage)', 'Fridge-Freezer', 'Tumble Dryer (Garage)', 'Washing Machine', 'Computer Site', 'Television Site', 'Microwave', 'Kettle', 'Plug Site (Bedroom)'], 'keys': ['0', ' 1', ' 2', ' 3', ' 4', '5', ' 6', ' 7', ' 8', ' 9', '0', ' 1', ' 2', ' 3', ' 4', '5', ' 6', ' 7', ' 8', ' 9', '0', ' 1', ' 2', ' 3', ' 4', '5', ' 6', ' 7', ' 8', ' 9', '0', ' 1', ' 2', ' 3', ' 4', '5', ' 6', ' 7', ' 8', ' 9', '0', ' 1', ' 2', ' 4', '5', ' 6', ' 7', ' 8', ' 9', '0', ' 1', ' 2', ' 3', ' 4', '5', ' 6', ' 7', ' 8', ' 9', '0', ' 1', ' 2', ' 3', ' 4', '5', ' 6', ' 7', ' 8', ' 9', '0', ' 1', ' 2', ' 3', ' 4', '5', ' 6', ' 7', ' 8', ' 9', '0', ' 1', ' 2', ' 3', ' 4', '5', ' 6', ' 7', ' 8', ' 9', '0', ' 1', ' 2', ' 3', ' 4', '5', ' 6', ' 7', ' 8', ' 9', '0', ' 1', ' 2', ' 3', ' 4', '5', ' 6', ' 7', ' 8', ' 9', '0', ' 1', ' 2', ' 3', ' 4', '5', ' 6', ' 7', ' 8', ' 9', '0', ' 1', ' 2', ' 3', ' 4', '5', ' 6', ' 7', ' 8', ' 9', '0', ' 1', ' 2', ' 3', ' 4', '5', ' 6', ' 7', ' 8', ' 9', '0', ' 1', ' 2', ' 3', '4', ' 5', ' 6', ' 7', '8', ' 9', '0', ' 1', ' 2', ' 3', ' 4', '5', ' 6', ' 7', ' 8', ' 9']}, '18': {'appliances': ['Aggregate', 'Fridge', 'Chest Freezer', 'Upright Freezer', 'Tumble Dryer', 'Washing Machine', 'Dishwasher', 'Computer Site', 'Television Site', 'Electric Heater', 'Aggregate', 'Fridge-Freezer', 'Washing Machine', 'Dishwasher', 'Television', 'Microwave', 'Toaster', 'Hi-Fi', 'Kettle', 'Oven Extractor Fan', 'Aggregate', 'Toaster', 'Fridge-Freezer', 'Freezer', 'Tumble Dryer', 'Dishwasher', 'Washing Machine', 'Television', 'Microwave', 'Kettle', 'Aggregate', 'Fridge', 'Freezer', 'Fridge-Freezer', 'Washing Machine (1)', 'Washing Machine (2)', 'Computer Site', 'Television Site', 'Microwave', 'Kettle', 'Aggregate', 'Fridge-Freezer', 'Tumble Dryer 3', 'Dishwasher', 'Computer Site', 'Television Site', 'Combination Microwave', 'Kettle', 'Toaster', 'Aggregate', 'Freezer (Utility Room)', 'Washing Machine', 'Dishwasher', 'MJY Computer', 'Television Site', 'Microwave', 'Kettle', 'Toaster', 'PGM Computer', 'Aggregate', 'Fridge', 'Freezer (Garage)', 'Freezer', 'Tumble Dryer', 'Washing Machine', 'Dishwasher', 'Television Site', 'Toaster', 'Kettle', 'Aggregate', 'Fridge', 'Freezer', 'Dryer', 'Washing Machine', 'Toaster', 'Computer', 'Television Site', 'Microwave', 'Kettle', 'Aggregate', 'Fridge-Freezer', 'Washer Dryer', 'Washing Machine', 'Dishwasher', 'Television Site', 'Microwave', 'Kettle', 'Hi-Fi', 'Electric Heater', 'Aggregate', 'Magimix (Blender)', 'Freezer', 'Chest Freezer (In Garage)', 'Fridge-Freezer', 'Washing Machine', 'Dishwasher', 'Television Site', 'Microwave', ' Kenwood KMix', 'Aggregate', 'Fridge', 'Fridge-Freezer', 'Washing Machine', 'Dishwasher', 'Computer Site', 'Microwave', 'Kettle', 'Router', 'Hi-Fi', 'Aggregate', 'Fridge-Freezer', 'Television Site(Lounge)', 'Microwave', 'Kettle', 'Toaster', 'Television Site(Bedroom)', 'Not Used', 'Not Used', 'Not Used', 'Aggregate', 'Television Site', 'Unknown', 'Washing Machine', 'Dishwasher', 'Tumble Dryer', 'Television Site', 'Computer Site', 'Microwave', 'Kettle', 'Aggregate', 'Fridge-Freezer', 'Tumble Dryer', 'Washing Machine', 'Dishwasher', 'Computer Site', 'Television Site', 'Microwave', 'Kettle ', 'Toaster', 'Aggregate', 'Fridge-Freezer (1)', 'Fridge-Freezer (2)', 'Electric Heater (1)?', 'Electric Heater (2)', 'Washing Machine', 'Dishwasher', 'Computer Site', 'Television Site', 'Dehumidifier/Heater', 'Aggregate', 'Freezer (Garage)', 'Fridge-Freezer', 'Tumble Dryer (Garage)', 'Washing Machine', 'Computer Site', 'Television Site', 'Microwave', 'Kettle', 'Plug Site (Bedroom)', 'Aggregate', 'Fridge(garage)', 'Freezer(garage)', 'Fridge-Freezer', 'Washer Dryer(garage)', 'Washing Machine', 'Dishwasher', 'Desktop Computer', 'Television Site', 'Microwave'], 'keys': ['0', ' 1', ' 2', ' 3', ' 4', '5', ' 6', ' 7', ' 8', ' 9', '0', ' 1', ' 2', ' 3', ' 4', '5', ' 6', ' 7', ' 8', ' 9', '0', ' 1', ' 2', ' 3', ' 4', '5', ' 6', ' 7', ' 8', ' 9', '0', ' 1', ' 2', ' 3', ' 4', '5', ' 6', ' 7', ' 8', ' 9', '0', ' 1', ' 2', ' 4', '5', ' 6', ' 7', ' 8', ' 9', '0', ' 1', ' 2', ' 3', ' 4', '5', ' 6', ' 7', ' 8', ' 9', '0', ' 1', ' 2', ' 3', ' 4', '5', ' 6', ' 7', ' 8', ' 9', '0', ' 1', ' 2', ' 3', ' 4', '5', ' 6', ' 7', ' 8', ' 9', '0', ' 1', ' 2', ' 3', ' 4', '5', ' 6', ' 7', ' 8', ' 9', '0', ' 1', ' 2', ' 3', ' 4', '5', ' 6', ' 7', ' 8', ' 9', '0', ' 1', ' 2', ' 3', ' 4', '5', ' 6', ' 7', ' 8', ' 9', '0', ' 1', ' 2', ' 3', ' 4', '5', ' 6', ' 7', ' 8', ' 9', '0', ' 1', ' 2', ' 3', ' 4', '5', ' 6', ' 7', ' 8', ' 9', '0', ' 1', ' 2', ' 3', ' 4', '5', ' 6', ' 7', ' 8', ' 9', '0', ' 1', ' 2', ' 3', '4', ' 5', ' 6', ' 7', '8', ' 9', '0', ' 1', ' 2', ' 3', ' 4', '5', ' 6', ' 7', ' 8', ' 9', '0', ' 1', ' 2', ' 3', '4', ' 5', ' 6', ' 7', '8', ' 9']}, '19': {'appliances': ['Aggregate', 'Fridge', 'Chest Freezer', 'Upright Freezer', 'Tumble Dryer', 'Washing Machine', 'Dishwasher', 'Computer Site', 'Television Site', 'Electric Heater', 'Aggregate', 'Fridge-Freezer', 'Washing Machine', 'Dishwasher', 'Television', 'Microwave', 'Toaster', 'Hi-Fi', 'Kettle', 'Oven Extractor Fan', 'Aggregate', 'Toaster', 'Fridge-Freezer', 'Freezer', 'Tumble Dryer', 'Dishwasher', 'Washing Machine', 'Television', 'Microwave', 'Kettle', 'Aggregate', 'Fridge', 'Freezer', 'Fridge-Freezer', 'Washing Machine (1)', 'Washing Machine (2)', 'Computer Site', 'Television Site', 'Microwave', 'Kettle', 'Aggregate', 'Fridge-Freezer', 'Tumble Dryer 3', 'Dishwasher', 'Computer Site', 'Television Site', 'Combination Microwave', 'Kettle', 'Toaster', 'Aggregate', 'Freezer (Utility Room)', 'Washing Machine', 'Dishwasher', 'MJY Computer', 'Television Site', 'Microwave', 'Kettle', 'Toaster', 'PGM Computer', 'Aggregate', 'Fridge', 'Freezer (Garage)', 'Freezer', 'Tumble Dryer', 'Washing Machine', 'Dishwasher', 'Television Site', 'Toaster', 'Kettle', 'Aggregate', 'Fridge', 'Freezer', 'Dryer', 'Washing Machine', 'Toaster', 'Computer', 'Television Site', 'Microwave', 'Kettle', 'Aggregate', 'Fridge-Freezer', 'Washer Dryer', 'Washing Machine', 'Dishwasher', 'Television Site', 'Microwave', 'Kettle', 'Hi-Fi', 'Electric Heater', 'Aggregate', 'Magimix (Blender)', 'Freezer', 'Chest Freezer (In Garage)', 'Fridge-Freezer', 'Washing Machine', 'Dishwasher', 'Television Site', 'Microwave', ' Kenwood KMix', 'Aggregate', 'Fridge', 'Fridge-Freezer', 'Washing Machine', 'Dishwasher', 'Computer Site', 'Microwave', 'Kettle', 'Router', 'Hi-Fi', 'Aggregate', 'Fridge-Freezer', 'Television Site(Lounge)', 'Microwave', 'Kettle', 'Toaster', 'Television Site(Bedroom)', 'Not Used', 'Not Used', 'Not Used', 'Aggregate', 'Television Site', 'Unknown', 'Washing Machine', 'Dishwasher', 'Tumble Dryer', 'Television Site', 'Computer Site', 'Microwave', 'Kettle', 'Aggregate', 'Fridge-Freezer', 'Tumble Dryer', 'Washing Machine', 'Dishwasher', 'Computer Site', 'Television Site', 'Microwave', 'Kettle ', 'Toaster', 'Aggregate', 'Fridge-Freezer (1)', 'Fridge-Freezer (2)', 'Electric Heater (1)?', 'Electric Heater (2)', 'Washing Machine', 'Dishwasher', 'Computer Site', 'Television Site', 'Dehumidifier/Heater', 'Aggregate', 'Freezer (Garage)', 'Fridge-Freezer', 'Tumble Dryer (Garage)', 'Washing Machine', 'Computer Site', 'Television Site', 'Microwave', 'Kettle', 'Plug Site (Bedroom)', 'Aggregate', 'Fridge(garage)', 'Freezer(garage)', 'Fridge-Freezer', 'Washer Dryer(garage)', 'Washing Machine', 'Dishwasher', 'Desktop Computer', 'Television Site', 'Microwave', 'Aggregate', 'Fridge & Freezer', 'Washing Machine', 'Television Site', 'Microwave', 'Kettle', 'Toaster', 'Bread-maker', 'Lamp (80Watts)', 'Hi-Fi'], 'keys': ['0', ' 1', ' 2', ' 3', ' 4', '5', ' 6', ' 7', ' 8', ' 9', '0', ' 1', ' 2', ' 3', ' 4', '5', ' 6', ' 7', ' 8', ' 9', '0', ' 1', ' 2', ' 3', ' 4', '5', ' 6', ' 7', ' 8', ' 9', '0', ' 1', ' 2', ' 3', ' 4', '5', ' 6', ' 7', ' 8', ' 9', '0', ' 1', ' 2', ' 4', '5', ' 6', ' 7', ' 8', ' 9', '0', ' 1', ' 2', ' 3', ' 4', '5', ' 6', ' 7', ' 8', ' 9', '0', ' 1', ' 2', ' 3', ' 4', '5', ' 6', ' 7', ' 8', ' 9', '0', ' 1', ' 2', ' 3', ' 4', '5', ' 6', ' 7', ' 8', ' 9', '0', ' 1', ' 2', ' 3', ' 4', '5', ' 6', ' 7', ' 8', ' 9', '0', ' 1', ' 2', ' 3', ' 4', '5', ' 6', ' 7', ' 8', ' 9', '0', ' 1', ' 2', ' 3', ' 4', '5', ' 6', ' 7', ' 8', ' 9', '0', ' 1', ' 2', ' 3', ' 4', '5', ' 6', ' 7', ' 8', ' 9', '0', ' 1', ' 2', ' 3', ' 4', '5', ' 6', ' 7', ' 8', ' 9', '0', ' 1', ' 2', ' 3', ' 4', '5', ' 6', ' 7', ' 8', ' 9', '0', ' 1', ' 2', ' 3', '4', ' 5', ' 6', ' 7', '8', ' 9', '0', ' 1', ' 2', ' 3', ' 4', '5', ' 6', ' 7', ' 8', ' 9', '0', ' 1', ' 2', ' 3', '4', ' 5', ' 6', ' 7', '8', ' 9', '0', ' 1', ' 2', ' 3', ' 4', '5', ' 6', ' 7', ' 8', ' 9']}, '20': {'appliances': ['Aggregate', 'Fridge', 'Chest Freezer', 'Upright Freezer', 'Tumble Dryer', 'Washing Machine', 'Dishwasher', 'Computer Site', 'Television Site', 'Electric Heater', 'Aggregate', 'Fridge-Freezer', 'Washing Machine', 'Dishwasher', 'Television', 'Microwave', 'Toaster', 'Hi-Fi', 'Kettle', 'Oven Extractor Fan', 'Aggregate', 'Toaster', 'Fridge-Freezer', 'Freezer', 'Tumble Dryer', 'Dishwasher', 'Washing Machine', 'Television', 'Microwave', 'Kettle', 'Aggregate', 'Fridge', 'Freezer', 'Fridge-Freezer', 'Washing Machine (1)', 'Washing Machine (2)', 'Computer Site', 'Television Site', 'Microwave', 'Kettle', 'Aggregate', 'Fridge-Freezer', 'Tumble Dryer 3', 'Dishwasher', 'Computer Site', 'Television Site', 'Combination Microwave', 'Kettle', 'Toaster', 'Aggregate', 'Freezer (Utility Room)', 'Washing Machine', 'Dishwasher', 'MJY Computer', 'Television Site', 'Microwave', 'Kettle', 'Toaster', 'PGM Computer', 'Aggregate', 'Fridge', 'Freezer (Garage)', 'Freezer', 'Tumble Dryer', 'Washing Machine', 'Dishwasher', 'Television Site', 'Toaster', 'Kettle', 'Aggregate', 'Fridge', 'Freezer', 'Dryer', 'Washing Machine', 'Toaster', 'Computer', 'Television Site', 'Microwave', 'Kettle', 'Aggregate', 'Fridge-Freezer', 'Washer Dryer', 'Washing Machine', 'Dishwasher', 'Television Site', 'Microwave', 'Kettle', 'Hi-Fi', 'Electric Heater', 'Aggregate', 'Magimix (Blender)', 'Freezer', 'Chest Freezer (In Garage)', 'Fridge-Freezer', 'Washing Machine', 'Dishwasher', 'Television Site', 'Microwave', ' Kenwood KMix', 'Aggregate', 'Fridge', 'Fridge-Freezer', 'Washing Machine', 'Dishwasher', 'Computer Site', 'Microwave', 'Kettle', 'Router', 'Hi-Fi', 'Aggregate', 'Fridge-Freezer', 'Television Site(Lounge)', 'Microwave', 'Kettle', 'Toaster', 'Television Site(Bedroom)', 'Not Used', 'Not Used', 'Not Used', 'Aggregate', 'Television Site', 'Unknown', 'Washing Machine', 'Dishwasher', 'Tumble Dryer', 'Television Site', 'Computer Site', 'Microwave', 'Kettle', 'Aggregate', 'Fridge-Freezer', 'Tumble Dryer', 'Washing Machine', 'Dishwasher', 'Computer Site', 'Television Site', 'Microwave', 'Kettle ', 'Toaster', 'Aggregate', 'Fridge-Freezer (1)', 'Fridge-Freezer (2)', 'Electric Heater (1)?', 'Electric Heater (2)', 'Washing Machine', 'Dishwasher', 'Computer Site', 'Television Site', 'Dehumidifier/Heater', 'Aggregate', 'Freezer (Garage)', 'Fridge-Freezer', 'Tumble Dryer (Garage)', 'Washing Machine', 'Computer Site', 'Television Site', 'Microwave', 'Kettle', 'Plug Site (Bedroom)', 'Aggregate', 'Fridge(garage)', 'Freezer(garage)', 'Fridge-Freezer', 'Washer Dryer(garage)', 'Washing Machine', 'Dishwasher', 'Desktop Computer', 'Television Site', 'Microwave', 'Aggregate', 'Fridge & Freezer', 'Washing Machine', 'Television Site', 'Microwave', 'Kettle', 'Toaster', 'Bread-maker', 'Lamp (80Watts)', 'Hi-Fi', 'Aggregate', 'Fridge', 'Freezer', 'Tumble Dryer', 'Washing Machine', 'Dishwasher', 'Computer Site', 'Television Site', 'Microwave', 'Kettle'], 'keys': ['0', ' 1', ' 2', ' 3', ' 4', '5', ' 6', ' 7', ' 8', ' 9', '0', ' 1', ' 2', ' 3', ' 4', '5', ' 6', ' 7', ' 8', ' 9', '0', ' 1', ' 2', ' 3', ' 4', '5', ' 6', ' 7', ' 8', ' 9', '0', ' 1', ' 2', ' 3', ' 4', '5', ' 6', ' 7', ' 8', ' 9', '0', ' 1', ' 2', ' 4', '5', ' 6', ' 7', ' 8', ' 9', '0', ' 1', ' 2', ' 3', ' 4', '5', ' 6', ' 7', ' 8', ' 9', '0', ' 1', ' 2', ' 3', ' 4', '5', ' 6', ' 7', ' 8', ' 9', '0', ' 1', ' 2', ' 3', ' 4', '5', ' 6', ' 7', ' 8', ' 9', '0', ' 1', ' 2', ' 3', ' 4', '5', ' 6', ' 7', ' 8', ' 9', '0', ' 1', ' 2', ' 3', ' 4', '5', ' 6', ' 7', ' 8', ' 9', '0', ' 1', ' 2', ' 3', ' 4', '5', ' 6', ' 7', ' 8', ' 9', '0', ' 1', ' 2', ' 3', ' 4', '5', ' 6', ' 7', ' 8', ' 9', '0', ' 1', ' 2', ' 3', ' 4', '5', ' 6', ' 7', ' 8', ' 9', '0', ' 1', ' 2', ' 3', ' 4', '5', ' 6', ' 7', ' 8', ' 9', '0', ' 1', ' 2', ' 3', '4', ' 5', ' 6', ' 7', '8', ' 9', '0', ' 1', ' 2', ' 3', ' 4', '5', ' 6', ' 7', ' 8', ' 9', '0', ' 1', ' 2', ' 3', '4', ' 5', ' 6', ' 7', '8', ' 9', '0', ' 1', ' 2', ' 3', ' 4', '5', ' 6', ' 7', ' 8', ' 9', '0', ' 1', ' 2', ' 3', ' 4', ' 5', '6', ' 7', ' 8', ' 9']}, '21': {'appliances': ['Aggregate', 'Fridge', 'Chest Freezer', 'Upright Freezer', 'Tumble Dryer', 'Washing Machine', 'Dishwasher', 'Computer Site', 'Television Site', 'Electric Heater', 'Aggregate', 'Fridge-Freezer', 'Washing Machine', 'Dishwasher', 'Television', 'Microwave', 'Toaster', 'Hi-Fi', 'Kettle', 'Oven Extractor Fan', 'Aggregate', 'Toaster', 'Fridge-Freezer', 'Freezer', 'Tumble Dryer', 'Dishwasher', 'Washing Machine', 'Television', 'Microwave', 'Kettle', 'Aggregate', 'Fridge', 'Freezer', 'Fridge-Freezer', 'Washing Machine (1)', 'Washing Machine (2)', 'Computer Site', 'Television Site', 'Microwave', 'Kettle', 'Aggregate', 'Fridge-Freezer', 'Tumble Dryer 3', 'Dishwasher', 'Computer Site', 'Television Site', 'Combination Microwave', 'Kettle', 'Toaster', 'Aggregate', 'Freezer (Utility Room)', 'Washing Machine', 'Dishwasher', 'MJY Computer', 'Television Site', 'Microwave', 'Kettle', 'Toaster', 'PGM Computer', 'Aggregate', 'Fridge', 'Freezer (Garage)', 'Freezer', 'Tumble Dryer', 'Washing Machine', 'Dishwasher', 'Television Site', 'Toaster', 'Kettle', 'Aggregate', 'Fridge', 'Freezer', 'Dryer', 'Washing Machine', 'Toaster', 'Computer', 'Television Site', 'Microwave', 'Kettle', 'Aggregate', 'Fridge-Freezer', 'Washer Dryer', 'Washing Machine', 'Dishwasher', 'Television Site', 'Microwave', 'Kettle', 'Hi-Fi', 'Electric Heater', 'Aggregate', 'Magimix (Blender)', 'Freezer', 'Chest Freezer (In Garage)', 'Fridge-Freezer', 'Washing Machine', 'Dishwasher', 'Television Site', 'Microwave', ' Kenwood KMix', 'Aggregate', 'Fridge', 'Fridge-Freezer', 'Washing Machine', 'Dishwasher', 'Computer Site', 'Microwave', 'Kettle', 'Router', 'Hi-Fi', 'Aggregate', 'Fridge-Freezer', 'Television Site(Lounge)', 'Microwave', 'Kettle', 'Toaster', 'Television Site(Bedroom)', 'Not Used', 'Not Used', 'Not Used', 'Aggregate', 'Television Site', 'Unknown', 'Washing Machine', 'Dishwasher', 'Tumble Dryer', 'Television Site', 'Computer Site', 'Microwave', 'Kettle', 'Aggregate', 'Fridge-Freezer', 'Tumble Dryer', 'Washing Machine', 'Dishwasher', 'Computer Site', 'Television Site', 'Microwave', 'Kettle ', 'Toaster', 'Aggregate', 'Fridge-Freezer (1)', 'Fridge-Freezer (2)', 'Electric Heater (1)?', 'Electric Heater (2)', 'Washing Machine', 'Dishwasher', 'Computer Site', 'Television Site', 'Dehumidifier/Heater', 'Aggregate', 'Freezer (Garage)', 'Fridge-Freezer', 'Tumble Dryer (Garage)', 'Washing Machine', 'Computer Site', 'Television Site', 'Microwave', 'Kettle', 'Plug Site (Bedroom)', 'Aggregate', 'Fridge(garage)', 'Freezer(garage)', 'Fridge-Freezer', 'Washer Dryer(garage)', 'Washing Machine', 'Dishwasher', 'Desktop Computer', 'Television Site', 'Microwave', 'Aggregate', 'Fridge & Freezer', 'Washing Machine', 'Television Site', 'Microwave', 'Kettle', 'Toaster', 'Bread-maker', 'Lamp (80Watts)', 'Hi-Fi', 'Aggregate', 'Fridge', 'Freezer', 'Tumble Dryer', 'Washing Machine', 'Dishwasher', 'Computer Site', 'Television Site', 'Microwave', 'Kettle', 'Aggregate', 'Fridge-Freezer', 'Tumble Dryer', 'Washing Machine', 'Dishwasher', 'Food Mixer', 'Television', 'Kettle/Toaster', 'Vivarium', 'Pond Pump'], 'keys': ['0', ' 1', ' 2', ' 3', ' 4', '5', ' 6', ' 7', ' 8', ' 9', '0', ' 1', ' 2', ' 3', ' 4', '5', ' 6', ' 7', ' 8', ' 9', '0', ' 1', ' 2', ' 3', ' 4', '5', ' 6', ' 7', ' 8', ' 9', '0', ' 1', ' 2', ' 3', ' 4', '5', ' 6', ' 7', ' 8', ' 9', '0', ' 1', ' 2', ' 4', '5', ' 6', ' 7', ' 8', ' 9', '0', ' 1', ' 2', ' 3', ' 4', '5', ' 6', ' 7', ' 8', ' 9', '0', ' 1', ' 2', ' 3', ' 4', '5', ' 6', ' 7', ' 8', ' 9', '0', ' 1', ' 2', ' 3', ' 4', '5', ' 6', ' 7', ' 8', ' 9', '0', ' 1', ' 2', ' 3', ' 4', '5', ' 6', ' 7', ' 8', ' 9', '0', ' 1', ' 2', ' 3', ' 4', '5', ' 6', ' 7', ' 8', ' 9', '0', ' 1', ' 2', ' 3', ' 4', '5', ' 6', ' 7', ' 8', ' 9', '0', ' 1', ' 2', ' 3', ' 4', '5', ' 6', ' 7', ' 8', ' 9', '0', ' 1', ' 2', ' 3', ' 4', '5', ' 6', ' 7', ' 8', ' 9', '0', ' 1', ' 2', ' 3', ' 4', '5', ' 6', ' 7', ' 8', ' 9', '0', ' 1', ' 2', ' 3', '4', ' 5', ' 6', ' 7', '8', ' 9', '0', ' 1', ' 2', ' 3', ' 4', '5', ' 6', ' 7', ' 8', ' 9', '0', ' 1', ' 2', ' 3', '4', ' 5', ' 6', ' 7', '8', ' 9', '0', ' 1', ' 2', ' 3', ' 4', '5', ' 6', ' 7', ' 8', ' 9', '0', ' 1', ' 2', ' 3', ' 4', ' 5', '6', ' 7', ' 8', ' 9', '0', ' 1', ' 2', ' 3', '4', ' 5', ' 6', ' 7', ' 8', ' 9']}}\n"
     ]
    }
   ],
   "source": [
    "ls, keys, appliances = {} , [], []\n",
    "for i, s in enumerate(content):\n",
    "    if 'House' in s.capitalize():\n",
    "        house = s.split()[1]\n",
    "        for indx in range(1, 6):\n",
    "            if content[i+indx] == '\\t!NOTES\\n':\n",
    "                break\n",
    "            else:\n",
    "                target = [value.split('.') for value in [value for value in content[i+indx].split(',') if value != '\\n']]\n",
    "                indx = [target_value[0] for target_value in target]\n",
    "                values = [target_value[1] for target_value in target]\n",
    "                keys.append([target_value[0] for target_value in target])\n",
    "                appliances.append([target_value[1] for target_value in target])\n",
    "\n",
    "        ls.update({house: {'appliances':  [item.split('\\n')[0] for sublist in appliances for item in sublist], 'keys': [item for sublist in keys for item in sublist]}})\n",
    "\n",
    "print(len(ls))\n",
    "print(ls)\n",
    "#         house.append(s.strip('\\n'))\n",
    "#             print(target)\n",
    "#         print(target2)\n",
    "#         print(target3)\n",
    "#         print(target4)\n",
    "        \n",
    "        \n",
    "#         house.append(s)\n",
    "# #         print(house)\n",
    "#         for value in target:\n",
    "#             indx.append(value[0])\n",
    "#             appliance.append(value[1])\n",
    "# #         print(indx)\n",
    "#         zipped = indx, appliance)\n",
    "#         print(list(zipped))\n",
    "            \n",
    "            \n",
    "    \n",
    "#         target = target.split(',')\n",
    "#         print(target)\n",
    "#         print([i.split('.') for i in target])\n",
    "        \n",
    "#         a = [i.split('.') for i in target]\n",
    "        \n",
    "#         for item in a:\n",
    "#             if item[0] != '\\n':\n",
    "#                 print(item)\n",
    "#                 print(item[0])\n",
    "#                 print(item[1])\n",
    "        \n",
    "#         indx = [t[0] for t in [i.split('.') for i in target]]\n",
    "#         values = [t[1] for t in [i.split('.') for i in target]]\n",
    "#         print(values)\n",
    "#         zipped = zip(indx, house)\n",
    "#         zipped = list(zipped)\n",
    "        "
   ]
  },
  {
   "cell_type": "code",
   "execution_count": 52,
   "id": "3b504aba-aac3-4ead-9948-8859c37b994b",
   "metadata": {},
   "outputs": [
    {
     "ename": "SyntaxError",
     "evalue": "invalid syntax (<ipython-input-52-44c19c54d254>, line 1)",
     "output_type": "error",
     "traceback": [
      "\u001b[1;36m  File \u001b[1;32m\"<ipython-input-52-44c19c54d254>\"\u001b[1;36m, line \u001b[1;32m1\u001b[0m\n\u001b[1;33m    dataframe = pd.DataFrame('House': house, )\u001b[0m\n\u001b[1;37m                                    ^\u001b[0m\n\u001b[1;31mSyntaxError\u001b[0m\u001b[1;31m:\u001b[0m invalid syntax\n"
     ]
    }
   ],
   "source": [
    "dataframe = pd.DataFrame('House': house, )"
   ]
  },
  {
   "cell_type": "code",
   "execution_count": 98,
   "id": "19a2ceca-f4cb-45d6-b0fb-11025075a77f",
   "metadata": {},
   "outputs": [],
   "source": [
    "import pickle\n",
    "\n",
    "# define dictionary\n",
    "\n",
    "# create a binary pickle file \n",
    "f = open(\"file.pkl\",\"wb\")\n",
    "\n",
    "# write the python object (dict) to pickle file\n",
    "pickle.dump(ls,f)\n",
    "\n",
    "# close file\n",
    "f.close()"
   ]
  },
  {
   "cell_type": "code",
   "execution_count": 111,
   "id": "bc0ddc34-896c-414a-9ca3-d4a81f64c0a4",
   "metadata": {},
   "outputs": [],
   "source": [
    "import pickle\n",
    "\n",
    "nested_dict  = pickle.load( open(\"file.pkl\", \"rb\") )"
   ]
  },
  {
   "cell_type": "code",
   "execution_count": 112,
   "id": "d56a8db1-1115-4c66-9bbf-4492ac178a0d",
   "metadata": {},
   "outputs": [],
   "source": [
    "# data"
   ]
  },
  {
   "cell_type": "code",
   "execution_count": 120,
   "id": "a20744f5-4f7d-4946-b610-02cabc274dee",
   "metadata": {},
   "outputs": [],
   "source": [
    " \n",
    "reformed_dict = {}\n",
    "for outerKey, innerDict in nested_dict.items():\n",
    "    for innerKey, values in innerDict.items():\n",
    "        reformed_dict[(outerKey,\n",
    "                       innerKey)] = values\n",
    "\n",
    "# reformed_dict\n",
    "\n",
    "# multiIndex_df = pd.DataFrame(reformed_dict)\n",
    "# multiIndex_df"
   ]
  },
  {
   "cell_type": "code",
   "execution_count": 122,
   "id": "5a3cf27a-ff36-4720-a6f6-3f75ff96d356",
   "metadata": {},
   "outputs": [
    {
     "data": {
      "text/plain": [
       "10"
      ]
     },
     "execution_count": 122,
     "metadata": {},
     "output_type": "execute_result"
    }
   ],
   "source": [
    "len(reformed_dict[('1', 'appliances')])"
   ]
  },
  {
   "cell_type": "code",
   "execution_count": 123,
   "id": "31df8bfd-4915-45d7-b59c-12ab94d54f2a",
   "metadata": {},
   "outputs": [
    {
     "data": {
      "text/plain": [
       "10"
      ]
     },
     "execution_count": 123,
     "metadata": {},
     "output_type": "execute_result"
    }
   ],
   "source": [
    "len(reformed_dict[('1', 'keys')])"
   ]
  },
  {
   "cell_type": "code",
   "execution_count": null,
   "id": "5df6b004-7cab-4b99-b8e2-6855d8ac36c1",
   "metadata": {},
   "outputs": [],
   "source": [
    "for house"
   ]
  }
 ],
 "metadata": {
  "kernelspec": {
   "display_name": "Python 3",
   "language": "python",
   "name": "python3"
  },
  "language_info": {
   "codemirror_mode": {
    "name": "ipython",
    "version": 3
   },
   "file_extension": ".py",
   "mimetype": "text/x-python",
   "name": "python",
   "nbconvert_exporter": "python",
   "pygments_lexer": "ipython3",
   "version": "3.9.2"
  }
 },
 "nbformat": 4,
 "nbformat_minor": 5
}
