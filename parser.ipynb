{
 "cells": [
  {
   "cell_type": "code",
   "execution_count": 1,
   "id": "c8dd7a2d-fcb8-4eee-97ea-e44573966422",
   "metadata": {},
   "outputs": [],
   "source": [
    "import pandas as pd"
   ]
  },
  {
   "cell_type": "code",
   "execution_count": 4,
   "id": "8e4ec136-b74c-4f90-849b-23e0a925f90e",
   "metadata": {},
   "outputs": [
    {
     "name": "stdout",
     "output_type": "stream",
     "text": [
      "240\n",
      "Wall time: 8 ms\n"
     ]
    }
   ],
   "source": [
    "%%time\n",
    "with open('REFIT_Readme.txt') as f:\n",
    "    content = f.readlines()\n",
    "print(len(content))"
   ]
  },
  {
   "cell_type": "code",
   "execution_count": 20,
   "id": "96e49673-f402-4fc9-8c14-b62d1a4e1f60",
   "metadata": {},
   "outputs": [
    {
     "name": "stdout",
     "output_type": "stream",
     "text": [
      "House 1\n",
      "\n",
      "37\n",
      "House 2\n",
      "\n",
      "45\n",
      "House 3\n",
      "\n",
      "50\n",
      "House 4\n",
      "\n",
      "55\n",
      "House 5\n",
      "\n",
      "70\n",
      "House 6\n",
      "\n",
      "84\n",
      "House 7\n",
      "\n",
      "101\n",
      "House 8\n",
      "\n",
      "111\n",
      "House 9\n",
      "\n",
      "123\n",
      "House 10\n",
      "\n",
      "131\n",
      "House 11\n",
      "\n",
      "146\n",
      "House 12\n",
      "\n",
      "153\n",
      "House 13\n",
      "\n",
      "158\n",
      "House 15\n",
      "\n",
      "173\n",
      "House 16\n",
      "\n",
      "183\n",
      "House 17\n",
      "\n",
      "193\n",
      "House 18\n",
      "\n",
      "210\n",
      "House 19\n",
      "\n",
      "222\n",
      "House 20\n",
      "\n",
      "230\n",
      "House 21\n",
      "\n",
      "235\n"
     ]
    }
   ],
   "source": [
    "for i, s in enumerate(content):\n",
    "    if 'House' in s.capitalize():\n",
    "        print(s)\n",
    "        print(i)\n",
    "        "
   ]
  },
  {
   "cell_type": "code",
   "execution_count": null,
   "id": "3b504aba-aac3-4ead-9948-8859c37b994b",
   "metadata": {},
   "outputs": [],
   "source": []
  },
  {
   "cell_type": "code",
   "execution_count": 10,
   "id": "bc0ddc34-896c-414a-9ca3-d4a81f64c0a4",
   "metadata": {},
   "outputs": [],
   "source": [
    "a = []\n",
    "for each_line in content:\n",
    "    # split the string at ':'\n",
    "    step_0 = each_line.split('House')\n",
    "    if step_0 == 'House':\n",
    "        a.append(step_0)\n",
    "    "
   ]
  },
  {
   "cell_type": "code",
   "execution_count": 11,
   "id": "a20744f5-4f7d-4946-b610-02cabc274dee",
   "metadata": {},
   "outputs": [
    {
     "data": {
      "text/plain": [
       "[]"
      ]
     },
     "execution_count": 11,
     "metadata": {},
     "output_type": "execute_result"
    }
   ],
   "source": [
    "a"
   ]
  },
  {
   "cell_type": "code",
   "execution_count": null,
   "id": "5a3cf27a-ff36-4720-a6f6-3f75ff96d356",
   "metadata": {},
   "outputs": [],
   "source": []
  }
 ],
 "metadata": {
  "kernelspec": {
   "display_name": "Python 3",
   "language": "python",
   "name": "python3"
  },
  "language_info": {
   "codemirror_mode": {
    "name": "ipython",
    "version": 3
   },
   "file_extension": ".py",
   "mimetype": "text/x-python",
   "name": "python",
   "nbconvert_exporter": "python",
   "pygments_lexer": "ipython3",
   "version": "3.9.2"
  }
 },
 "nbformat": 4,
 "nbformat_minor": 5
}
