{
 "cells": [
  {
   "cell_type": "code",
   "execution_count": 1,
   "id": "04e04564-120b-45d4-9b89-d25f25420603",
   "metadata": {},
   "outputs": [],
   "source": [
    "from refit_loader.data_loader import REFIT_Loader"
   ]
  },
  {
   "cell_type": "code",
   "execution_count": 2,
   "id": "fd768483-abd0-42e5-a488-045e0f505f35",
   "metadata": {},
   "outputs": [
    {
     "name": "stdout",
     "output_type": "stream",
     "text": [
      "Followings are the refit_loader configuration \n",
      "{'DATA_FOLDER': 'data/refit/', 'DATA_TYPE': '.csv', 'README_FILE': 'refit_loader/REFIT_Readme.txt', 'REFIT_HOUSES': [1, 2, 3, 4, 5, 6, 7, 8, 9, 10, 11, 12, 13, 15, 16, 17, 18, 19, 20, 21]}\n",
      "\n",
      "Loading specified buildings: [1, 2, 3, 4, 5, 6, 7, 8, 9, 10, 11, 12, 13, 15, 16, 17, 18, 19, 20, 21]\n",
      "Parsing the readme file specified: refit_loader/REFIT_Readme.txt\n"
     ]
    }
   ],
   "source": [
    "refit = REFIT_Loader()"
   ]
  },
  {
   "cell_type": "markdown",
   "id": "06dc4d11-331c-4a77-b10b-47035b79ecca",
   "metadata": {},
   "source": [
    "## Load data for selected appliance (Kettle) and selected houses (House 2 and House 3)"
   ]
  },
  {
   "cell_type": "code",
   "execution_count": 3,
   "id": "61c7cfdb-db72-47fb-b992-d4ad77af8a05",
   "metadata": {},
   "outputs": [
    {
     "name": "stdout",
     "output_type": "stream",
     "text": [
      "Loading data for appliance KETTLE ...\n",
      "Fetching KETTLE data for House 2\n",
      "Fetching KETTLE data for House 3\n",
      "Wall time: 14.2 s\n"
     ]
    }
   ],
   "source": [
    "%%time\n",
    "kettle = refit.get_appliance_data('Kettle', houses=[2,3])"
   ]
  },
  {
   "cell_type": "markdown",
   "source": [
    "## Resampling"
   ],
   "metadata": {
    "collapsed": false
   }
  },
  {
   "cell_type": "code",
   "execution_count": 4,
   "outputs": [
    {
     "name": "stdout",
     "output_type": "stream",
     "text": [
      "Resampling for house number:  2\n",
      "Resampling for house number:  3\n",
      "Updating data with resampled dataset...\n"
     ]
    }
   ],
   "source": [
    "kettle.resample()"
   ],
   "metadata": {
    "collapsed": false
   }
  },
  {
   "cell_type": "markdown",
   "source": [
    "## Normalization"
   ],
   "metadata": {
    "collapsed": false
   }
  },
  {
   "cell_type": "code",
   "execution_count": 6,
   "outputs": [
    {
     "name": "stdout",
     "output_type": "stream",
     "text": [
      "Normalizing for house number:  2\n",
      "Normalizing for house number:  3\n",
      "Updating data with normalized dataset...\n"
     ]
    }
   ],
   "source": [
    "kettle.normalize(scaler='standard', scalars_directory='scalers/')"
   ],
   "metadata": {
    "collapsed": false
   }
  },
  {
   "cell_type": "code",
   "execution_count": 7,
   "outputs": [
    {
     "data": {
      "text/plain": "{2:                      aggregate    kettle\n time                                    \n 2013-09-17 22:08:08   0.368944 -0.080603\n 2013-09-17 22:08:16   0.367881 -0.080603\n 2013-09-17 22:08:24   0.367881 -0.080603\n 2013-09-17 22:08:32   0.376387 -0.080603\n 2013-09-17 22:08:40   0.374260 -0.080603\n ...                        ...       ...\n 2015-05-28 08:05:04  -0.037204 -0.080603\n 2015-05-28 08:05:12  -0.028166 -0.080603\n 2015-05-28 08:05:20  -0.015939 -0.080603\n 2015-05-28 08:05:28  -0.037204 -0.080603\n 2015-05-28 08:05:36  -0.034014 -0.080603\n \n [6668082 rows x 2 columns],\n 3:                      aggregate    kettle\n time                                    \n 2013-09-25 19:21:04  -0.221424 -0.097813\n 2013-09-25 19:21:12  -0.221942 -0.097813\n 2013-09-25 19:21:20  -0.225567 -0.097813\n 2013-09-25 19:21:28  -0.220388 -0.097813\n 2013-09-25 19:21:36  -0.220388 -0.097813\n ...                        ...       ...\n 2015-06-02 10:55:04   2.103915 -0.097813\n 2015-06-02 10:55:12   2.147418 -0.097813\n 2015-06-02 10:55:20   1.899865 -0.097813\n 2015-06-02 10:55:28   1.918509 -0.097813\n 2015-06-02 10:55:36   2.208529 -0.097813\n \n [6638210 rows x 2 columns]}"
     },
     "execution_count": 7,
     "metadata": {},
     "output_type": "execute_result"
    }
   ],
   "source": [
    "kettle.data"
   ],
   "metadata": {
    "collapsed": false
   }
  }
 ],
 "metadata": {
  "kernelspec": {
   "display_name": "Python 3 (ipykernel)",
   "language": "python",
   "name": "python3"
  },
  "language_info": {
   "codemirror_mode": {
    "name": "ipython",
    "version": 3
   },
   "file_extension": ".py",
   "mimetype": "text/x-python",
   "name": "python",
   "nbconvert_exporter": "python",
   "pygments_lexer": "ipython3",
   "version": "3.10.6"
  }
 },
 "nbformat": 4,
 "nbformat_minor": 5
}
